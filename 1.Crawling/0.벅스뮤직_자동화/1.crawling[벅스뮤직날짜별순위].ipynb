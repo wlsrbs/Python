{
 "cells": [
  {
   "cell_type": "markdown",
   "metadata": {},
   "source": [
    "## 벅스 뮤직 탑 100 크롤링 후 저장"
   ]
  },
  {
   "cell_type": "code",
   "execution_count": 1,
   "metadata": {},
   "outputs": [
    {
     "data": {
      "text/html": [
       "<div>\n",
       "<style scoped>\n",
       "    .dataframe tbody tr th:only-of-type {\n",
       "        vertical-align: middle;\n",
       "    }\n",
       "\n",
       "    .dataframe tbody tr th {\n",
       "        vertical-align: top;\n",
       "    }\n",
       "\n",
       "    .dataframe thead th {\n",
       "        text-align: right;\n",
       "    }\n",
       "</style>\n",
       "<table border=\"1\" class=\"dataframe\">\n",
       "  <thead>\n",
       "    <tr style=\"text-align: right;\">\n",
       "      <th></th>\n",
       "      <th>제목</th>\n",
       "      <th>가수</th>\n",
       "    </tr>\n",
       "    <tr>\n",
       "      <th>순위</th>\n",
       "      <th></th>\n",
       "      <th></th>\n",
       "    </tr>\n",
       "  </thead>\n",
       "  <tbody>\n",
       "    <tr>\n",
       "      <th>1</th>\n",
       "      <td>REBEL HEART</td>\n",
       "      <td>IVE (아이브)</td>\n",
       "    </tr>\n",
       "    <tr>\n",
       "      <th>2</th>\n",
       "      <td>Whiplash</td>\n",
       "      <td>aespa</td>\n",
       "    </tr>\n",
       "    <tr>\n",
       "      <th>3</th>\n",
       "      <td>toxic till the end</td>\n",
       "      <td>로제(ROSÉ)</td>\n",
       "    </tr>\n",
       "    <tr>\n",
       "      <th>4</th>\n",
       "      <td>HOME SWEET HOME (feat. 태양, 대성)</td>\n",
       "      <td>G-DRAGON</td>\n",
       "    </tr>\n",
       "    <tr>\n",
       "      <th>5</th>\n",
       "      <td>Drowning</td>\n",
       "      <td>WOODZ</td>\n",
       "    </tr>\n",
       "  </tbody>\n",
       "</table>\n",
       "</div>"
      ],
      "text/plain": [
       "                                제목         가수\n",
       "순위                                           \n",
       "1                      REBEL HEART  IVE (아이브)\n",
       "2                         Whiplash      aespa\n",
       "3               toxic till the end   로제(ROSÉ)\n",
       "4   HOME SWEET HOME (feat. 태양, 대성)   G-DRAGON\n",
       "5                         Drowning      WOODZ"
      ]
     },
     "execution_count": 1,
     "metadata": {},
     "output_type": "execute_result"
    }
   ],
   "source": [
    "import requests\n",
    "from bs4 import BeautifulSoup  \n",
    "import pandas as pd\n",
    "\n",
    "url = 'https://music.bugs.co.kr/chart'\n",
    "\n",
    "res = requests.get(url)\n",
    "          \n",
    "soup = BeautifulSoup(res.content, 'html.parser')\n",
    "\n",
    "datas = soup.select('#CHARTrealtime > table > tbody > tr')\n",
    "\n",
    "bugs_df = pd.DataFrame(columns=['순위','제목','가수'])\n",
    "\n",
    "for idx,data in enumerate(datas):\n",
    "    rank = data.select_one('div.ranking > strong').text\n",
    "    title = data.select_one('p.title > a').text\n",
    "    artist = data.select_one('p.artist > a').text\n",
    "    \n",
    "    bugs_df.loc[idx] = [rank,title,artist]\n",
    "        \n",
    "\n",
    "bugs_df = bugs_df.set_index('순위')\n",
    "bugs_df.head()\n",
    "\n",
    "# bugs_df.to_csv(\"./data/벅스탑100크롤링.csv\",encoding='cp949')"
   ]
  },
  {
   "cell_type": "markdown",
   "metadata": {},
   "source": [
    "## 벅스 뮤직 날짜별 순위"
   ]
  },
  {
   "attachments": {},
   "cell_type": "markdown",
   "metadata": {},
   "source": [
    "### URL 살펴보기\n",
    "* 자동화를 위해서는 URL에 패턴이 필요하다."
   ]
  },
  {
   "cell_type": "code",
   "execution_count": null,
   "metadata": {},
   "outputs": [],
   "source": [
    "https://music.bugs.co.kr/chart/track/day/total?chartdate=20250101\n",
    "https://music.bugs.co.kr/chart/track/day/total?chartdate=20250110\n",
    "https://music.bugs.co.kr/chart/track/day/total?chartdate=20250119\n",
    "https://music.bugs.co.kr/chart/track/day/total?chartdate=20250124\n",
    "\n",
    "# 결론:\n",
    "# 기본 URL : https://music.bugs.co.kr/chart/track/day/total?chartdate=\n",
    "# 가공할 값 : 20250124 (형식:yyyymmdd)"
   ]
  },
  {
   "attachments": {},
   "cell_type": "markdown",
   "metadata": {},
   "source": [
    "### 날짜 가공하는 법\n",
    "\n",
    "* 파이썬 코드 버전\n",
    "* 현재의 날짜로 부터 30일 전까지의 모든 날짜를 출력"
   ]
  },
  {
   "cell_type": "code",
   "execution_count": 2,
   "metadata": {},
   "outputs": [],
   "source": [
    "from datetime import datetime, timedelta\n",
    "\n",
    "end_date = datetime.now()\n",
    "start_date = end_date - timedelta(days=30)\n",
    "delta = timedelta(days=1)"
   ]
  },
  {
   "cell_type": "code",
   "execution_count": 4,
   "metadata": {},
   "outputs": [
    {
     "name": "stdout",
     "output_type": "stream",
     "text": [
      "2025-01-24 01:21:30.406318\n",
      "2024-12-25 01:21:30.406318\n",
      "1 day, 0:00:00\n"
     ]
    }
   ],
   "source": [
    "print(end_date)\n",
    "print(start_date)\n",
    "print(delta)"
   ]
  },
  {
   "cell_type": "code",
   "execution_count": 6,
   "metadata": {},
   "outputs": [],
   "source": [
    "current_date = start_date\n",
    "dateStr_lst = []\n",
    "while current_date <= end_date:\n",
    "    dstr = current_date.strftime('%Y%m%d')\n",
    "    # print(dstr)\n",
    "    dateStr_lst.append(dstr)\n",
    "    current_date += delta"
   ]
  },
  {
   "cell_type": "code",
   "execution_count": 7,
   "metadata": {},
   "outputs": [
    {
     "data": {
      "text/plain": [
       "['20241225',\n",
       " '20241226',\n",
       " '20241227',\n",
       " '20241228',\n",
       " '20241229',\n",
       " '20241230',\n",
       " '20241231',\n",
       " '20250101',\n",
       " '20250102',\n",
       " '20250103']"
      ]
     },
     "execution_count": 7,
     "metadata": {},
     "output_type": "execute_result"
    }
   ],
   "source": [
    "dateStr_lst[:10]"
   ]
  },
  {
   "cell_type": "code",
   "execution_count": 8,
   "metadata": {},
   "outputs": [],
   "source": [
    "# 함수로 만들기\n",
    "# 함수이름:getDateStrList_From_Now\n",
    "# 매개변수: default 30일\n",
    "\n",
    "def getDateStrList_From_Now(periods=30):\n",
    "    from datetime import datetime, timedelta\n",
    "\n",
    "    end_date = datetime.now()\n",
    "    start_date = end_date - timedelta(days=periods)\n",
    "    delta = timedelta(days=1)\n",
    "\n",
    "    current_date = start_date\n",
    "    dateStr_lst = []\n",
    "    while current_date <= end_date:\n",
    "        dstr = current_date.strftime(\"%Y%m%d\")\n",
    "        # print(dstr)\n",
    "        dateStr_lst.append(dstr)\n",
    "        current_date += delta\n",
    "    return dateStr_lst"
   ]
  },
  {
   "cell_type": "code",
   "execution_count": 15,
   "metadata": {},
   "outputs": [
    {
     "data": {
      "text/plain": [
       "['20241225', '20241226', '20241227']"
      ]
     },
     "execution_count": 15,
     "metadata": {},
     "output_type": "execute_result"
    }
   ],
   "source": [
    "getDateStrList_From_Now()[:3]"
   ]
  },
  {
   "cell_type": "code",
   "execution_count": 17,
   "metadata": {},
   "outputs": [
    {
     "data": {
      "text/plain": [
       "31"
      ]
     },
     "execution_count": 17,
     "metadata": {},
     "output_type": "execute_result"
    }
   ],
   "source": [
    "len(getDateStrList_From_Now())"
   ]
  },
  {
   "cell_type": "markdown",
   "metadata": {},
   "source": [
    "### URL 만들기"
   ]
  },
  {
   "cell_type": "code",
   "execution_count": 18,
   "metadata": {},
   "outputs": [
    {
     "name": "stdout",
     "output_type": "stream",
     "text": [
      "https://music.bugs.co.kr/chart/track/day/total?chartdate=20250121\n",
      "https://music.bugs.co.kr/chart/track/day/total?chartdate=20250122\n",
      "https://music.bugs.co.kr/chart/track/day/total?chartdate=20250123\n",
      "https://music.bugs.co.kr/chart/track/day/total?chartdate=20250124\n"
     ]
    }
   ],
   "source": [
    "periods = 3\n",
    "\n",
    "basic_url = \"https://music.bugs.co.kr/chart/track/day/total?chartdate=\"\n",
    "\n",
    "range_date = getDateStrList_From_Now(periods)\n",
    "\n",
    "for rdate in range_date:\n",
    "    url = basic_url + rdate\n",
    "    print(url)"
   ]
  },
  {
   "attachments": {},
   "cell_type": "markdown",
   "metadata": {},
   "source": [
    "### 오늘날짜 순위 크롤링"
   ]
  },
  {
   "cell_type": "code",
   "execution_count": 37,
   "metadata": {},
   "outputs": [
    {
     "data": {
      "text/html": [
       "<div>\n",
       "<style scoped>\n",
       "    .dataframe tbody tr th:only-of-type {\n",
       "        vertical-align: middle;\n",
       "    }\n",
       "\n",
       "    .dataframe tbody tr th {\n",
       "        vertical-align: top;\n",
       "    }\n",
       "\n",
       "    .dataframe thead th {\n",
       "        text-align: right;\n",
       "    }\n",
       "</style>\n",
       "<table border=\"1\" class=\"dataframe\">\n",
       "  <thead>\n",
       "    <tr style=\"text-align: right;\">\n",
       "      <th></th>\n",
       "      <th>순위</th>\n",
       "      <th>제목</th>\n",
       "      <th>가수</th>\n",
       "    </tr>\n",
       "    <tr>\n",
       "      <th>날짜</th>\n",
       "      <th></th>\n",
       "      <th></th>\n",
       "      <th></th>\n",
       "    </tr>\n",
       "  </thead>\n",
       "  <tbody>\n",
       "    <tr>\n",
       "      <th>2025-01-24</th>\n",
       "      <td>1</td>\n",
       "      <td>REBEL HEART</td>\n",
       "      <td>IVE (아이브)</td>\n",
       "    </tr>\n",
       "    <tr>\n",
       "      <th>2025-01-24</th>\n",
       "      <td>2</td>\n",
       "      <td>Whiplash</td>\n",
       "      <td>aespa</td>\n",
       "    </tr>\n",
       "    <tr>\n",
       "      <th>2025-01-24</th>\n",
       "      <td>3</td>\n",
       "      <td>toxic till the end</td>\n",
       "      <td>로제(ROSÉ)</td>\n",
       "    </tr>\n",
       "    <tr>\n",
       "      <th>2025-01-24</th>\n",
       "      <td>4</td>\n",
       "      <td>HOME SWEET HOME (feat. 태양, 대성)</td>\n",
       "      <td>G-DRAGON</td>\n",
       "    </tr>\n",
       "    <tr>\n",
       "      <th>2025-01-24</th>\n",
       "      <td>5</td>\n",
       "      <td>APT.</td>\n",
       "      <td>로제(ROSÉ)</td>\n",
       "    </tr>\n",
       "  </tbody>\n",
       "</table>\n",
       "</div>"
      ],
      "text/plain": [
       "           순위                              제목         가수\n",
       "날짜                                                      \n",
       "2025-01-24  1                     REBEL HEART  IVE (아이브)\n",
       "2025-01-24  2                        Whiplash      aespa\n",
       "2025-01-24  3              toxic till the end   로제(ROSÉ)\n",
       "2025-01-24  4  HOME SWEET HOME (feat. 태양, 대성)   G-DRAGON\n",
       "2025-01-24  5                            APT.   로제(ROSÉ)"
      ]
     },
     "execution_count": 37,
     "metadata": {},
     "output_type": "execute_result"
    }
   ],
   "source": [
    "import requests\n",
    "import pandas as pd\n",
    "from bs4 import BeautifulSoup \n",
    "\n",
    "head = {'User-Agent':'Mozilla/5.0 (Windows NT 10.0; Win64; x64) AppleWebKit/537.36 (KHTML, like Gecko) Chrome/131.0.0.0 Safari/537.36'}\n",
    "url = 'https://music.bugs.co.kr/chart/track/day/total?chartdate=20250124'\n",
    "\n",
    "res = requests.get(url, headers=head)\n",
    "soup = BeautifulSoup(res.content, 'html.parser')\n",
    "\n",
    "datas = soup.select('#CHARTday > table > tbody > tr')\n",
    "\n",
    "bugs_df = pd.DataFrame(columns=['날짜','순위','제목','가수'])\n",
    "\n",
    "for idx,data in enumerate(datas):\n",
    "    rank = data.select_one('div.ranking > strong').text\n",
    "    title = data.select_one('p.title > a').text\n",
    "    artist = data.select_one('p.artist > a').text\n",
    "\n",
    "    bugs_df.loc[idx] = ['2025-01-24',rank,title,artist]\n",
    "\n",
    "bugs_df = bugs_df.set_index('날짜')\n",
    "bugs_df.head()\n",
    "\n",
    "# bugs_df.to_csv(\"./data/벅스탑100크롤링_날짜.csv\")"
   ]
  },
  {
   "cell_type": "markdown",
   "metadata": {},
   "source": [
    "### 자동 크롤링"
   ]
  },
  {
   "cell_type": "code",
   "execution_count": 51,
   "metadata": {},
   "outputs": [],
   "source": [
    "# for i in range(3):\n",
    "#     for j in range(100):\n",
    "#         print(i*100 + j)"
   ]
  },
  {
   "cell_type": "code",
   "execution_count": 52,
   "metadata": {},
   "outputs": [
    {
     "name": "stdout",
     "output_type": "stream",
     "text": [
      "https://music.bugs.co.kr/chart/track/day/total?chartdate=20241016\n",
      "https://music.bugs.co.kr/chart/track/day/total?chartdate=20241017\n",
      "https://music.bugs.co.kr/chart/track/day/total?chartdate=20241018\n",
      "https://music.bugs.co.kr/chart/track/day/total?chartdate=20241019\n",
      "https://music.bugs.co.kr/chart/track/day/total?chartdate=20241020\n",
      "https://music.bugs.co.kr/chart/track/day/total?chartdate=20241021\n",
      "https://music.bugs.co.kr/chart/track/day/total?chartdate=20241022\n",
      "https://music.bugs.co.kr/chart/track/day/total?chartdate=20241023\n",
      "https://music.bugs.co.kr/chart/track/day/total?chartdate=20241024\n",
      "https://music.bugs.co.kr/chart/track/day/total?chartdate=20241025\n",
      "https://music.bugs.co.kr/chart/track/day/total?chartdate=20241026\n",
      "https://music.bugs.co.kr/chart/track/day/total?chartdate=20241027\n",
      "https://music.bugs.co.kr/chart/track/day/total?chartdate=20241028\n",
      "https://music.bugs.co.kr/chart/track/day/total?chartdate=20241029\n",
      "https://music.bugs.co.kr/chart/track/day/total?chartdate=20241030\n",
      "https://music.bugs.co.kr/chart/track/day/total?chartdate=20241031\n",
      "https://music.bugs.co.kr/chart/track/day/total?chartdate=20241101\n",
      "https://music.bugs.co.kr/chart/track/day/total?chartdate=20241102\n",
      "https://music.bugs.co.kr/chart/track/day/total?chartdate=20241103\n",
      "https://music.bugs.co.kr/chart/track/day/total?chartdate=20241104\n",
      "https://music.bugs.co.kr/chart/track/day/total?chartdate=20241105\n",
      "https://music.bugs.co.kr/chart/track/day/total?chartdate=20241106\n",
      "https://music.bugs.co.kr/chart/track/day/total?chartdate=20241107\n",
      "https://music.bugs.co.kr/chart/track/day/total?chartdate=20241108\n",
      "https://music.bugs.co.kr/chart/track/day/total?chartdate=20241109\n",
      "https://music.bugs.co.kr/chart/track/day/total?chartdate=20241110\n",
      "https://music.bugs.co.kr/chart/track/day/total?chartdate=20241111\n",
      "https://music.bugs.co.kr/chart/track/day/total?chartdate=20241112\n",
      "https://music.bugs.co.kr/chart/track/day/total?chartdate=20241113\n",
      "https://music.bugs.co.kr/chart/track/day/total?chartdate=20241114\n",
      "https://music.bugs.co.kr/chart/track/day/total?chartdate=20241115\n",
      "https://music.bugs.co.kr/chart/track/day/total?chartdate=20241116\n",
      "https://music.bugs.co.kr/chart/track/day/total?chartdate=20241117\n",
      "https://music.bugs.co.kr/chart/track/day/total?chartdate=20241118\n",
      "https://music.bugs.co.kr/chart/track/day/total?chartdate=20241119\n",
      "https://music.bugs.co.kr/chart/track/day/total?chartdate=20241120\n",
      "https://music.bugs.co.kr/chart/track/day/total?chartdate=20241121\n",
      "https://music.bugs.co.kr/chart/track/day/total?chartdate=20241122\n",
      "https://music.bugs.co.kr/chart/track/day/total?chartdate=20241123\n",
      "https://music.bugs.co.kr/chart/track/day/total?chartdate=20241124\n",
      "https://music.bugs.co.kr/chart/track/day/total?chartdate=20241125\n",
      "https://music.bugs.co.kr/chart/track/day/total?chartdate=20241126\n",
      "https://music.bugs.co.kr/chart/track/day/total?chartdate=20241127\n",
      "https://music.bugs.co.kr/chart/track/day/total?chartdate=20241128\n",
      "https://music.bugs.co.kr/chart/track/day/total?chartdate=20241129\n",
      "https://music.bugs.co.kr/chart/track/day/total?chartdate=20241130\n",
      "https://music.bugs.co.kr/chart/track/day/total?chartdate=20241201\n",
      "https://music.bugs.co.kr/chart/track/day/total?chartdate=20241202\n",
      "https://music.bugs.co.kr/chart/track/day/total?chartdate=20241203\n",
      "https://music.bugs.co.kr/chart/track/day/total?chartdate=20241204\n",
      "https://music.bugs.co.kr/chart/track/day/total?chartdate=20241205\n",
      "https://music.bugs.co.kr/chart/track/day/total?chartdate=20241206\n",
      "https://music.bugs.co.kr/chart/track/day/total?chartdate=20241207\n",
      "https://music.bugs.co.kr/chart/track/day/total?chartdate=20241208\n",
      "https://music.bugs.co.kr/chart/track/day/total?chartdate=20241209\n",
      "https://music.bugs.co.kr/chart/track/day/total?chartdate=20241210\n",
      "https://music.bugs.co.kr/chart/track/day/total?chartdate=20241211\n",
      "https://music.bugs.co.kr/chart/track/day/total?chartdate=20241212\n",
      "https://music.bugs.co.kr/chart/track/day/total?chartdate=20241213\n",
      "https://music.bugs.co.kr/chart/track/day/total?chartdate=20241214\n",
      "https://music.bugs.co.kr/chart/track/day/total?chartdate=20241215\n",
      "https://music.bugs.co.kr/chart/track/day/total?chartdate=20241216\n",
      "https://music.bugs.co.kr/chart/track/day/total?chartdate=20241217\n",
      "https://music.bugs.co.kr/chart/track/day/total?chartdate=20241218\n",
      "https://music.bugs.co.kr/chart/track/day/total?chartdate=20241219\n",
      "https://music.bugs.co.kr/chart/track/day/total?chartdate=20241220\n",
      "https://music.bugs.co.kr/chart/track/day/total?chartdate=20241221\n",
      "https://music.bugs.co.kr/chart/track/day/total?chartdate=20241222\n",
      "https://music.bugs.co.kr/chart/track/day/total?chartdate=20241223\n",
      "https://music.bugs.co.kr/chart/track/day/total?chartdate=20241224\n",
      "https://music.bugs.co.kr/chart/track/day/total?chartdate=20241225\n",
      "https://music.bugs.co.kr/chart/track/day/total?chartdate=20241226\n",
      "https://music.bugs.co.kr/chart/track/day/total?chartdate=20241227\n",
      "https://music.bugs.co.kr/chart/track/day/total?chartdate=20241228\n",
      "https://music.bugs.co.kr/chart/track/day/total?chartdate=20241229\n",
      "https://music.bugs.co.kr/chart/track/day/total?chartdate=20241230\n",
      "https://music.bugs.co.kr/chart/track/day/total?chartdate=20241231\n",
      "https://music.bugs.co.kr/chart/track/day/total?chartdate=20250101\n",
      "https://music.bugs.co.kr/chart/track/day/total?chartdate=20250102\n",
      "https://music.bugs.co.kr/chart/track/day/total?chartdate=20250103\n",
      "https://music.bugs.co.kr/chart/track/day/total?chartdate=20250104\n",
      "https://music.bugs.co.kr/chart/track/day/total?chartdate=20250105\n",
      "https://music.bugs.co.kr/chart/track/day/total?chartdate=20250106\n",
      "https://music.bugs.co.kr/chart/track/day/total?chartdate=20250107\n",
      "https://music.bugs.co.kr/chart/track/day/total?chartdate=20250108\n",
      "https://music.bugs.co.kr/chart/track/day/total?chartdate=20250109\n",
      "https://music.bugs.co.kr/chart/track/day/total?chartdate=20250110\n",
      "https://music.bugs.co.kr/chart/track/day/total?chartdate=20250111\n",
      "https://music.bugs.co.kr/chart/track/day/total?chartdate=20250112\n",
      "https://music.bugs.co.kr/chart/track/day/total?chartdate=20250113\n",
      "https://music.bugs.co.kr/chart/track/day/total?chartdate=20250114\n",
      "https://music.bugs.co.kr/chart/track/day/total?chartdate=20250115\n",
      "https://music.bugs.co.kr/chart/track/day/total?chartdate=20250116\n",
      "https://music.bugs.co.kr/chart/track/day/total?chartdate=20250117\n",
      "https://music.bugs.co.kr/chart/track/day/total?chartdate=20250118\n",
      "https://music.bugs.co.kr/chart/track/day/total?chartdate=20250119\n",
      "https://music.bugs.co.kr/chart/track/day/total?chartdate=20250120\n",
      "https://music.bugs.co.kr/chart/track/day/total?chartdate=20250121\n",
      "https://music.bugs.co.kr/chart/track/day/total?chartdate=20250122\n",
      "https://music.bugs.co.kr/chart/track/day/total?chartdate=20250123\n",
      "https://music.bugs.co.kr/chart/track/day/total?chartdate=20250124\n"
     ]
    },
    {
     "data": {
      "text/html": [
       "<div>\n",
       "<style scoped>\n",
       "    .dataframe tbody tr th:only-of-type {\n",
       "        vertical-align: middle;\n",
       "    }\n",
       "\n",
       "    .dataframe tbody tr th {\n",
       "        vertical-align: top;\n",
       "    }\n",
       "\n",
       "    .dataframe thead th {\n",
       "        text-align: right;\n",
       "    }\n",
       "</style>\n",
       "<table border=\"1\" class=\"dataframe\">\n",
       "  <thead>\n",
       "    <tr style=\"text-align: right;\">\n",
       "      <th></th>\n",
       "      <th>순위</th>\n",
       "      <th>제목</th>\n",
       "      <th>가수</th>\n",
       "    </tr>\n",
       "    <tr>\n",
       "      <th>날짜</th>\n",
       "      <th></th>\n",
       "      <th></th>\n",
       "      <th></th>\n",
       "    </tr>\n",
       "  </thead>\n",
       "  <tbody>\n",
       "    <tr>\n",
       "      <th>2024-10-16</th>\n",
       "      <td>1</td>\n",
       "      <td>Mantra</td>\n",
       "      <td>제니 (JENNIE)</td>\n",
       "    </tr>\n",
       "    <tr>\n",
       "      <th>2024-10-16</th>\n",
       "      <td>2</td>\n",
       "      <td>UP (KARINA Solo)</td>\n",
       "      <td>aespa</td>\n",
       "    </tr>\n",
       "    <tr>\n",
       "      <th>2024-10-16</th>\n",
       "      <td>3</td>\n",
       "      <td>LOVE, MONEY, FAME (feat. DJ Khaled)</td>\n",
       "      <td>세븐틴(SEVENTEEN)</td>\n",
       "    </tr>\n",
       "    <tr>\n",
       "      <th>2024-10-16</th>\n",
       "      <td>4</td>\n",
       "      <td>내 이름 맑음</td>\n",
       "      <td>QWER</td>\n",
       "    </tr>\n",
       "    <tr>\n",
       "      <th>2024-10-16</th>\n",
       "      <td>5</td>\n",
       "      <td>HAPPY</td>\n",
       "      <td>DAY6 (데이식스)</td>\n",
       "    </tr>\n",
       "  </tbody>\n",
       "</table>\n",
       "</div>"
      ],
      "text/plain": [
       "           순위                                   제목              가수\n",
       "날짜                                                                \n",
       "2024-10-16  1                               Mantra     제니 (JENNIE)\n",
       "2024-10-16  2                     UP (KARINA Solo)           aespa\n",
       "2024-10-16  3  LOVE, MONEY, FAME (feat. DJ Khaled)  세븐틴(SEVENTEEN)\n",
       "2024-10-16  4                              내 이름 맑음            QWER\n",
       "2024-10-16  5                                HAPPY     DAY6 (데이식스)"
      ]
     },
     "execution_count": 52,
     "metadata": {},
     "output_type": "execute_result"
    }
   ],
   "source": [
    "import requests\n",
    "import pandas as pd\n",
    "from bs4 import BeautifulSoup\n",
    "from bs4 import BeautifulSoup\n",
    "from datetime import datetime\n",
    "\n",
    "head = head = {'User-Agent':'Mozilla/5.0 (Windows NT 10.0; Win64; x64) AppleWebKit/537.36 (KHTML, like Gecko) Chrome/131.0.0.0 Safari/537.36'}\n",
    "\n",
    "periods = 100\n",
    "\n",
    "basic_url = \"https://music.bugs.co.kr/chart/track/day/total?chartdate=\"\n",
    "\n",
    "range_date = getDateStrList_From_Now(periods)\n",
    "\n",
    "bugs_df = pd.DataFrame(columns=['날짜','순위','제목','가수'])\n",
    "\n",
    "for ncount,rdate in enumerate(range_date):\n",
    "    url = basic_url + rdate\n",
    "    print(url)\n",
    "\n",
    "    res = requests.get(url, headers=head)\n",
    "    soup = BeautifulSoup(res.content, 'html.parser')\n",
    "    datas = soup.select('#CHARTday > table > tbody > tr')\n",
    "\n",
    "    for idx,data in enumerate(datas):\n",
    "        rank = data.select_one('div.ranking > strong').text\n",
    "        title = data.select_one('p.title > a').text\n",
    "        artist = data.select_one('p.artist > a').text\n",
    "\n",
    "        formDate = datetime.strptime(rdate,'%Y%m%d').strftime('%Y-%m-%d')\n",
    "        bugs_df.loc[ncount*100 + idx] = [formDate,rank,title,artist]\n",
    "\n",
    "bugs_df = bugs_df.set_index('날짜')\n",
    "\n",
    "bugs_df.head()"
   ]
  },
  {
   "cell_type": "code",
   "execution_count": 53,
   "metadata": {},
   "outputs": [],
   "source": [
    "bugs_df.to_csv(f\"./data/벅스탑100크롤링_{range_date[0]}_{range_date[-1]}.csv\")"
   ]
  },
  {
   "cell_type": "code",
   "execution_count": 54,
   "metadata": {},
   "outputs": [
    {
     "name": "stdout",
     "output_type": "stream",
     "text": [
      "<class 'pandas.core.frame.DataFrame'>\n",
      "Index: 10100 entries, 2024-10-16 to 2025-01-24\n",
      "Data columns (total 3 columns):\n",
      " #   Column  Non-Null Count  Dtype \n",
      "---  ------  --------------  ----- \n",
      " 0   순위      10100 non-null  object\n",
      " 1   제목      10100 non-null  object\n",
      " 2   가수      10100 non-null  object\n",
      "dtypes: object(3)\n",
      "memory usage: 315.6+ KB\n"
     ]
    }
   ],
   "source": [
    "bugs_df.info()"
   ]
  },
  {
   "cell_type": "code",
   "execution_count": 55,
   "metadata": {},
   "outputs": [
    {
     "data": {
      "text/plain": [
       "101"
      ]
     },
     "execution_count": 55,
     "metadata": {},
     "output_type": "execute_result"
    }
   ],
   "source": [
    "len(range_date)"
   ]
  }
 ],
 "metadata": {
  "kernelspec": {
   "display_name": "Python 3",
   "language": "python",
   "name": "python3"
  },
  "language_info": {
   "codemirror_mode": {
    "name": "ipython",
    "version": 3
   },
   "file_extension": ".py",
   "mimetype": "text/x-python",
   "name": "python",
   "nbconvert_exporter": "python",
   "pygments_lexer": "ipython3",
   "version": "3.10.12"
  },
  "toc": {
   "base_numbering": 1,
   "nav_menu": {},
   "number_sections": true,
   "sideBar": true,
   "skip_h1_title": false,
   "title_cell": "Table of Contents",
   "title_sidebar": "Contents",
   "toc_cell": false,
   "toc_position": {
    "height": "calc(100% - 180px)",
    "left": "10px",
    "top": "150px",
    "width": "165px"
   },
   "toc_section_display": true,
   "toc_window_display": true
  },
  "varInspector": {
   "cols": {
    "lenName": 16,
    "lenType": 16,
    "lenVar": 40
   },
   "kernels_config": {
    "python": {
     "delete_cmd_postfix": "",
     "delete_cmd_prefix": "del ",
     "library": "var_list.py",
     "varRefreshCmd": "print(var_dic_list())"
    },
    "r": {
     "delete_cmd_postfix": ") ",
     "delete_cmd_prefix": "rm(",
     "library": "var_list.r",
     "varRefreshCmd": "cat(var_dic_list()) "
    }
   },
   "types_to_exclude": [
    "module",
    "function",
    "builtin_function_or_method",
    "instance",
    "_Feature"
   ],
   "window_display": false
  }
 },
 "nbformat": 4,
 "nbformat_minor": 4
}
