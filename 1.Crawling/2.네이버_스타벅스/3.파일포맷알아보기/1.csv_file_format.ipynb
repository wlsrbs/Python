{
 "cells": [
  {
   "attachments": {},
   "cell_type": "markdown",
   "metadata": {},
   "source": [
    "## 다양한 데이터 포멧 이해하기: CSV"
   ]
  },
  {
   "attachments": {},
   "cell_type": "markdown",
   "metadata": {
    "collapsed": true
   },
   "source": [
    "### 1. csv 파일 읽기\n",
    "\n",
    "* CSV(Comma-Separated Values): 스프레드시트 데이터를 저장할 때 가장 널리 쓰이는 파일 형식\n",
    "* 엑셀등 여러 응용프로그램에서도 지원\n",
    "* CSV 형식 (각 열은 콤마로 구분, 각 행은 줄바꿈 문자로 구분)\n",
    "<pre>\n",
    "  dave, david\n",
    "  apple, 2\n",
    "  korea, japan, chian\n",
    "</pre>\n",
    "\n",
    "* 파이썬에서 CSV 파일로 저장/읽기 방법\n",
    "  - csv 라이브러리 사용"
   ]
  },
  {
   "attachments": {},
   "cell_type": "markdown",
   "metadata": {},
   "source": [
    "### csv 라이브러리\n"
   ]
  },
  {
   "cell_type": "code",
   "execution_count": 1,
   "metadata": {},
   "outputs": [],
   "source": [
    "import csv"
   ]
  },
  {
   "attachments": {},
   "cell_type": "markdown",
   "metadata": {},
   "source": [
    "### csv 파일 읽기\n",
    "\n",
    "- with 문법을 사용해서, 파일 데이터를 읽은 후, with 내부 구문 실행 완료 후, 자동으로 파일을 닫을 수 있음"
   ]
  },
  {
   "cell_type": "code",
   "execution_count": 2,
   "metadata": {},
   "outputs": [
    {
     "name": "stdout",
     "output_type": "stream",
     "text": [
      "['순위', '제목', '가수']\n",
      "['1', 'UNFORGIVEN (feat. Nile Rodgers)', 'LE SSERAFIM (르세라핌)']\n",
      "['2', 'I AM', 'IVE (아이브)']\n",
      "['3', 'Kitsch', 'IVE (아이브)']\n",
      "['4', 'Cupid', 'FIFTY FIFTY']\n",
      "['5', '꽃', '지수(JISOO)']\n",
      "['6', '손오공', '세븐틴(SEVENTEEN)']\n",
      "['7', 'Ditto', 'NewJeans']\n",
      "['8', 'Hype Boy', 'NewJeans']\n",
      "['9', 'Teddy Bear', 'STAYC(스테이씨)']\n",
      "['10', 'OMG', 'NewJeans']\n",
      "[]\n"
     ]
    }
   ],
   "source": [
    "import csv\n",
    "with open(r'./data/벅스탑100크롤링_comma.csv', 'r', encoding='utf-8') as reader_csv:\n",
    "    reader = csv.reader(reader_csv, delimiter=',')\n",
    "    \n",
    "    for row in reader:\n",
    "        print (row)\n",
    "        # break\n"
   ]
  },
  {
   "attachments": {},
   "cell_type": "markdown",
   "metadata": {},
   "source": [
    "### csv 파일 쓰기(with)\n",
    "\n",
    "- with 문법을 사용해서, with 내부 구문 실행 완료 후, 자동으로 파일을 닫을 수 있음\n",
    "- open 시 'w' 로 옵션을 설정\n",
    "  - open() 함수에 newline='' 를 넣어주는 이유는 윈도우의 경우에만 csv 모듈에서 데이타를 쓸 때 각 라인 뒤에 빈 라인이 추가되는 문제가 있기 때문\n",
    "  - 이를 없애기 위해 (파이썬 3 에서) 파일을 open 할 때 newline='' 와 같은 옵션을 지정"
   ]
  },
  {
   "cell_type": "code",
   "execution_count": 3,
   "metadata": {},
   "outputs": [],
   "source": [
    "import csv\n",
    "with open(r'./data/벅스탑100크롤링_comma_w.csv', 'w', encoding='utf-8-sig', newline='') as writer_csv:\n",
    "    writer = csv.writer(writer_csv, delimiter=',')\n",
    "    writer.writerow(['love']*3 + ['banana'])   # ['love', 'love', 'love', 'banana'] 와 동일 \n",
    "    writer.writerow(['apple', 2])   # 문자열 외에도 다양한 타입 데이터 쓰기 가능\n",
    "    writer.writerow(['Spam', 'Lovely Spam', 'Wonderful Spam']) "
   ]
  },
  {
   "attachments": {},
   "cell_type": "markdown",
   "metadata": {},
   "source": [
    "### csv 파일 쓰기 다른 기법 (사전 타입으로 파일 쓰기)\n",
    "- csv.writer 함수 대신에, csv.DictWriter 함수 사용\n",
    "- field 이름 선언 후, 데이터 넣기"
   ]
  },
  {
   "cell_type": "code",
   "execution_count": 4,
   "metadata": {},
   "outputs": [],
   "source": [
    "import csv\n",
    "\n",
    "with open(r'./data/tmp_csv.csv', 'w', encoding='utf-8-sig', newline='') as writer_csv:\n",
    "    field_name_list =['First Name', 'Last Name']  # 필드명 정의\n",
    "    writer = csv.DictWriter(writer_csv, fieldnames=field_name_list)  # 필드명을 미리 선언할 수 있음\n",
    "    writer.writeheader()  # 보통 csv 파일 상단에는 필드명을 넣기 때문에, 선언된 필드명을 writerheader() 함수로 넣을 수 있음\n",
    "    writer.writerow({'First Name': 'Dave', 'Last Name': 'Lee'})  # 각 데이터는 사전 타입으로 저장 가능\n",
    "    writer.writerow({'First Name': 'David', 'Last Name': 'Kim'})\n",
    "    writer.writerow({'First Name': 'Robin', 'Last Name': 'Park'})"
   ]
  },
  {
   "attachments": {},
   "cell_type": "markdown",
   "metadata": {},
   "source": [
    "- 사전 타입으로 읽기 가능"
   ]
  },
  {
   "cell_type": "code",
   "execution_count": 5,
   "metadata": {},
   "outputs": [
    {
     "name": "stdout",
     "output_type": "stream",
     "text": [
      "Dave Lee\n",
      "David Kim\n",
      "Robin Park\n"
     ]
    }
   ],
   "source": [
    "import csv\n",
    "\n",
    "with open(r'./data/tmp_csv.csv', 'r', encoding='utf-8-sig') as reader_csv:\n",
    "    reader = csv.DictReader(reader_csv)\n",
    "    for row in reader:\n",
    "        print(row['First Name'], row['Last Name'])"
   ]
  },
  {
   "attachments": {},
   "cell_type": "markdown",
   "metadata": {},
   "source": [
    "### 2.4 pandas 라이브러리로 csv 파일 읽기\n",
    "- csv 파일을 pandas dataframe 으로 읽기 위해 read_csv() 함수를 사용함\n",
    "- csv 구분자는 quotechar=구분자 옵션을 넣어서 구분자가 다른 경우도 읽기 가능\n",
    "\n",
    "```\n",
    "doc = pd.read_csv(\"USvideos.csv\", encoding='utf-8-sig', quotechar=',')\n",
    "```\n",
    "\n",
    "- 에러 나는 데이터는 항상 있을 수 있음, 해당 데이터는 생략하는 것이 일반적임\n",
    "\n",
    "```\n",
    "doc = pd.read_csv(\"USvideos.csv\", encoding='utf-8-sig', on_bad_lines='skip')\n",
    "```"
   ]
  },
  {
   "cell_type": "code",
   "execution_count": 13,
   "metadata": {},
   "outputs": [
    {
     "name": "stdout",
     "output_type": "stream",
     "text": [
      "<class 'pandas.core.frame.DataFrame'>\n",
      "RangeIndex: 7992 entries, 0 to 7991\n",
      "Data columns (total 11 columns):\n",
      " #   Column          Non-Null Count  Dtype  \n",
      "---  ------          --------------  -----  \n",
      " 0   video_id        7992 non-null   object \n",
      " 1   title           7992 non-null   object \n",
      " 2   channel_title   7992 non-null   object \n",
      " 3   category_id     7992 non-null   int64  \n",
      " 4   tags            7992 non-null   object \n",
      " 5   views           7992 non-null   int64  \n",
      " 6   likes           7992 non-null   int64  \n",
      " 7   dislikes        7992 non-null   int64  \n",
      " 8   comment_total   7992 non-null   int64  \n",
      " 9   thumbnail_link  7992 non-null   object \n",
      " 10  date            7992 non-null   float64\n",
      "dtypes: float64(1), int64(5), object(5)\n",
      "memory usage: 686.9+ KB\n",
      "None\n"
     ]
    },
    {
     "data": {
      "text/html": [
       "<div>\n",
       "<style scoped>\n",
       "    .dataframe tbody tr th:only-of-type {\n",
       "        vertical-align: middle;\n",
       "    }\n",
       "\n",
       "    .dataframe tbody tr th {\n",
       "        vertical-align: top;\n",
       "    }\n",
       "\n",
       "    .dataframe thead th {\n",
       "        text-align: right;\n",
       "    }\n",
       "</style>\n",
       "<table border=\"1\" class=\"dataframe\">\n",
       "  <thead>\n",
       "    <tr style=\"text-align: right;\">\n",
       "      <th></th>\n",
       "      <th>video_id</th>\n",
       "      <th>title</th>\n",
       "      <th>channel_title</th>\n",
       "      <th>category_id</th>\n",
       "      <th>tags</th>\n",
       "      <th>views</th>\n",
       "      <th>likes</th>\n",
       "      <th>dislikes</th>\n",
       "      <th>comment_total</th>\n",
       "      <th>thumbnail_link</th>\n",
       "      <th>date</th>\n",
       "    </tr>\n",
       "  </thead>\n",
       "  <tbody>\n",
       "    <tr>\n",
       "      <th>0</th>\n",
       "      <td>XpVt6Z1Gjjo</td>\n",
       "      <td>1 YEAR OF VLOGGING -- HOW LOGAN PAUL CHANGED Y...</td>\n",
       "      <td>Logan Paul Vlogs</td>\n",
       "      <td>24</td>\n",
       "      <td>logan paul vlog|logan paul|logan|paul|olympics...</td>\n",
       "      <td>4394029</td>\n",
       "      <td>320053</td>\n",
       "      <td>5931</td>\n",
       "      <td>46245</td>\n",
       "      <td>https://i.ytimg.com/vi/XpVt6Z1Gjjo/default.jpg</td>\n",
       "      <td>13.09</td>\n",
       "    </tr>\n",
       "    <tr>\n",
       "      <th>1</th>\n",
       "      <td>K4wEI5zhHB0</td>\n",
       "      <td>iPhone X — Introducing iPhone X — Apple</td>\n",
       "      <td>Apple</td>\n",
       "      <td>28</td>\n",
       "      <td>Apple|iPhone 10|iPhone Ten|iPhone|Portrait Lig...</td>\n",
       "      <td>7860119</td>\n",
       "      <td>185853</td>\n",
       "      <td>26679</td>\n",
       "      <td>0</td>\n",
       "      <td>https://i.ytimg.com/vi/K4wEI5zhHB0/default.jpg</td>\n",
       "      <td>13.09</td>\n",
       "    </tr>\n",
       "    <tr>\n",
       "      <th>2</th>\n",
       "      <td>cLdxuaxaQwc</td>\n",
       "      <td>My Response</td>\n",
       "      <td>PewDiePie</td>\n",
       "      <td>22</td>\n",
       "      <td>[none]</td>\n",
       "      <td>5845909</td>\n",
       "      <td>576597</td>\n",
       "      <td>39774</td>\n",
       "      <td>170708</td>\n",
       "      <td>https://i.ytimg.com/vi/cLdxuaxaQwc/default.jpg</td>\n",
       "      <td>13.09</td>\n",
       "    </tr>\n",
       "  </tbody>\n",
       "</table>\n",
       "</div>"
      ],
      "text/plain": [
       "      video_id                                              title  \\\n",
       "0  XpVt6Z1Gjjo  1 YEAR OF VLOGGING -- HOW LOGAN PAUL CHANGED Y...   \n",
       "1  K4wEI5zhHB0            iPhone X — Introducing iPhone X — Apple   \n",
       "2  cLdxuaxaQwc                                        My Response   \n",
       "\n",
       "      channel_title  category_id  \\\n",
       "0  Logan Paul Vlogs           24   \n",
       "1             Apple           28   \n",
       "2         PewDiePie           22   \n",
       "\n",
       "                                                tags    views   likes  \\\n",
       "0  logan paul vlog|logan paul|logan|paul|olympics...  4394029  320053   \n",
       "1  Apple|iPhone 10|iPhone Ten|iPhone|Portrait Lig...  7860119  185853   \n",
       "2                                             [none]  5845909  576597   \n",
       "\n",
       "   dislikes  comment_total                                  thumbnail_link  \\\n",
       "0      5931          46245  https://i.ytimg.com/vi/XpVt6Z1Gjjo/default.jpg   \n",
       "1     26679              0  https://i.ytimg.com/vi/K4wEI5zhHB0/default.jpg   \n",
       "2     39774         170708  https://i.ytimg.com/vi/cLdxuaxaQwc/default.jpg   \n",
       "\n",
       "    date  \n",
       "0  13.09  \n",
       "1  13.09  \n",
       "2  13.09  "
      ]
     },
     "execution_count": 13,
     "metadata": {},
     "output_type": "execute_result"
    }
   ],
   "source": [
    "import pandas as pd\n",
    "doc = pd.read_csv(r\"./data/USvideos.csv\", encoding='utf-8-sig',on_bad_lines='skip')\n",
    "print(doc.info())\n",
    "doc.head(3)"
   ]
  },
  {
   "attachments": {},
   "cell_type": "markdown",
   "metadata": {},
   "source": [
    "- 헤더 제거하고 읽기\n",
    "\n",
    "```\n",
    "doc = pd.read_csv(\"USvideos.csv\", encoding='utf-8-sig', on_bad_lines='skip', header=None)\n",
    "```"
   ]
  },
  {
   "cell_type": "code",
   "execution_count": 14,
   "metadata": {
    "scrolled": true
   },
   "outputs": [
    {
     "data": {
      "text/html": [
       "<div>\n",
       "<style scoped>\n",
       "    .dataframe tbody tr th:only-of-type {\n",
       "        vertical-align: middle;\n",
       "    }\n",
       "\n",
       "    .dataframe tbody tr th {\n",
       "        vertical-align: top;\n",
       "    }\n",
       "\n",
       "    .dataframe thead th {\n",
       "        text-align: right;\n",
       "    }\n",
       "</style>\n",
       "<table border=\"1\" class=\"dataframe\">\n",
       "  <thead>\n",
       "    <tr style=\"text-align: right;\">\n",
       "      <th></th>\n",
       "      <th>0</th>\n",
       "      <th>1</th>\n",
       "      <th>2</th>\n",
       "      <th>3</th>\n",
       "      <th>4</th>\n",
       "      <th>5</th>\n",
       "      <th>6</th>\n",
       "      <th>7</th>\n",
       "      <th>8</th>\n",
       "      <th>9</th>\n",
       "      <th>10</th>\n",
       "    </tr>\n",
       "  </thead>\n",
       "  <tbody>\n",
       "    <tr>\n",
       "      <th>0</th>\n",
       "      <td>video_id</td>\n",
       "      <td>title</td>\n",
       "      <td>channel_title</td>\n",
       "      <td>category_id</td>\n",
       "      <td>tags</td>\n",
       "      <td>views</td>\n",
       "      <td>likes</td>\n",
       "      <td>dislikes</td>\n",
       "      <td>comment_total</td>\n",
       "      <td>thumbnail_link</td>\n",
       "      <td>date</td>\n",
       "    </tr>\n",
       "    <tr>\n",
       "      <th>1</th>\n",
       "      <td>XpVt6Z1Gjjo</td>\n",
       "      <td>1 YEAR OF VLOGGING -- HOW LOGAN PAUL CHANGED Y...</td>\n",
       "      <td>Logan Paul Vlogs</td>\n",
       "      <td>24</td>\n",
       "      <td>logan paul vlog|logan paul|logan|paul|olympics...</td>\n",
       "      <td>4394029</td>\n",
       "      <td>320053</td>\n",
       "      <td>5931</td>\n",
       "      <td>46245</td>\n",
       "      <td>https://i.ytimg.com/vi/XpVt6Z1Gjjo/default.jpg</td>\n",
       "      <td>13.09</td>\n",
       "    </tr>\n",
       "    <tr>\n",
       "      <th>2</th>\n",
       "      <td>K4wEI5zhHB0</td>\n",
       "      <td>iPhone X — Introducing iPhone X — Apple</td>\n",
       "      <td>Apple</td>\n",
       "      <td>28</td>\n",
       "      <td>Apple|iPhone 10|iPhone Ten|iPhone|Portrait Lig...</td>\n",
       "      <td>7860119</td>\n",
       "      <td>185853</td>\n",
       "      <td>26679</td>\n",
       "      <td>0</td>\n",
       "      <td>https://i.ytimg.com/vi/K4wEI5zhHB0/default.jpg</td>\n",
       "      <td>13.09</td>\n",
       "    </tr>\n",
       "  </tbody>\n",
       "</table>\n",
       "</div>"
      ],
      "text/plain": [
       "            0                                                  1   \\\n",
       "0     video_id                                              title   \n",
       "1  XpVt6Z1Gjjo  1 YEAR OF VLOGGING -- HOW LOGAN PAUL CHANGED Y...   \n",
       "2  K4wEI5zhHB0            iPhone X — Introducing iPhone X — Apple   \n",
       "\n",
       "                 2            3   \\\n",
       "0     channel_title  category_id   \n",
       "1  Logan Paul Vlogs           24   \n",
       "2             Apple           28   \n",
       "\n",
       "                                                  4        5       6   \\\n",
       "0                                               tags    views   likes   \n",
       "1  logan paul vlog|logan paul|logan|paul|olympics...  4394029  320053   \n",
       "2  Apple|iPhone 10|iPhone Ten|iPhone|Portrait Lig...  7860119  185853   \n",
       "\n",
       "         7              8                                               9   \\\n",
       "0  dislikes  comment_total                                  thumbnail_link   \n",
       "1      5931          46245  https://i.ytimg.com/vi/XpVt6Z1Gjjo/default.jpg   \n",
       "2     26679              0  https://i.ytimg.com/vi/K4wEI5zhHB0/default.jpg   \n",
       "\n",
       "      10  \n",
       "0   date  \n",
       "1  13.09  \n",
       "2  13.09  "
      ]
     },
     "execution_count": 14,
     "metadata": {},
     "output_type": "execute_result"
    }
   ],
   "source": [
    "import pandas as pd\n",
    "doc = pd.read_csv(r\"./data/USvideos.csv\", encoding='utf-8-sig', on_bad_lines='skip', header=None)\n",
    "doc.head(3)"
   ]
  },
  {
   "attachments": {},
   "cell_type": "markdown",
   "metadata": {},
   "source": [
    "### 2.5 pandas 라이브러리로 csv 파일 쓰기\n",
    "- pandas dataframe 데이터를 csv 파일로 저장하기 위해, to_csv() 함수 사용\n",
    "    ```\n",
    "    doc.to_csv(\"00_data/students_default.csv\")\n",
    "    doc = pd.to_csv(\"00_data/students_default.csv\", encoding='utf-8-sig')\n",
    "    ```\n",
    "\n",
    "- encoding 옵션 사용 가능\n",
    "    ```\n",
    "    doc.to_csv(\"00_data/students_default.csv\", encoding='utf-8-sig')\n",
    "    ```\n",
    "\n",
    "- sep 옵션으로 csv 구분자 변경 가능 (디폴트는 콤마)\n",
    "    ```\n",
    "    doc.to_csv(\"00_data/students_default_change_sep.csv\", encoding='utf-8-sig', sep='|')\n",
    "    ```\n",
    "\n",
    "- na_rep 옵션으로 데이터가 없는 항목에 대해 특정값을 넣을 수 있음 (디폴트는 아무런 값도 들어가지 않음)\n",
    "    ```\n",
    "    doc.to_csv(\"00_data/students_default_change_sep.csv\", encoding='utf-8-sig', na_rep='없음')\n",
    "    ```\n",
    "\n",
    "- index=False 옵션으로 앞의 번호(인덱스) 없이 csv 파일로 작성할 수 있음 (디폴트는 인덱스도 저장됨)\n",
    "    ```\n",
    "    doc.to_csv(\"00_data/students_default_without_index.csv\", encoding='utf-8-sig', index=False)\n",
    "    ```\n",
    "\n",
    "- header=False 옵션으로 위의 번호(헤더) 없이 csv 파일로 작성할 수 있음 (디폴트는 헤더도 저장됨)\n",
    "    ```\n",
    "    doc.to_csv(\"00_data/students_default_without_header.csv\", encoding='utf-8-sig', header=False)\n",
    "    ```\n",
    "\n",
    "- header=False 옵션으로 위의 번호(헤더) 없이 csv 파일로 작성할 수 있음 (디폴트는 헤더도 저장됨)\n",
    "    ```\n",
    "    doc.to_csv(\"00_data/students_default_without_index_header.csv\", encoding='utf-8-sig', index=False, header=False)\n",
    "    ```\n"
   ]
  },
  {
   "cell_type": "code",
   "execution_count": null,
   "metadata": {},
   "outputs": [],
   "source": [
    "import pandas as pd\n",
    "doc = pd.read_csv(\"00_data/students.csv\", encoding='utf-8-sig', error_bad_lines=False, header=None)\n",
    "doc.to_csv(\"00_data/students_default_change_sep.csv\", encoding='utf-8-sig', sep='|')\n",
    "doc.to_csv(\"00_data/students_default_change_none.csv\", encoding='utf-8-sig', na_rep='없음')\n",
    "doc.to_csv(\"00_data/students_default_without_index.csv\", encoding='utf-8-sig', index=False)\n",
    "doc.to_csv(\"00_data/students_default_without_header.csv\", encoding='utf-8-sig', header=False)\n",
    "doc.to_csv(\"00_data/students_default_without_index_header.csv\", encoding='utf-8-sig', index=False, header=False)"
   ]
  }
 ],
 "metadata": {
  "kernelspec": {
   "display_name": "Python 3",
   "language": "python",
   "name": "python3"
  },
  "language_info": {
   "codemirror_mode": {
    "name": "ipython",
    "version": 3
   },
   "file_extension": ".py",
   "mimetype": "text/x-python",
   "name": "python",
   "nbconvert_exporter": "python",
   "pygments_lexer": "ipython3",
   "version": "3.10.12"
  },
  "nbTranslate": {
   "displayLangs": [
    "*"
   ],
   "hotkey": "alt-t",
   "langInMainMenu": true,
   "sourceLang": "en",
   "targetLang": "fr",
   "useGoogleTranslate": true
  },
  "toc": {
   "base_numbering": 1,
   "nav_menu": {},
   "number_sections": true,
   "sideBar": true,
   "skip_h1_title": false,
   "title_cell": "Table of Contents",
   "title_sidebar": "Contents",
   "toc_cell": false,
   "toc_position": {},
   "toc_section_display": true,
   "toc_window_display": false
  }
 },
 "nbformat": 4,
 "nbformat_minor": 2
}
