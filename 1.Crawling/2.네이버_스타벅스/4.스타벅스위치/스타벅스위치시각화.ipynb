{
 "cells": [
  {
   "attachments": {},
   "cell_type": "markdown",
   "metadata": {},
   "source": [
    "## 스타벅스위치 지도에 표시하기\n",
    "\n",
    "```\n",
    "1. 데이터 수집\n",
    "스타벅스 홈페이지에서 위치정보를 크롤링하여 데이터를 수집한다. \n",
    "\n",
    "2. 라이브러리 설치\n",
    "pip install folium\n",
    "\n",
    "```"
   ]
  },
  {
   "attachments": {},
   "cell_type": "markdown",
   "metadata": {},
   "source": [
    "### folium에 역삼아레나빌딩 한 개반 그리기"
   ]
  },
  {
   "cell_type": "code",
   "execution_count": null,
   "metadata": {},
   "outputs": [],
   "source": [
    "import folium\n",
    "\n",
    "map = folium.Map(location=[37,127],zoom_start=7) #맵이 표시될 중심점(위,경도)\n",
    "\n",
    "marker = folium.Marker([37.501087, 127.043069], # 위도, 경도\n",
    "                    popup='역삼아레나빌딩',      # 팝업\n",
    "                    icon = folium.Icon(color='blue')) #파란 마크\n",
    "\n",
    "marker.add_to(map)  # 지도에 마커 추가\n",
    "\n",
    "map.save(r'./image/star_map.html')"
   ]
  },
  {
   "cell_type": "code",
   "execution_count": null,
   "metadata": {},
   "outputs": [],
   "source": [
    "import pandas as pd\n",
    "df = pd.read_excel(r'./data/스타벅스위치.xlsx')\n",
    "\n",
    "name_list =df['이름'].to_list()\n",
    "position_x_list =df['long'].to_list()\n",
    "position_y_list =df['lat'].to_list()"
   ]
  },
  {
   "cell_type": "code",
   "execution_count": 4,
   "metadata": {},
   "outputs": [
    {
     "data": {
      "text/plain": [
       "(2004, 2004, 2004)"
      ]
     },
     "execution_count": 4,
     "metadata": {},
     "output_type": "execute_result"
    }
   ],
   "source": [
    "len(name_list),len(position_x_list),len(position_y_list)"
   ]
  },
  {
   "attachments": {},
   "cell_type": "markdown",
   "metadata": {},
   "source": [
    "> 스타벅스 전국 지점수가 1807개 점포가 있다니....."
   ]
  },
  {
   "attachments": {},
   "cell_type": "markdown",
   "metadata": {},
   "source": [
    "## 스타벅스 전국 지점 지도에 그리기"
   ]
  },
  {
   "cell_type": "code",
   "execution_count": null,
   "metadata": {},
   "outputs": [],
   "source": [
    "map = folium.Map(location=[37,127],zoom_start=7) #맵이 표시될 중심점(위,경도)\n",
    "\n",
    "for i in range(len(name_list)): # 위치 이름\n",
    "    marker = folium.Marker([position_y_list[i],  # 위도\n",
    "                            position_x_list[i]], # 경도\n",
    "                            popup=name_list[i],  # 위치 이름\n",
    "                            icon=folium.Icon(color='blue')) # 아이콘 설정(파란색)\n",
    "    marker.add_to(map) # 지도에 마커 추가\n",
    "\n",
    "map.save(r'./image/star_map.html')"
   ]
  },
  {
   "attachments": {},
   "cell_type": "markdown",
   "metadata": {},
   "source": [
    "## DT점은 다른 색으로 표시"
   ]
  },
  {
   "cell_type": "code",
   "execution_count": 14,
   "metadata": {},
   "outputs": [],
   "source": [
    "map = folium.Map(location=[37,127],zoom_start=7)\n",
    "\n",
    "for i in range(len(name_list)):\n",
    "    if \"DT\" in name_list[i] :\n",
    "        marker = folium.Marker([position_y_list[i],\n",
    "                                position_x_list[i]],\n",
    "                                popup=name_list[i], \n",
    "                                icon = folium.Icon(color='orange'))\n",
    "    else:\n",
    "        marker = folium.Marker([position_y_list[i],\n",
    "                                position_x_list[i]],\n",
    "                                popup=name_list[i], \n",
    "                                icon = folium.Icon(color='blue'))\n",
    "    marker.add_to(map) \n",
    "\n",
    "map.save(r'./image/star_map_dt.html')"
   ]
  }
 ],
 "metadata": {
  "kernelspec": {
   "display_name": "Python 3",
   "language": "python",
   "name": "python3"
  },
  "language_info": {
   "codemirror_mode": {
    "name": "ipython",
    "version": 3
   },
   "file_extension": ".py",
   "mimetype": "text/x-python",
   "name": "python",
   "nbconvert_exporter": "python",
   "pygments_lexer": "ipython3",
   "version": "3.10.12"
  },
  "orig_nbformat": 4
 },
 "nbformat": 4,
 "nbformat_minor": 2
}
