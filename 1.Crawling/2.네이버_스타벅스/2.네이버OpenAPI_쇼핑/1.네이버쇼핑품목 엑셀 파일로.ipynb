{
 "cells": [
  {
   "attachments": {},
   "cell_type": "markdown",
   "metadata": {},
   "source": [
    "## 네이버 쇼핑품목 엑셀 보고서 만들기\n",
    "\n",
    "* 네이버 API를 사용하여 쇼핑 품목을 가져온다.\n",
    "* 가져온 데이터를 엑셀로 만든다."
   ]
  },
  {
   "cell_type": "code",
   "execution_count": null,
   "metadata": {},
   "outputs": [
    {
     "name": "stdout",
     "output_type": "stream",
     "text": [
      "https://openapi.naver.com/v1/search/shop.json?query=%EC%9A%B0%EC%82%B0\n",
      "{'display': 10,\n",
      " 'items': [{'brand': '아르크',\n",
      "            'category1': '패션잡화',\n",
      "            'category2': '패션소품',\n",
      "            'category3': '우산',\n",
      "            'category4': '자동우산',\n",
      "            'hprice': '',\n",
      "            'image': 'https://shopping-phinf.pstatic.net/main_8786657/87866577636.1.jpg',\n",
      "            'link': 'https://smartstore.naver.com/main/products/10322073510',\n",
      "            'lprice': '13800',\n",
      "            'maker': '',\n",
      "            'mallName': 'A.RK',\n",
      "            'productId': '87866577636',\n",
      "            'productType': '2',\n",
      "            'title': '튼튼한 3단 <b>우산</b> 암막 장<b>우산</b> 거꾸로<b>우산</b> 가벼운 경량 판촉물'},\n",
      "           {'brand': '',\n",
      "            'category1': '패션잡화',\n",
      "            'category2': '패션소품',\n",
      "            'category3': '우산',\n",
      "            'category4': '자동우산',\n",
      "            'hprice': '',\n",
      "            'image': 'https://shopping-phinf.pstatic.net/main_2238628/22386287118.20220624114302.jpg',\n",
      "            'link': 'https://search.shopping.naver.com/catalog/22386287118',\n",
      "            'lprice': '5050',\n",
      "            'maker': '루야스',\n",
      "            'mallName': '네이버',\n",
      "            'productId': '22386287118',\n",
      "            'productType': '1',\n",
      "            'title': '예쁜 패션 파스텔 16K 방수 튼튼한 장<b>우산</b> 자동 우드 <b>우산</b>'},\n",
      "           {'brand': '',\n",
      "            'category1': '패션잡화',\n",
      "            'category2': '패션소품',\n",
      "            'category3': '우산',\n",
      "            'category4': '자동우산',\n",
      "            'hprice': '',\n",
      "            'image': 'https://shopping-phinf.pstatic.net/main_8849052/88490521050.1.jpg',\n",
      "            'link': 'https://smartstore.naver.com/main/products/10946015015',\n",
      "            'lprice': '3900',\n",
      "            'maker': '',\n",
      "            'mallName': '다연경',\n",
      "            'productId': '88490521050',\n",
      "            'productType': '2',\n",
      "            'title': '<b>우산</b> 3단 자동 우양산 접이식 휴대용 가벼운 uv 튼튼한 판촉물 블랙 인쇄가능 답례품'},\n",
      "           {'brand': '',\n",
      "            'category1': '패션잡화',\n",
      "            'category2': '패션소품',\n",
      "            'category3': '우산',\n",
      "            'category4': '자동우산',\n",
      "            'hprice': '',\n",
      "            'image': 'https://shopping-phinf.pstatic.net/main_8227841/82278410590.5.jpg',\n",
      "            'link': 'https://smartstore.naver.com/main/products/4733889126',\n",
      "            'lprice': '7900',\n",
      "            'maker': '',\n",
      "            'mallName': '일상생활연구소',\n",
      "            'productId': '82278410590',\n",
      "            'productType': '2',\n",
      "            'title': '일상생활연구소 UV차단 <b>우산</b> 3단 자동 접이식 답례품'},\n",
      "           {'brand': '',\n",
      "            'category1': '패션잡화',\n",
      "            'category2': '패션소품',\n",
      "            'category3': '우산',\n",
      "            'category4': '자동우산',\n",
      "            'hprice': '',\n",
      "            'image': 'https://shopping-phinf.pstatic.net/main_8855820/88558206421.3.jpg',\n",
      "            'link': 'https://smartstore.naver.com/main/products/11013700284',\n",
      "            'lprice': '10900',\n",
      "            'maker': '',\n",
      "            'mallName': '지보트',\n",
      "            'productId': '88558206421',\n",
      "            'productType': '2',\n",
      "            'title': '[1+1] 튼튼한 3단자동<b>우산</b> 접이식 장<b>우산</b> 대형 거꾸로<b>우산</b> '\n",
      "                     '자외선차단'},\n",
      "           {'brand': '크로반',\n",
      "            'category1': '패션잡화',\n",
      "            'category2': '패션소품',\n",
      "            'category3': '우산',\n",
      "            'category4': '자동우산',\n",
      "            'hprice': '',\n",
      "            'image': 'https://shopping-phinf.pstatic.net/main_2708470/27084706139.20250114101629.jpg',\n",
      "            'link': 'https://search.shopping.naver.com/catalog/27084706139',\n",
      "            'lprice': '29800',\n",
      "            'maker': '',\n",
      "            'mallName': '네이버',\n",
      "            'productId': '27084706139',\n",
      "            'productType': '1',\n",
      "            'title': '크로반 3단 완전자동<b>우산</b> 우드그립 KR7'},\n",
      "           {'brand': '',\n",
      "            'category1': '패션잡화',\n",
      "            'category2': '패션소품',\n",
      "            'category3': '우산',\n",
      "            'category4': '자동우산',\n",
      "            'hprice': '',\n",
      "            'image': 'https://shopping-phinf.pstatic.net/main_8361227/83612273867.3.jpg',\n",
      "            'link': 'https://smartstore.naver.com/main/products/6067774379',\n",
      "            'lprice': '3500',\n",
      "            'maker': '',\n",
      "            'mallName': '더숲리빙',\n",
      "            'productId': '83612273867',\n",
      "            'productType': '2',\n",
      "            'title': '더숲리빙 3단자동<b>우산</b> 접이식 완전자동 튼튼한 <b>우산</b> 답례품 선물박스제공'},\n",
      "           {'brand': '',\n",
      "            'category1': '패션잡화',\n",
      "            'category2': '패션소품',\n",
      "            'category3': '우산',\n",
      "            'category4': '자동우산',\n",
      "            'hprice': '',\n",
      "            'image': 'https://shopping-phinf.pstatic.net/main_8838289/88382893946.1.jpg',\n",
      "            'link': 'https://smartstore.naver.com/main/products/10838387933',\n",
      "            'lprice': '15900',\n",
      "            'maker': '',\n",
      "            'mallName': '온빛생활',\n",
      "            'productId': '88382893946',\n",
      "            'productType': '2',\n",
      "            'title': '튼튼한장<b>우산</b> 골프 강풍 장<b>우산</b> 자동 단체주문'},\n",
      "           {'brand': '파라체이스',\n",
      "            'category1': '패션잡화',\n",
      "            'category2': '패션소품',\n",
      "            'category3': '우산',\n",
      "            'category4': '자동우산',\n",
      "            'hprice': '',\n",
      "            'image': 'https://shopping-phinf.pstatic.net/main_8043290/80432907885.3.jpg',\n",
      "            'link': 'https://smartstore.naver.com/main/products/2935163907',\n",
      "            'lprice': '23000',\n",
      "            'maker': '파라체이스',\n",
      "            'mallName': '쇼핑마니또',\n",
      "            'productId': '80432907885',\n",
      "            'productType': '2',\n",
      "            'title': 'PARACHASE 대형 3단 완전자동<b>우산</b>'},\n",
      "           {'brand': '',\n",
      "            'category1': '패션잡화',\n",
      "            'category2': '패션소품',\n",
      "            'category3': '우산',\n",
      "            'category4': '자동우산',\n",
      "            'hprice': '',\n",
      "            'image': 'https://shopping-phinf.pstatic.net/main_8802621/88026212446.jpg',\n",
      "            'link': 'https://smartstore.naver.com/main/products/10481707145',\n",
      "            'lprice': '14900',\n",
      "            'maker': '',\n",
      "            'mallName': '지보트',\n",
      "            'productId': '88026212446',\n",
      "            'productType': '2',\n",
      "            'title': '[1+1] 튼튼한 장<b>우산</b> 대형 <b>우산</b> 자동 자외선차단'}],\n",
      " 'lastBuildDate': 'Tue, 18 Feb 2025 14:57:44 +0900',\n",
      " 'start': 1,\n",
      " 'total': 3578632}\n"
     ]
    }
   ],
   "source": [
    "import re             # 정규 표현식\n",
    "import requests\n",
    "import pprint         # JSON 출력 이쁘게\n",
    "import pandas as pd\n",
    "\n",
    "# 네이버에서 받은 아이디와 패스워드 할당\n",
    "client_id = '여러분의 ID'\n",
    "client_secret = '여러분의 패스워드'\n",
    "\n",
    "#네이버 쇼핑 URL\n",
    "naver_open_api = 'https://openapi.naver.com/v1/search/shop.json'\n",
    "\n",
    "#검색어\n",
    "query = '우산'\n",
    "\n",
    "#요청 변수\n",
    "params = {'query':query}\n",
    "\n",
    "# 패턴 코드\n",
    "# HTTP 규약이 있고, 그 중 Header 영역에 네이버 id/pwd 정보를 추가하여 URL 요청\n",
    "header_params = {\"X-Naver-Client-Id\":client_id, \"X-Naver-Client-Secret\":client_secret}\n",
    "\n",
    "# 상품검색 URL을 네이버에 요청하고 응답받음\n",
    "res = requests.get(naver_open_api, headers=header_params, params=params)\n",
    "\n",
    "# 요청한 URL 확인\n",
    "print(res.url)\n",
    "\n",
    "if res.status_code != 200:\n",
    "    print (\"Error Code:\", res.status_code)       \n",
    "else:\n",
    "    \n",
    "    # 검색 결과\n",
    "    data = res.json()\n",
    "\n",
    "    # 결과 출력\n",
    "    pprint.pprint(data)"
   ]
  },
  {
   "cell_type": "code",
   "execution_count": null,
   "metadata": {},
   "outputs": [
    {
     "data": {
      "text/plain": [
       "10"
      ]
     },
     "execution_count": 8,
     "metadata": {},
     "output_type": "execute_result"
    }
   ],
   "source": [
    "data['display'] # 상품 개수"
   ]
  },
  {
   "cell_type": "code",
   "execution_count": null,
   "metadata": {},
   "outputs": [
    {
     "data": {
      "text/plain": [
       "'튼튼한 3단 <b>우산</b> 암막 장<b>우산</b> 거꾸로<b>우산</b> 가벼운 경량 판촉물'"
      ]
     },
     "execution_count": 10,
     "metadata": {},
     "output_type": "execute_result"
    }
   ],
   "source": [
    "data['items'][0]['title'] # 상품명"
   ]
  },
  {
   "cell_type": "code",
   "execution_count": 14,
   "metadata": {},
   "outputs": [
    {
     "data": {
      "text/plain": [
       "'https://smartstore.naver.com/main/products/10322073510'"
      ]
     },
     "execution_count": 14,
     "metadata": {},
     "output_type": "execute_result"
    }
   ],
   "source": [
    "data['items'][0]['link'] # 링크"
   ]
  },
  {
   "cell_type": "code",
   "execution_count": null,
   "metadata": {},
   "outputs": [
    {
     "data": {
      "text/plain": [
       "'튼튼한 3단 우산 암막 장우산 거꾸로우산 가벼운 경량 판촉물'"
      ]
     },
     "execution_count": 12,
     "metadata": {},
     "output_type": "execute_result"
    }
   ],
   "source": [
    "title = re.sub('[<b></b>]','',data['items'][0]['title']) # 정규표현식\n",
    "title"
   ]
  },
  {
   "cell_type": "code",
   "execution_count": null,
   "metadata": {},
   "outputs": [
    {
     "data": {
      "text/html": [
       "<div>\n",
       "<style scoped>\n",
       "    .dataframe tbody tr th:only-of-type {\n",
       "        vertical-align: middle;\n",
       "    }\n",
       "\n",
       "    .dataframe tbody tr th {\n",
       "        vertical-align: top;\n",
       "    }\n",
       "\n",
       "    .dataframe thead th {\n",
       "        text-align: right;\n",
       "    }\n",
       "</style>\n",
       "<table border=\"1\" class=\"dataframe\">\n",
       "  <thead>\n",
       "    <tr style=\"text-align: right;\">\n",
       "      <th></th>\n",
       "      <th>index</th>\n",
       "      <th>제목</th>\n",
       "      <th>링크</th>\n",
       "    </tr>\n",
       "  </thead>\n",
       "  <tbody>\n",
       "  </tbody>\n",
       "</table>\n",
       "</div>"
      ],
      "text/plain": [
       "Empty DataFrame\n",
       "Columns: [index, 제목, 링크]\n",
       "Index: []"
      ]
     },
     "execution_count": 17,
     "metadata": {},
     "output_type": "execute_result"
    }
   ],
   "source": [
    "df = pd.DataFrame(columns=['index','제목','링크']) # 데이터프레임 생성\n",
    "df"
   ]
  },
  {
   "cell_type": "code",
   "execution_count": 20,
   "metadata": {},
   "outputs": [
    {
     "name": "stdout",
     "output_type": "stream",
     "text": [
      "1 튼튼한 3단 우산 암막 장우산 거꾸로우산 가벼운 경량 판촉물 https://smartstore.naver.com/main/products/10322073510\n",
      "2 예쁜 패션 파스텔 16K 방수 튼튼한 장우산 자동 우드 우산 https://search.shopping.naver.com/catalog/22386287118\n",
      "3 우산 3단 자동 우양산 접이식 휴대용 가벼운 uv 튼튼한 판촉물 블랙 인쇄가능 답례품 https://smartstore.naver.com/main/products/10946015015\n",
      "4 일상생활연구소 UV차단 우산 3단 자동 접이식 답례품 https://smartstore.naver.com/main/products/4733889126\n",
      "5 [1+1] 튼튼한 3단자동우산 접이식 장우산 대형 거꾸로우산 자외선차단 https://smartstore.naver.com/main/products/11013700284\n",
      "6 크로반 3단 완전자동우산 우드그립 KR7 https://search.shopping.naver.com/catalog/27084706139\n",
      "7 더숲리빙 3단자동우산 접이식 완전자동 튼튼한 우산 답례품 선물박스제공 https://smartstore.naver.com/main/products/6067774379\n",
      "8 튼튼한장우산 골프 강풍 장우산 자동 단체주문 https://smartstore.naver.com/main/products/10838387933\n",
      "9 PARACHASE 대형 3단 완전자동우산 https://smartstore.naver.com/main/products/2935163907\n",
      "10 [1+1] 튼튼한 장우산 대형 우산 자동 자외선차단 https://smartstore.naver.com/main/products/10481707145\n"
     ]
    }
   ],
   "source": [
    "for num in range(data['display']):\n",
    "    title = re.sub('[<b></b>]','',data['items'][num]['title']) # 상품명\n",
    "    link = data['items'][num]['link']                          # 링크\n",
    "    print(f'{num+1} {title} {link}')\n",
    "\n",
    "    df.loc[num] = [num+1, title, link]                         # 데이터프레임에 순서대로 추가"
   ]
  },
  {
   "cell_type": "code",
   "execution_count": null,
   "metadata": {},
   "outputs": [
    {
     "data": {
      "text/html": [
       "<div>\n",
       "<style scoped>\n",
       "    .dataframe tbody tr th:only-of-type {\n",
       "        vertical-align: middle;\n",
       "    }\n",
       "\n",
       "    .dataframe tbody tr th {\n",
       "        vertical-align: top;\n",
       "    }\n",
       "\n",
       "    .dataframe thead th {\n",
       "        text-align: right;\n",
       "    }\n",
       "</style>\n",
       "<table border=\"1\" class=\"dataframe\">\n",
       "  <thead>\n",
       "    <tr style=\"text-align: right;\">\n",
       "      <th></th>\n",
       "      <th>index</th>\n",
       "      <th>제목</th>\n",
       "      <th>링크</th>\n",
       "    </tr>\n",
       "  </thead>\n",
       "  <tbody>\n",
       "    <tr>\n",
       "      <th>0</th>\n",
       "      <td>1</td>\n",
       "      <td>튼튼한 3단 우산 암막 장우산 거꾸로우산 가벼운 경량 판촉물</td>\n",
       "      <td>https://smartstore.naver.com/main/products/103...</td>\n",
       "    </tr>\n",
       "    <tr>\n",
       "      <th>1</th>\n",
       "      <td>2</td>\n",
       "      <td>예쁜 패션 파스텔 16K 방수 튼튼한 장우산 자동 우드 우산</td>\n",
       "      <td>https://search.shopping.naver.com/catalog/2238...</td>\n",
       "    </tr>\n",
       "    <tr>\n",
       "      <th>2</th>\n",
       "      <td>3</td>\n",
       "      <td>우산 3단 자동 우양산 접이식 휴대용 가벼운 uv 튼튼한 판촉물 블랙 인쇄가능 답례품</td>\n",
       "      <td>https://smartstore.naver.com/main/products/109...</td>\n",
       "    </tr>\n",
       "  </tbody>\n",
       "</table>\n",
       "</div>"
      ],
      "text/plain": [
       "   index                                               제목  \\\n",
       "0      1                튼튼한 3단 우산 암막 장우산 거꾸로우산 가벼운 경량 판촉물   \n",
       "1      2                예쁜 패션 파스텔 16K 방수 튼튼한 장우산 자동 우드 우산   \n",
       "2      3  우산 3단 자동 우양산 접이식 휴대용 가벼운 uv 튼튼한 판촉물 블랙 인쇄가능 답례품   \n",
       "\n",
       "                                                  링크  \n",
       "0  https://smartstore.naver.com/main/products/103...  \n",
       "1  https://search.shopping.naver.com/catalog/2238...  \n",
       "2  https://smartstore.naver.com/main/products/109...  "
      ]
     },
     "execution_count": 24,
     "metadata": {},
     "output_type": "execute_result"
    }
   ],
   "source": [
    "df.head(3)"
   ]
  },
  {
   "cell_type": "code",
   "execution_count": null,
   "metadata": {},
   "outputs": [],
   "source": [
    "df.to_excel('./naver_shopping_list.xlsx') # 엑셀 파일로 저장"
   ]
  }
 ],
 "metadata": {
  "kernelspec": {
   "display_name": "Python 3",
   "language": "python",
   "name": "python3"
  },
  "language_info": {
   "codemirror_mode": {
    "name": "ipython",
    "version": 3
   },
   "file_extension": ".py",
   "mimetype": "text/x-python",
   "name": "python",
   "nbconvert_exporter": "python",
   "pygments_lexer": "ipython3",
   "version": "3.10.12"
  },
  "orig_nbformat": 4
 },
 "nbformat": 4,
 "nbformat_minor": 2
}
