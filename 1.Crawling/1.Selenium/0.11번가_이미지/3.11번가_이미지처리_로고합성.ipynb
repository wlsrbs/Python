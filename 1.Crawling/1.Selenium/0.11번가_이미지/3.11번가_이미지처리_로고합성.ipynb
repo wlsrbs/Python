{
 "cells": [
  {
   "cell_type": "markdown",
   "metadata": {},
   "source": [
    "## Pillow(PIL) 모듈 체험\n",
    "\n",
    "* 파이썬 이미징 라이브러리로서 여러 이미지 파일 포맷을 지원\n",
    "* 이미지 내부 데이타를 엑세스할 수 있게 하며, 다양한 이미지 처리 기능을 제공\n",
    "\n",
    "https://pillow.readthedocs.io/en/stable/reference/index.html\n",
    "\n",
    "http://pythonstudy.xyz/python/article/406-%ED%8C%8C%EC%9D%B4%EC%8D%AC-%EC%9D%B4%EB%AF%B8%EC%A7%80-%EC%B2%98%EB%A6%AC-Pillow\n"
   ]
  },
  {
   "cell_type": "code",
   "execution_count": 196,
   "metadata": {},
   "outputs": [
    {
     "name": "stdout",
     "output_type": "stream",
     "text": [
      "Defaulting to user installation because normal site-packages is not writeable\n",
      "Requirement already satisfied: Pillow in /home/ubuntu/.local/lib/python3.10/site-packages (11.0.0)\n"
     ]
    }
   ],
   "source": [
    "!pip install Pillow"
   ]
  },
  {
   "cell_type": "markdown",
   "metadata": {},
   "source": [
    "### 이미지 읽고 쓰기"
   ]
  },
  {
   "cell_type": "code",
   "execution_count": 199,
   "metadata": {},
   "outputs": [
    {
     "name": "stdout",
     "output_type": "stream",
     "text": [
      "(600, 600)\n"
     ]
    }
   ],
   "source": [
    "from PIL import Image\n",
    "# 이미지 열기\n",
    "tmp = Image.open(f'./image/e쿠폰상품권_img13_메가MGC커피 디지털상품권 1만원권.png')\n",
    " \n",
    "# 이미지 크기 출력\n",
    "print(tmp.size)\n",
    "tmp.close()"
   ]
  },
  {
   "cell_type": "markdown",
   "metadata": {},
   "source": [
    "### 이미지 사이즈 조절"
   ]
  },
  {
   "cell_type": "code",
   "execution_count": 200,
   "metadata": {},
   "outputs": [
    {
     "name": "stdout",
     "output_type": "stream",
     "text": [
      "---end ---\n"
     ]
    }
   ],
   "source": [
    "fileName='e쿠폰상품권_img13_메가MGC커피 디지털상품권 1만원권.png'\n",
    "tmp=Image.open(f'./image/{fileName}')\n",
    "\n",
    "# 200x200으로 조절\n",
    "tmpResize=tmp.resize((200,200))\n",
    "tmpResize.save(f'./image/resize_{fileName}')\n",
    "\n",
    "print('---end ---')\n",
    "tmp.close()"
   ]
  },
  {
   "cell_type": "code",
   "execution_count": 205,
   "metadata": {},
   "outputs": [
    {
     "name": "stdout",
     "output_type": "stream",
     "text": [
      "---end ---\n"
     ]
    }
   ],
   "source": [
    "fileName='e쿠폰상품권_img13_메가MGC커피 디지털상품권 1만원권.png'\n",
    "tmp=Image.open(f'./image/{fileName}')\n",
    "\n",
    "size=300\n",
    "tmpResize=tmp.resize((size,size))\n",
    "tmpResize.save(f'./image/resize_{fileName}')\n",
    "print('---end ---')\n",
    "tmp.close()"
   ]
  },
  {
   "cell_type": "code",
   "execution_count": 207,
   "metadata": {},
   "outputs": [
    {
     "data": {
      "text/plain": [
       "(300, 300)"
      ]
     },
     "execution_count": 207,
     "metadata": {},
     "output_type": "execute_result"
    }
   ],
   "source": [
    "tmpResize.size"
   ]
  },
  {
   "cell_type": "markdown",
   "metadata": {},
   "source": [
    "### 이미지에 로고 합성\n",
    " https://creativeworks.tistory.com/entry/PYTHON-3-Tutorials-41-Combine-Images-Together-%EC%9D%B4%EB%AF%B8%EC%A7%80-%EB%B3%91%ED%95%A9%ED%95%98%EA%B8%B0-like-watermark%EC%9B%8C%ED%84%B0%EB%A7%88%ED%81%AC?category=620431"
   ]
  },
  {
   "cell_type": "code",
   "execution_count": 211,
   "metadata": {},
   "outputs": [
    {
     "name": "stdout",
     "output_type": "stream",
     "text": [
      "(100, 100)\n"
     ]
    }
   ],
   "source": [
    "from PIL import Image\n",
    "\n",
    "logo=Image.open('./logo/top.png')\n",
    "logo = logo.resize((100,100))\n",
    "\n",
    "print(logo.size)"
   ]
  },
  {
   "cell_type": "code",
   "execution_count": 213,
   "metadata": {},
   "outputs": [
    {
     "data": {
      "image/png": "[encoded data removed]",
      "text/plain": [
       "<PIL.Image.Image image mode=RGBA size=100x100>"
      ]
     },
     "execution_count": 213,
     "metadata": {},
     "output_type": "execute_result"
    }
   ],
   "source": [
    "logo"
   ]
  },
  {
   "cell_type": "code",
   "execution_count": 214,
   "metadata": {},
   "outputs": [],
   "source": [
    "p=Image.open('./image/e쿠폰상품권_img13_메가MGC커피 디지털상품권 1만원권.png')\n",
    "\n",
    "#area=(0,0,100,100)\n",
    "area=(0,0,logo.width,logo.height)\n",
    "\n",
    "#png 파일 배경 투명하게 붙이는 방법\n",
    "p.paste(logo,area,logo) \n",
    "\n",
    "#png 형식으로 저장해야함.\n",
    "p.save('./image/인증_e쿠폰상품권_img13_메가MGC커피 디지털상품권 1만원권.png') \n",
    "p.close()\n",
    "logo.close()"
   ]
  },
  {
   "cell_type": "markdown",
   "metadata": {},
   "source": [
    "## 디렉토리안 파일리스트 가져오기"
   ]
  },
  {
   "cell_type": "code",
   "execution_count": 243,
   "metadata": {},
   "outputs": [
    {
     "data": {
      "text/plain": [
       "['nomal_e쿠폰상품권_1_메가MGC커피 디지털상품권 1만원권.png',\n",
       " 'resize_e쿠폰상품권_2_메가MGC커피 디지털상품권 1만원권.png',\n",
       " '인증_e쿠폰상품권_3_메가MGC커피 디지털상품권 1만원권.png']"
      ]
     },
     "execution_count": 243,
     "metadata": {},
     "output_type": "execute_result"
    }
   ],
   "source": [
    "import os\n",
    "path_dir='./image'\n",
    "fileList=os.listdir(path_dir)\n",
    "fileList"
   ]
  },
  {
   "cell_type": "markdown",
   "metadata": {},
   "source": [
    "## 카테고리별 1등 파일에만 1등 로고합성하기"
   ]
  },
  {
   "cell_type": "code",
   "execution_count": 244,
   "metadata": {},
   "outputs": [
    {
     "name": "stdout",
     "output_type": "stream",
     "text": [
      "True\n",
      "False\n",
      "False\n"
     ]
    }
   ],
   "source": [
    "# for를 이용한 이미지 합성\n",
    "import os\n",
    "from PIL import Image\n",
    "\n",
    "path_dir='./image'\n",
    "fileList=os.listdir(path_dir)\n",
    "\n",
    "logo=Image.open('./logo/top.png')\n",
    "logo = logo.resize((100,100))\n",
    "\n",
    "\n",
    "for fname in fileList:\n",
    "    rank_num = int(fname.split('_')[2])\n",
    "    print(rank_num == 1)\n",
    "    \n",
    "    if rank_num == 1:\n",
    "        try:\n",
    "\n",
    "            im=Image.open('./image/' + fname)\n",
    "            area=(0,0,logo.width,logo.height)\n",
    "            im.paste(logo,area,logo) \n",
    "\n",
    "            frename = fname.replace('.jpg','.png')\n",
    "            im.save('./image/logo_'+ frename)\n",
    "\n",
    "            im.close()\n",
    "        except Exception as e:\n",
    "            print(e)\n",
    "            print(f\"1등로고부착실패:{fname}\")\n",
    "            im.close()\n",
    "            pass\n",
    "\n",
    "\n",
    "logo.close()"
   ]
  }
 ],
 "metadata": {
  "kernelspec": {
   "display_name": "Python 3",
   "language": "python",
   "name": "python3"
  },
  "language_info": {
   "codemirror_mode": {
    "name": "ipython",
    "version": 3
   },
   "file_extension": ".py",
   "mimetype": "text/x-python",
   "name": "python",
   "nbconvert_exporter": "python",
   "pygments_lexer": "ipython3",
   "version": "3.10.12"
  },
  "toc": {
   "base_numbering": 1,
   "nav_menu": {},
   "number_sections": true,
   "sideBar": true,
   "skip_h1_title": false,
   "title_cell": "Table of Contents",
   "title_sidebar": "Contents",
   "toc_cell": false,
   "toc_position": {
    "height": "calc(100% - 180px)",
    "left": "10px",
    "top": "150px",
    "width": "284.2px"
   },
   "toc_section_display": true,
   "toc_window_display": false
  },
  "varInspector": {
   "cols": {
    "lenName": 16,
    "lenType": 16,
    "lenVar": 40
   },
   "kernels_config": {
    "python": {
     "delete_cmd_postfix": "",
     "delete_cmd_prefix": "del ",
     "library": "var_list.py",
     "varRefreshCmd": "print(var_dic_list())"
    },
    "r": {
     "delete_cmd_postfix": ") ",
     "delete_cmd_prefix": "rm(",
     "library": "var_list.r",
     "varRefreshCmd": "cat(var_dic_list()) "
    }
   },
   "position": {
    "height": "496.4px",
    "left": "1173px",
    "right": "20px",
    "top": "146px",
    "width": "350px"
   },
   "types_to_exclude": [
    "module",
    "function",
    "builtin_function_or_method",
    "instance",
    "_Feature"
   ],
   "window_display": false
  }
 },
 "nbformat": 4,
 "nbformat_minor": 4
}
