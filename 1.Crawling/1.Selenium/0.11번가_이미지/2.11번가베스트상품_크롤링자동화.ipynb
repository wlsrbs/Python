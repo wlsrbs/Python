{
 "cells": [
  {
   "cell_type": "markdown",
   "metadata": {},
   "source": [
    "## 카테고리별 베스트 상품 크롤링 자동화\n",
    "\n",
    "* 패션의류, 신발/잡화, 화장품/헤어, 유아동/출산 .........\n",
    "* 원하는 만큼 상품 크롤링"
   ]
  },
  {
   "attachments": {},
   "cell_type": "markdown",
   "metadata": {},
   "source": [
    "#### 자동으로 URL 만들기\n",
    "\n",
    "\n",
    "\n",
    "\n",
    "\n"
   ]
  },
  {
   "cell_type": "code",
   "execution_count": 9,
   "metadata": {},
   "outputs": [
    {
     "name": "stdout",
     "output_type": "stream",
     "text": [
      "https://www.11st.co.kr/browsing/BestSeller.tmall?method=getBestSellerMain&cornerNo=1\n",
      "https://www.11st.co.kr/browsing/BestSeller.tmall?method=getBestSellerMain&cornerNo=2\n",
      "https://www.11st.co.kr/browsing/BestSeller.tmall?method=getBestSellerMain&cornerNo=3\n",
      "https://www.11st.co.kr/browsing/BestSeller.tmall?method=getBestSellerMain&cornerNo=4\n",
      "https://www.11st.co.kr/browsing/BestSeller.tmall?method=getBestSellerMain&cornerNo=5\n"
     ]
    }
   ],
   "source": [
    "# 카테고리별 URL 생성\n",
    "basic_url = \"https://www.11st.co.kr/browsing/BestSeller.tmall?method=getBestSellerMain&cornerNo=\"\n",
    "\n",
    "for num in range(1,6):\n",
    "    url = basic_url + str(num)\n",
    "    print(url)"
   ]
  },
  {
   "attachments": {},
   "cell_type": "markdown",
   "metadata": {},
   "source": [
    "#### 자동으로 5개의 카테고리 베스트 상품을 크롤링 하세요"
   ]
  },
  {
   "cell_type": "code",
   "execution_count": 187,
   "metadata": {},
   "outputs": [],
   "source": [
    "import re\n",
    "import pandas as pd\n",
    "import requests\n",
    "from bs4 import BeautifulSoup\n",
    "from urllib.request import urlopen\n",
    "\n",
    "basic_url = \"https://www.11st.co.kr/browsing/BestSeller.tmall?method=getBestSellerMain&cornerNo=\"  # 카테고리별 URL 생성\n",
    "store_df = pd.DataFrame(columns=['카테고리','상품명','이미지 링크'])                                 # 보기 좋게 표로 정리해서 시각화 하기 위해 판다스 사용\n",
    "\n",
    "idx = 0 # 인덱스 설정\n",
    "for num in range(1,6):\n",
    "    url = basic_url + str(num)\n",
    "    res = requests.get(url)\n",
    "    soup = BeautifulSoup(res.content, 'html.parser')\n",
    "\n",
    "    products = soup.select('#challengeBestAdList > li > div.box_pd > a > div.img_plot > img')   ## 베스트 상품 리스트\n",
    "\n",
    "    for product in products:\n",
    "        category = soup.select(f'#metaCtgrLi{str(num)} > button')[0].get_text('type') ## 카테고리명 추출\n",
    "        category = re.sub(r'[^\\w_ ]', '', category)\n",
    "        product_name = re.sub(r'[^\\w_ ]', '', product.get('alt'))                     ## 상품명 추출\n",
    "        img_url = product.get('src')                                                  ## 이미지 링크 추출\n",
    "        idx += 1\n",
    "        store_df.loc[idx] = [category, product_name, img_url]"
   ]
  },
  {
   "cell_type": "code",
   "execution_count": 193,
   "metadata": {},
   "outputs": [
    {
     "data": {
      "text/html": [
       "<div>\n",
       "<style scoped>\n",
       "    .dataframe tbody tr th:only-of-type {\n",
       "        vertical-align: middle;\n",
       "    }\n",
       "\n",
       "    .dataframe tbody tr th {\n",
       "        vertical-align: top;\n",
       "    }\n",
       "\n",
       "    .dataframe thead th {\n",
       "        text-align: right;\n",
       "    }\n",
       "</style>\n",
       "<table border=\"1\" class=\"dataframe\">\n",
       "  <thead>\n",
       "    <tr style=\"text-align: right;\">\n",
       "      <th></th>\n",
       "      <th>카테고리</th>\n",
       "      <th>상품명</th>\n",
       "      <th>이미지 링크</th>\n",
       "    </tr>\n",
       "  </thead>\n",
       "  <tbody>\n",
       "    <tr>\n",
       "      <th>1</th>\n",
       "      <td>신선식품</td>\n",
       "      <td>해남미소 늘해랑 비세척 꿀고구마 10kg</td>\n",
       "      <td>https://cdn.011st.com/11dims/resize/600x600/qu...</td>\n",
       "    </tr>\n",
       "    <tr>\n",
       "      <th>2</th>\n",
       "      <td>신선식품</td>\n",
       "      <td>어부백서 국내산 손질 갑오징어 200g팩당 23미10팩  총2kg</td>\n",
       "      <td>https://cdn.011st.com/11dims/resize/600x600/qu...</td>\n",
       "    </tr>\n",
       "    <tr>\n",
       "      <th>3</th>\n",
       "      <td>신선식품</td>\n",
       "      <td>찬예찬 프리미엄 명란젓 2kg 젓갈모음</td>\n",
       "      <td>https://cdn.011st.com/11dims/resize/600x600/qu...</td>\n",
       "    </tr>\n",
       "  </tbody>\n",
       "</table>\n",
       "</div>"
      ],
      "text/plain": [
       "   카테고리                                   상품명  \\\n",
       "1  신선식품                해남미소 늘해랑 비세척 꿀고구마 10kg   \n",
       "2  신선식품  어부백서 국내산 손질 갑오징어 200g팩당 23미10팩  총2kg   \n",
       "3  신선식품                 찬예찬 프리미엄 명란젓 2kg 젓갈모음   \n",
       "\n",
       "                                              이미지 링크  \n",
       "1  https://cdn.011st.com/11dims/resize/600x600/qu...  \n",
       "2  https://cdn.011st.com/11dims/resize/600x600/qu...  \n",
       "3  https://cdn.011st.com/11dims/resize/600x600/qu...  "
      ]
     },
     "execution_count": 193,
     "metadata": {},
     "output_type": "execute_result"
    }
   ],
   "source": [
    "store_df.head(3)"
   ]
  },
  {
   "cell_type": "code",
   "execution_count": 188,
   "metadata": {},
   "outputs": [
    {
     "name": "stdout",
     "output_type": "stream",
     "text": [
      "<class 'pandas.core.frame.DataFrame'>\n",
      "Index: 24 entries, 1 to 24\n",
      "Data columns (total 3 columns):\n",
      " #   Column  Non-Null Count  Dtype \n",
      "---  ------  --------------  ----- \n",
      " 0   카테고리    24 non-null     object\n",
      " 1   상품명     24 non-null     object\n",
      " 2   이미지 링크  24 non-null     object\n",
      "dtypes: object(3)\n",
      "memory usage: 768.0+ bytes\n"
     ]
    }
   ],
   "source": [
    "store_df.info()"
   ]
  },
  {
   "cell_type": "markdown",
   "metadata": {},
   "source": [
    "### 파일 이름이 카테고리별로 정리 되려면 어떻게 해야할까요?\n",
    ">예) <br>\n",
    ">img1_겨울 따뜻한 후리스조끼플리스자켓패딩기모바지.jpg <br>\n",
    ">img1_[달바]화이트 트러플 미스트 세럼 180ml+180ml.jpg <br>\n",
    ">크롤링한 파일이 섞여있어, 카테고리별 베스트 상품을 파악할 수 없어요. <br>"
   ]
  },
  {
   "cell_type": "code",
   "execution_count": 195,
   "metadata": {},
   "outputs": [
    {
     "name": "stdout",
     "output_type": "stream",
     "text": [
      "Image Crawling is done\n"
     ]
    }
   ],
   "source": [
    "# 정규표현식을 이용해 파일 이름에 사용할 수 없는 특수문자를 제거\n",
    "# 카테고리명을 파일 이름에 넣기\n",
    "\n",
    "for num, df in enumerate(store_df.values):\n",
    "    ctg_name = df[0]\n",
    "    prd_name = df[1]\n",
    "    img_link = df[2]\n",
    "    \n",
    "    with urlopen(img_link) as src: #읽어들일 이미지 스트림 열기\n",
    "        with open(f'./image/{ctg_name}_img{num+1}_{prd_name}.png','wb') as tgt: # w - write b - binary, 쓰기할 이미지 스트림 열기\n",
    "            img = src.read() # 이미지 읽기\n",
    "            tgt.write(img)   # 이미지 쓰기기\n",
    "\n",
    "print(\"Image Crawling is done\")"
   ]
  }
 ],
 "metadata": {
  "kernelspec": {
   "display_name": "Python 3",
   "language": "python",
   "name": "python3"
  },
  "language_info": {
   "codemirror_mode": {
    "name": "ipython",
    "version": 3
   },
   "file_extension": ".py",
   "mimetype": "text/x-python",
   "name": "python",
   "nbconvert_exporter": "python",
   "pygments_lexer": "ipython3",
   "version": "3.10.12"
  },
  "toc": {
   "base_numbering": 1,
   "nav_menu": {},
   "number_sections": true,
   "sideBar": true,
   "skip_h1_title": false,
   "title_cell": "Table of Contents",
   "title_sidebar": "Contents",
   "toc_cell": false,
   "toc_position": {
    "height": "calc(100% - 180px)",
    "left": "10px",
    "top": "150px",
    "width": "284.2px"
   },
   "toc_section_display": true,
   "toc_window_display": false
  },
  "varInspector": {
   "cols": {
    "lenName": 16,
    "lenType": 16,
    "lenVar": 40
   },
   "kernels_config": {
    "python": {
     "delete_cmd_postfix": "",
     "delete_cmd_prefix": "del ",
     "library": "var_list.py",
     "varRefreshCmd": "print(var_dic_list())"
    },
    "r": {
     "delete_cmd_postfix": ") ",
     "delete_cmd_prefix": "rm(",
     "library": "var_list.r",
     "varRefreshCmd": "cat(var_dic_list()) "
    }
   },
   "position": {
    "height": "496.4px",
    "left": "1173px",
    "right": "20px",
    "top": "146px",
    "width": "350px"
   },
   "types_to_exclude": [
    "module",
    "function",
    "builtin_function_or_method",
    "instance",
    "_Feature"
   ],
   "window_display": false
  }
 },
 "nbformat": 4,
 "nbformat_minor": 4
}
