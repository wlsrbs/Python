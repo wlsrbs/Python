{
 "cells": [
  {
   "cell_type": "markdown",
   "metadata": {},
   "source": [
    "## 11번가 베스트 상품 이미지 크롤링"
   ]
  },
  {
   "cell_type": "markdown",
   "metadata": {},
   "source": [
    "### 11번가 베스트 상품 이미지 크롤링\n",
    "* 도전! 베스트 탑 5 상품 이미지"
   ]
  },
  {
   "cell_type": "code",
   "execution_count": 44,
   "metadata": {},
   "outputs": [],
   "source": [
    "import requests\n",
    "from bs4 import BeautifulSoup\n",
    "\n",
    "best_url = 'https://www.11st.co.kr/browsing/BestSeller.tmall?method=getBestSellerMain&xfrom=main^gnb'\n",
    "\n",
    "res = requests.get(best_url)\n",
    "\n",
    "soup = BeautifulSoup(res.content, 'html.parser')"
   ]
  },
  {
   "cell_type": "code",
   "execution_count": null,
   "metadata": {},
   "outputs": [
    {
     "name": "stdout",
     "output_type": "stream",
     "text": [
      "https://cdn.011st.com/11dims/resize/600x600/quality/75/11src/product/7864204345/B.jpg?426000000\n",
      "https://cdn.011st.com/11dims/resize/600x600/quality/75/11src/product/2949478057/L300.jpg?132000000\n",
      "https://cdn.011st.com/11dims/resize/600x600/quality/75/11src/product/3788536392/B.jpg?823000000\n",
      "https://cdn.011st.com/11dims/resize/600x600/quality/75/11src/dl/v2/4/1/0/1/2/5/XyzEB/1923410125_194203214.jpg\n",
      "https://cdn.011st.com/11dims/resize/600x600/quality/75/11src/product/7710266971/L300.png?458000000\n"
     ]
    }
   ],
   "source": [
    "# 다섯장의 이미지 링크 출력\n",
    "\n",
    "products = soup.select('#challengeBestAdList > li > div.box_pd > a > div.img_plot > img')\n",
    "# products[0].get('src')\n",
    "for product in products[:5]:  # 수집할 이미지 개수\n",
    "    print(product.get('src'))"
   ]
  },
  {
   "cell_type": "code",
   "execution_count": null,
   "metadata": {},
   "outputs": [],
   "source": [
    "# 이미지 다운로드하기\n",
    "from urllib.request import urlopen\n",
    "\n",
    "\n",
    "for num, product in enumerate(products[:5]): # 수집할 이미지 개수\n",
    "    img_url = product.get('src')\n",
    "\n",
    "    with urlopen(img_url) as src: #읽어들일 이미지 스트림 열기\n",
    "        with open(f'./image/img_테스트{num+1}.png','wb') as tgt: # w - write b - binary, 쓰기할 이미지 스트림 열기\n",
    "            img = src.read() #이미지 읽기\n",
    "            tgt.write(img)  # 이미지 쓰기"
   ]
  },
  {
   "cell_type": "markdown",
   "metadata": {},
   "source": [
    "----------"
   ]
  },
  {
   "attachments": {},
   "cell_type": "markdown",
   "metadata": {},
   "source": [
    "## 도전! 베스트 탑5 이미지 추출 종합"
   ]
  },
  {
   "cell_type": "code",
   "execution_count": 47,
   "metadata": {},
   "outputs": [
    {
     "name": "stdout",
     "output_type": "stream",
     "text": [
      "Image Crawling is done\n"
     ]
    }
   ],
   "source": [
    "import requests\n",
    "from urllib import request\n",
    "from urllib.request import urlopen\n",
    "from bs4 import BeautifulSoup\n",
    "\n",
    "best_url = 'https://www.11st.co.kr/browsing/BestSeller.tmall?method=getBestSellerMain&xfrom=main%5Egnb'\n",
    "\n",
    "res = requests.get(best_url)\n",
    "\n",
    "soup = BeautifulSoup(res.content, 'html.parser')\n",
    "                 \n",
    "products = soup.select('#challengeBestAdList > li > div.box_pd > a > div.img_plot > img')   ## 베스트 상품 리스트\n",
    "\n",
    "\n",
    "# 이미지 다운로드시 파일 형태 img_1.png\n",
    "\n",
    "from urllib.request import urlopen\n",
    "\n",
    "\n",
    "for num, product in enumerate(products[:5]): # 수집할 이미지 개수\n",
    "    img_url = product.get('src')\n",
    "\n",
    "    with urlopen(img_url) as src: #읽어들일 이미지 스트림 열기\n",
    "        with open(f'./image/img_{num+1}.png','wb') as tgt: # w - write b - binary, 쓰기할 이미지 스트림 열기\n",
    "            img = src.read() #이미지 읽기\n",
    "            tgt.write(img)  # 이미지 쓰기\n",
    "\n",
    "\n",
    "\n",
    "\n",
    "print(\"Image Crawling is done\")"
   ]
  },
  {
   "cell_type": "markdown",
   "metadata": {},
   "source": [
    "### 파일이름에 상품명이 같이 나오도록 바꾸기\n",
    "\n",
    "* 예) img1.jpg -> img1_겨울 따뜻한 후리스조끼플리스자켓패딩기모바지.jpg"
   ]
  },
  {
   "attachments": {
    "image.png": {
     "image/png": "[encoded data removed]"
    }
   },
   "cell_type": "markdown",
   "metadata": {},
   "source": [
    "![image.png](attachment:image.png)\n",
    "> 파일 이름에는 위와 같은 특수문자가 들어갈 수 없기 때문에 정규화 과정이 필요"
   ]
  },
  {
   "cell_type": "code",
   "execution_count": 73,
   "metadata": {},
   "outputs": [
    {
     "name": "stdout",
     "output_type": "stream",
     "text": [
      "안단잼 땅콩 피넛 버터 400g 크런치,크리미 / 1병+1병 800g\n"
     ]
    }
   ],
   "source": [
    "print(products[0].get('alt'))"
   ]
  },
  {
   "cell_type": "code",
   "execution_count": 81,
   "metadata": {},
   "outputs": [
    {
     "data": {
      "text/plain": [
       "'안단잼 땅콩 피넛 버터 400g 크런치크리미  1병1병 800g'"
      ]
     },
     "execution_count": 81,
     "metadata": {},
     "output_type": "execute_result"
    }
   ],
   "source": [
    "# 정규화 함수\n",
    "# 숫자,소문자,대문자,자음모음,한글모두\n",
    "# ^ : Not의 의미\n",
    "import re\n",
    "re.sub(r'[^\\w_ ]','', products[0].get('alt'))  # 알파벳, 숫자, 언더바(_), 띄어쓰기기를 제외한 모든 특수문자 제거"
   ]
  },
  {
   "cell_type": "code",
   "execution_count": 84,
   "metadata": {},
   "outputs": [
    {
     "name": "stdout",
     "output_type": "stream",
     "text": [
      "Image Crawling is done\n"
     ]
    }
   ],
   "source": [
    "import re\n",
    "import requests\n",
    "from urllib import request\n",
    "from urllib.request import urlopen\n",
    "from bs4 import BeautifulSoup\n",
    "\n",
    "best_url = 'https://www.11st.co.kr/browsing/BestSeller.tmall?method=getBestSellerMain&xfrom=main%5Egnb'\n",
    "\n",
    "res = requests.get(best_url)\n",
    "\n",
    "soup = BeautifulSoup(res.content, 'html.parser')\n",
    "                 \n",
    "products = soup.select('#challengeBestAdList > li > div.box_pd > a > div.img_plot > img')   ## 베스트 상품 리스트\n",
    "\n",
    "\n",
    "# 이미지 다운로드시 파일 형태 img_1.png\n",
    "\n",
    "from urllib.request import urlopen\n",
    "\n",
    "\n",
    "for num, product in enumerate(products[:5]):                # 수집할 이미지 개수\n",
    "    img_url = product.get('src')                            # 이미지 url 추출출\n",
    "    product_name = product.get('alt')                       # 상품명 추출 \n",
    "    product_name = re.sub(r'[^\\w_ ]', '', product_name)     # 정규표현식\n",
    "\n",
    "    with urlopen(img_url) as src: #읽어들일 이미지 스트림 열기\n",
    "        with open(f'./image/img{num+1}_{product_name}.png','wb') as tgt: # w - write b - binary, 쓰기할 이미지 스트림 열기\n",
    "            img = src.read() #이미지 읽기\n",
    "            tgt.write(img)  # 이미지 쓰기\n",
    "\n",
    "\n",
    "\n",
    "\n",
    "print(\"Image Crawling is done\")"
   ]
  }
 ],
 "metadata": {
  "kernelspec": {
   "display_name": "Python 3",
   "language": "python",
   "name": "python3"
  },
  "language_info": {
   "codemirror_mode": {
    "name": "ipython",
    "version": 3
   },
   "file_extension": ".py",
   "mimetype": "text/x-python",
   "name": "python",
   "nbconvert_exporter": "python",
   "pygments_lexer": "ipython3",
   "version": "3.10.9"
  },
  "toc": {
   "base_numbering": 1,
   "nav_menu": {},
   "number_sections": true,
   "sideBar": true,
   "skip_h1_title": false,
   "title_cell": "Table of Contents",
   "title_sidebar": "Contents",
   "toc_cell": false,
   "toc_position": {
    "height": "calc(100% - 180px)",
    "left": "10px",
    "top": "150px",
    "width": "284.2px"
   },
   "toc_section_display": true,
   "toc_window_display": false
  },
  "varInspector": {
   "cols": {
    "lenName": 16,
    "lenType": 16,
    "lenVar": 40
   },
   "kernels_config": {
    "python": {
     "delete_cmd_postfix": "",
     "delete_cmd_prefix": "del ",
     "library": "var_list.py",
     "varRefreshCmd": "print(var_dic_list())"
    },
    "r": {
     "delete_cmd_postfix": ") ",
     "delete_cmd_prefix": "rm(",
     "library": "var_list.r",
     "varRefreshCmd": "cat(var_dic_list()) "
    }
   },
   "position": {
    "height": "496.4px",
    "left": "1173px",
    "right": "20px",
    "top": "146px",
    "width": "350px"
   },
   "types_to_exclude": [
    "module",
    "function",
    "builtin_function_or_method",
    "instance",
    "_Feature"
   ],
   "window_display": false
  }
 },
 "nbformat": 4,
 "nbformat_minor": 4
}
