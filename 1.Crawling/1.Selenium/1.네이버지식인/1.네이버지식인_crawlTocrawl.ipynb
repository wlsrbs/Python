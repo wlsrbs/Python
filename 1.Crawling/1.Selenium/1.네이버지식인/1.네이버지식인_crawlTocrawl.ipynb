{
 "cells": [
  {
   "cell_type": "markdown",
   "metadata": {},
   "source": [
    "## 네이버 지식인 크롤링"
   ]
  },
  {
   "cell_type": "markdown",
   "metadata": {},
   "source": [
    "### 라이브러리 로드"
   ]
  },
  {
   "cell_type": "code",
   "execution_count": 1,
   "metadata": {},
   "outputs": [],
   "source": [
    "from bs4 import BeautifulSoup  \n",
    "import pandas as pd\n",
    "import requests"
   ]
  },
  {
   "attachments": {},
   "cell_type": "markdown",
   "metadata": {},
   "source": [
    "### 지식인 URL 만들기\n",
    "\n",
    "* 5페이지에 대한 url 생성\n"
   ]
  },
  {
   "cell_type": "code",
   "execution_count": 4,
   "metadata": {},
   "outputs": [],
   "source": [
    "keyword = '파이썬'\n",
    "page_num = 5\n",
    "\n",
    "url = f'https://kin.naver.com/search/list.naver?query={keyword}&page={page_num}'"
   ]
  },
  {
   "cell_type": "code",
   "execution_count": 17,
   "metadata": {},
   "outputs": [
    {
     "name": "stdout",
     "output_type": "stream",
     "text": [
      "https://kin.naver.com/search/list.naver?query=파이썬&page=1\n",
      "https://kin.naver.com/search/list.naver?query=파이썬&page=2\n",
      "https://kin.naver.com/search/list.naver?query=파이썬&page=3\n",
      "https://kin.naver.com/search/list.naver?query=파이썬&page=4\n",
      "https://kin.naver.com/search/list.naver?query=파이썬&page=5\n"
     ]
    }
   ],
   "source": [
    "for num in range(page_num):\n",
    "    url = f'https://kin.naver.com/search/list.naver?query={keyword}&page={num+1}'\n",
    "    print(url)"
   ]
  },
  {
   "cell_type": "markdown",
   "metadata": {},
   "source": [
    "### 검색 요청하고 결과 html 가져오기"
   ]
  },
  {
   "cell_type": "code",
   "execution_count": 18,
   "metadata": {},
   "outputs": [
    {
     "data": {
      "text/plain": [
       "<Response [200]>"
      ]
     },
     "execution_count": 18,
     "metadata": {},
     "output_type": "execute_result"
    }
   ],
   "source": [
    "html = requests.get(url)\n",
    "html"
   ]
  },
  {
   "cell_type": "markdown",
   "metadata": {},
   "source": [
    "### 검색 결과 파싱하기"
   ]
  },
  {
   "cell_type": "code",
   "execution_count": 20,
   "metadata": {},
   "outputs": [],
   "source": [
    "soup = BeautifulSoup(html.content,'html.parser')\n",
    "# soup"
   ]
  },
  {
   "cell_type": "markdown",
   "metadata": {},
   "source": [
    "### 검색결과의 href 추출하기"
   ]
  },
  {
   "cell_type": "code",
   "execution_count": 28,
   "metadata": {},
   "outputs": [],
   "source": [
    "products = soup.select(\"#s_content > div.section > ul > li > dl > dt > a\")"
   ]
  },
  {
   "cell_type": "code",
   "execution_count": null,
   "metadata": {},
   "outputs": [
    {
     "data": {
      "text/plain": [
       "'https://kin.naver.com/qna/detail.naver?d1id=1&dirId=10402&docId=480820366&qb=7YyM7J207I2s&enc=utf8'"
      ]
     },
     "execution_count": 37,
     "metadata": {},
     "output_type": "execute_result"
    }
   ],
   "source": [
    "sub_url = products[0].get('href')\n",
    "sub_url"
   ]
  },
  {
   "cell_type": "markdown",
   "metadata": {},
   "source": [
    "### Sub URL 요청하고 html 가져오기"
   ]
  },
  {
   "cell_type": "code",
   "execution_count": 198,
   "metadata": {},
   "outputs": [],
   "source": [
    "html_sub = requests.get(sub_url)\n",
    "soup_sub = BeautifulSoup(html_sub.content,'html.parser')"
   ]
  },
  {
   "cell_type": "markdown",
   "metadata": {},
   "source": [
    "### Sub 제목 추출"
   ]
  },
  {
   "cell_type": "code",
   "execution_count": 137,
   "metadata": {},
   "outputs": [
    {
     "data": {
      "text/plain": [
       "'\\n\\n\\n\\n\\n\\n\\n질문\\n\\n\\t\\t\\t\\t\\n\\n\\t\\t\\t\\t\\n\\t\\t\\t\\t\\n\\t\\t\\t\\t\\t\\n\\t\\t\\t\\t\\t\\n\\t\\t\\t\\t\\t\\n\\t\\t\\t\\t\\t\\t맥북 파이썬 편집기 창 없음\\n\\t\\t\\t\\t\\t\\n\\t\\t\\t\\t\\n\\n\\t\\t\\t\\t\\n\\t\\t\\t\\t\\n\\t\\t\\t'"
      ]
     },
     "execution_count": 137,
     "metadata": {},
     "output_type": "execute_result"
    }
   ],
   "source": [
    "sel = \"#content > div.endContentLeft._endContentLeft > div.contentArea._contentWrap > div.endTitleSection\"\n",
    "tit_text = soup_sub.select_one(sel).text\n",
    "tit_text"
   ]
  },
  {
   "cell_type": "code",
   "execution_count": 141,
   "metadata": {},
   "outputs": [
    {
     "data": {
      "text/plain": [
       "'\\n\\n\\n\\n\\n\\n\\n\\n\\n\\t\\t\\t\\t\\n\\n\\t\\t\\t\\t\\n\\t\\t\\t\\t\\n\\t\\t\\t\\t\\t\\n\\t\\t\\t\\t\\t\\n\\t\\t\\t\\t\\t\\n\\t\\t\\t\\t\\t\\t맥북 파이썬 편집기 창 없음\\n\\t\\t\\t\\t\\t\\n\\t\\t\\t\\t\\n\\n\\t\\t\\t\\t\\n\\t\\t\\t\\t\\n\\t\\t\\t'"
      ]
     },
     "execution_count": 141,
     "metadata": {},
     "output_type": "execute_result"
    }
   ],
   "source": [
    "tit_text = tit_text.replace('질문', '')\n",
    "tit_text"
   ]
  },
  {
   "cell_type": "code",
   "execution_count": 142,
   "metadata": {},
   "outputs": [
    {
     "data": {
      "text/plain": [
       "'맥북 파이썬 편집기 창 없음'"
      ]
     },
     "execution_count": 142,
     "metadata": {},
     "output_type": "execute_result"
    }
   ],
   "source": [
    "# 정규화 함수\n",
    "import re\n",
    "re.sub('[^0-9a-zA-Zㄱ-ㅣ가-힣 ]','',tit_text)"
   ]
  },
  {
   "cell_type": "code",
   "execution_count": 143,
   "metadata": {},
   "outputs": [
    {
     "data": {
      "text/plain": [
       "'-------------------------------------------------맥북 파이썬 편집기 창 없음--------------------------'"
      ]
     },
     "execution_count": 143,
     "metadata": {},
     "output_type": "execute_result"
    }
   ],
   "source": [
    "re.sub('[^0-9a-zA-Zㄱ-ㅣ가-힣 ]','-',tit_text)"
   ]
  },
  {
   "cell_type": "code",
   "execution_count": 144,
   "metadata": {},
   "outputs": [
    {
     "data": {
      "text/plain": [
       "'                                                 맥북 파이썬 편집기 창 없음                          '"
      ]
     },
     "execution_count": 144,
     "metadata": {},
     "output_type": "execute_result"
    }
   ],
   "source": [
    "re.sub('[^0-9a-zA-Zㄱ-ㅣ가-힣 ]',' ',tit_text)"
   ]
  },
  {
   "cell_type": "code",
   "execution_count": 145,
   "metadata": {},
   "outputs": [
    {
     "data": {
      "text/plain": [
       "'    '"
      ]
     },
     "execution_count": 145,
     "metadata": {},
     "output_type": "execute_result"
    }
   ],
   "source": [
    "re.sub('[^0-9a-zA-Z ]','',tit_text)"
   ]
  },
  {
   "cell_type": "code",
   "execution_count": 146,
   "metadata": {},
   "outputs": [
    {
     "data": {
      "text/plain": [
       "'\\n\\n\\n\\n\\n\\n\\n\\n\\n\\t\\t\\t\\t\\n\\n\\t\\t\\t\\t\\n\\t\\t\\t\\t\\n\\t\\t\\t\\t\\t\\n\\t\\t\\t\\t\\t\\n\\t\\t\\t\\t\\t\\n\\t\\t\\t\\t\\t\\t\\n\\t\\t\\t\\t\\t\\n\\t\\t\\t\\t\\n\\n\\t\\t\\t\\t\\n\\t\\t\\t\\t\\n\\t\\t\\t'"
      ]
     },
     "execution_count": 146,
     "metadata": {},
     "output_type": "execute_result"
    }
   ],
   "source": [
    "re.sub('[0-9a-zA-Zㄱ-ㅣ가-힣 ]','',tit_text)"
   ]
  },
  {
   "cell_type": "code",
   "execution_count": 147,
   "metadata": {},
   "outputs": [
    {
     "data": {
      "text/plain": [
       "'맥북 파이썬 편집기 창 없음'"
      ]
     },
     "execution_count": 147,
     "metadata": {},
     "output_type": "execute_result"
    }
   ],
   "source": [
    "tit_text = re.sub('[^ㄱ-ㅣ가-힣 ]','',tit_text)\n",
    "tit_text"
   ]
  },
  {
   "cell_type": "markdown",
   "metadata": {},
   "source": [
    "### Sub 본문 추출"
   ]
  },
  {
   "cell_type": "code",
   "execution_count": 148,
   "metadata": {},
   "outputs": [
    {
     "data": {
      "text/plain": [
       "'\\n\\t\\t\\t\\t\\t\\n\\t\\t\\t\\t\\t\\t\\n\\t\\t\\t\\t\\t\\t이번에 맥북을 새로 사서 과제하려고 파이썬을 설치했는데요,\\xa0 윈도우에서는 IDLE shell창에 편집기를 여는 창 (File Edit Shell Debug Options Window Help가 위에 떠있는 창) 이 있었는데맥북에 설치한 파이썬은 편집기를 여는 창이 없더라구요....과제를 편집기로 제출해야하는데, 이 경우에는 어떻게 해야할까요? 맥북에서는 편집기를 어떻게 열어야 하나요....?\\n'"
      ]
     },
     "execution_count": 148,
     "metadata": {},
     "output_type": "execute_result"
    }
   ],
   "source": [
    "content_url = \"#content > div.endContentLeft._endContentLeft > div.contentArea._contentWrap > div.questionDetail\"\n",
    "content_text = soup_sub.select_one(content_url).text\n",
    "content_text"
   ]
  },
  {
   "cell_type": "code",
   "execution_count": 149,
   "metadata": {},
   "outputs": [
    {
     "data": {
      "text/plain": [
       "'이번에 맥북을 새로 사서 과제하려고 파이썬을 설치했는데요 윈도우에서는 IDLE shell창에 편집기를 여는 창 File Edit Shell Debug Options Window Help가 위에 떠있는 창 이 있었는데맥북에 설치한 파이썬은 편집기를 여는 창이 없더라구요과제를 편집기로 제출해야하는데 이 경우에는 어떻게 해야할까요 맥북에서는 편집기를 어떻게 열어야 하나요'"
      ]
     },
     "execution_count": 149,
     "metadata": {},
     "output_type": "execute_result"
    }
   ],
   "source": [
    "content_text = re.sub('[^0-9a-zA-Zㄱ-ㅣ가-힣 ]','',content_text)\n",
    "content_text"
   ]
  },
  {
   "cell_type": "markdown",
   "metadata": {},
   "source": [
    "### Sub 답변 추출"
   ]
  },
  {
   "cell_type": "code",
   "execution_count": 201,
   "metadata": {},
   "outputs": [
    {
     "data": {
      "text/plain": [
       "[<div class=\"se-module se-module-text\"> <!-- SE-TEXT { --><p class=\"se-text-paragraph se-text-paragraph-align-\" id=\"SE-ced734db-d961-11ef-ac73-a1b6af0d8148\" style=\"\"><span class=\"se-fs- se-ff-\" id=\"SE-0b803aeb-d962-11ef-ac73-a1984e5490f0\" style=\"\">맥북 처음이신가 보네요.</span></p><!-- } SE-TEXT --><!-- SE-TEXT { --><p class=\"se-text-paragraph se-text-paragraph-align-\" id=\"SE-d43bd299-d961-11ef-ac73-71e0da5b1070\" style=\"\"><span class=\"se-fs- se-ff-\" id=\"SE-0b803aec-d962-11ef-ac73-334711cd0ab4\" style=\"\">윈도우와 다르게 맥북은 툴바가 창 내에 있는게 아니라 가장 상단(애플로고 옆으로)에 있습니다.</span></p><!-- } SE-TEXT --> </div>]"
      ]
     },
     "execution_count": 201,
     "metadata": {},
     "output_type": "execute_result"
    }
   ],
   "source": [
    "# 답변 \n",
    "# answer_text_lst = soup_sub.select('#answer_2 > div._endContents.c-heading-answer__content')\n",
    "answer_text_lst = soup_sub.select('#SE-ced734d9-d961-11ef-ac73-99bf45991ec1 > div > div > div')\n",
    "answer_text_lst"
   ]
  },
  {
   "cell_type": "code",
   "execution_count": 202,
   "metadata": {},
   "outputs": [
    {
     "data": {
      "text/plain": [
       "1"
      ]
     },
     "execution_count": 202,
     "metadata": {},
     "output_type": "execute_result"
    }
   ],
   "source": [
    "len(answer_text_lst)"
   ]
  },
  {
   "cell_type": "code",
   "execution_count": 203,
   "metadata": {},
   "outputs": [
    {
     "data": {
      "text/plain": [
       "' 맥북 처음이신가 보네요.윈도우와 다르게 맥북은 툴바가 창 내에 있는게 아니라 가장 상단(애플로고 옆으로)에 있습니다. '"
      ]
     },
     "execution_count": 203,
     "metadata": {},
     "output_type": "execute_result"
    }
   ],
   "source": [
    "answer_text_lst[0].text"
   ]
  },
  {
   "cell_type": "code",
   "execution_count": 159,
   "metadata": {},
   "outputs": [],
   "source": [
    "answer_text = \"\"\n",
    "for i in answer_text_lst:\n",
    "    answer = re.sub('[^a-zA-Zㄱ-ㅣ가-힣 ]','',i.text)\n",
    "    answer_text = answer_text + \" \" + answer"
   ]
  },
  {
   "cell_type": "code",
   "execution_count": 160,
   "metadata": {},
   "outputs": [
    {
     "data": {
      "text/plain": [
       "'맥북 처음이신가 보네요윈도우와 다르게 맥북은 툴바가 창 내에 있는게 아니라 가장 상단애플로고 옆으로에 있습니다'"
      ]
     },
     "execution_count": 160,
     "metadata": {},
     "output_type": "execute_result"
    }
   ],
   "source": [
    "answer_text.strip()"
   ]
  },
  {
   "cell_type": "markdown",
   "metadata": {},
   "source": [
    "------------"
   ]
  },
  {
   "cell_type": "markdown",
   "metadata": {},
   "source": [
    "## 네이버 지식인 크롤링 자동화"
   ]
  },
  {
   "cell_type": "code",
   "execution_count": 40,
   "metadata": {},
   "outputs": [],
   "source": [
    "# 1. 검색 결과 n페이지를 봐야하고 (검색어가 있어야 한다.)\n",
    "#     2. n 하이퍼링크에 연결된 게시물로 이동\n",
    "#     2-1. 제목을 추출\n",
    "#     2-2. 본문을 추출(만약 본문이 없으면 '본문 없음')\n",
    "#     2-3. 답변을 추출\n",
    "#     2-3-1. 여러개의 답변일 경우 하나의 문자열로 만든다\n",
    "#     3. 추출한 제목,본문,답변을 리스트에 추가"
   ]
  },
  {
   "attachments": {},
   "cell_type": "markdown",
   "metadata": {},
   "source": [
    "## 종합코드"
   ]
  },
  {
   "cell_type": "code",
   "execution_count": 2,
   "metadata": {},
   "outputs": [],
   "source": [
    "import re\n",
    "from bs4 import BeautifulSoup  \n",
    "import pandas as pd\n",
    "import requests\n",
    "\n",
    "\n",
    "# 데이터 저장하기 위해 데이터프레임 생성\n",
    "idx = 0\n",
    "kin_df = pd.DataFrame(columns=['제목','본문','답변']) \n",
    "\n",
    "# URL 만들기\n",
    "keyword = '파이썬'\n",
    "page_num = 10\n",
    "\n",
    "url = f'https://kin.naver.com/search/list.naver?query={keyword}&page={page_num}'\n",
    "\n",
    "for num in range(page_num):\n",
    "    url = f'https://kin.naver.com/search/list.naver?query={keyword}&page={num+1}'\n",
    "    # print(url)\n",
    "    html = requests.get(url)                                     # 검색 요청하고 HTML 가져오기\n",
    "    soup = BeautifulSoup(html.content, 'html.parser')            # 검색 결과 파싱\n",
    "    products = soup.select(\"#s_content > div.section > ul > li > dl > dt > a\")\n",
    "\n",
    "    for product in products:\n",
    "        sub_url = product.get('href')                            # 서브 URL 추출\n",
    "        # print(sub_url)\n",
    "        html_sub = requests.get(sub_url)                         # 서브 URL 요청\n",
    "        soup_sub = BeautifulSoup(html_sub.content,'html.parser') # HTML 가져오기\n",
    "        \n",
    "        # 서브 제목 추출\n",
    "        sel = \"#content > div.endContentLeft._endContentLeft > div.contentArea._contentWrap > div.endTitleSection\"\n",
    "        tit_text = soup_sub.select_one(sel).text \n",
    "        tit_text = tit_text.replace('질문', '')\n",
    "        tit_text = re.sub('[^ㄱ-ㅣ가-힣 ]','',tit_text)  # 문장 정규화\n",
    "        \n",
    "        # 서브 본문 추출\n",
    "        content_url = \"#content > div.endContentLeft._endContentLeft > div.contentArea._contentWrap > div.questionDetail\"\n",
    "        content_text = soup_sub.select_one(content_url).text\n",
    "        content_text = re.sub('[^a-zA-Zㄱ-ㅣ가-힣 ]','', content_text) # 문장 정규화\n",
    "        \n",
    "        # 만약 본문이 없으면 '본문 없음'을 기록\n",
    "        if content_text == '':\n",
    "            content_text = '본문 없음'\n",
    "\n",
    "        # 서브 답변 추출\n",
    "        answer_text_lst = soup_sub.select('div.answerDetail._endContents._endContentsText')\n",
    "        answer_text = re.sub('[^a-zA-Zㄱ-ㅣ가-힣 ]','', answer_text_lst[0].text).strip() # 문장 정규화\n",
    "\n",
    "        # 데이터프레임 안에 데이터 기록\n",
    "        idx += 1\n",
    "        kin_df.loc[idx] = [tit_text,content_text,answer_text]"
   ]
  },
  {
   "cell_type": "code",
   "execution_count": 3,
   "metadata": {},
   "outputs": [
    {
     "name": "stdout",
     "output_type": "stream",
     "text": [
      "ex)검색결과 페이지: https://kin.naver.com/search/list.naver?query=파이썬&page=10\n",
      "ex)하이퍼링크에 연결된 게시물로 이동: https://kin.naver.com/qna/detail.naver?d1id=11&dirId=110409&docId=476492291&qb=7YyM7J207I2s&enc=utf8\n"
     ]
    }
   ],
   "source": [
    "print(f\"ex)검색결과 페이지: {url}\")\n",
    "print(f\"ex)하이퍼링크에 연결된 게시물로 이동: {sub_url}\")"
   ]
  },
  {
   "cell_type": "code",
   "execution_count": 4,
   "metadata": {},
   "outputs": [
    {
     "data": {
      "text/html": [
       "<div>\n",
       "<style scoped>\n",
       "    .dataframe tbody tr th:only-of-type {\n",
       "        vertical-align: middle;\n",
       "    }\n",
       "\n",
       "    .dataframe tbody tr th {\n",
       "        vertical-align: top;\n",
       "    }\n",
       "\n",
       "    .dataframe thead th {\n",
       "        text-align: right;\n",
       "    }\n",
       "</style>\n",
       "<table border=\"1\" class=\"dataframe\">\n",
       "  <thead>\n",
       "    <tr style=\"text-align: right;\">\n",
       "      <th></th>\n",
       "      <th>제목</th>\n",
       "      <th>본문</th>\n",
       "      <th>답변</th>\n",
       "    </tr>\n",
       "  </thead>\n",
       "  <tbody>\n",
       "    <tr>\n",
       "      <th>1</th>\n",
       "      <td>파이썬강의로 배우기 괜찮을까요</td>\n",
       "      <td>이쪽 전문지식이 거의 없는 비전공자입니다그래서 아주 쉬운것부터 알려줄 파이썬강의가 ...</td>\n",
       "      <td>처음 배울때는 많이 어렵기 때문에 온라인으로 파이썬강의을 듣기보다는전문 교육기관에서...</td>\n",
       "    </tr>\n",
       "    <tr>\n",
       "      <th>2</th>\n",
       "      <td>파이썬</td>\n",
       "      <td>파이썬 open함수로 엑셀파일을 열수있나요</td>\n",
       "      <td>open 함수는 일반적인 텍스트 파일을 열기 위한 기본 함수입니다 엑셀 파일은 텍스...</td>\n",
       "    </tr>\n",
       "    <tr>\n",
       "      <th>3</th>\n",
       "      <td>언어 배우고 파이썬</td>\n",
       "      <td>C언어 기초를 직전 학기에 들었는데 복전 조건 강의가 파이썬 기초인데 C언어랑 파이...</td>\n",
       "      <td>C언어와 파이썬은 기본적인 프로그래밍 개념변수 연산자 조건문 반복문 함수 등은 유사...</td>\n",
       "    </tr>\n",
       "  </tbody>\n",
       "</table>\n",
       "</div>"
      ],
      "text/plain": [
       "                 제목                                                 본문  \\\n",
       "1  파이썬강의로 배우기 괜찮을까요  이쪽 전문지식이 거의 없는 비전공자입니다그래서 아주 쉬운것부터 알려줄 파이썬강의가 ...   \n",
       "2              파이썬                             파이썬 open함수로 엑셀파일을 열수있나요   \n",
       "3        언어 배우고 파이썬  C언어 기초를 직전 학기에 들었는데 복전 조건 강의가 파이썬 기초인데 C언어랑 파이...   \n",
       "\n",
       "                                                  답변  \n",
       "1  처음 배울때는 많이 어렵기 때문에 온라인으로 파이썬강의을 듣기보다는전문 교육기관에서...  \n",
       "2  open 함수는 일반적인 텍스트 파일을 열기 위한 기본 함수입니다 엑셀 파일은 텍스...  \n",
       "3  C언어와 파이썬은 기본적인 프로그래밍 개념변수 연산자 조건문 반복문 함수 등은 유사...  "
      ]
     },
     "execution_count": 4,
     "metadata": {},
     "output_type": "execute_result"
    }
   ],
   "source": [
    "kin_df.head(3)"
   ]
  },
  {
   "cell_type": "code",
   "execution_count": 5,
   "metadata": {},
   "outputs": [
    {
     "name": "stdout",
     "output_type": "stream",
     "text": [
      "<class 'pandas.core.frame.DataFrame'>\n",
      "Index: 100 entries, 1 to 100\n",
      "Data columns (total 3 columns):\n",
      " #   Column  Non-Null Count  Dtype \n",
      "---  ------  --------------  ----- \n",
      " 0   제목      100 non-null    object\n",
      " 1   본문      100 non-null    object\n",
      " 2   답변      100 non-null    object\n",
      "dtypes: object(3)\n",
      "memory usage: 3.1+ KB\n"
     ]
    }
   ],
   "source": [
    "kin_df.info()"
   ]
  },
  {
   "cell_type": "markdown",
   "metadata": {},
   "source": [
    "## 데이터프레임 저장"
   ]
  },
  {
   "cell_type": "code",
   "execution_count": 7,
   "metadata": {},
   "outputs": [],
   "source": [
    "kin_df.to_csv('./data/JK_파이썬_지식인크롤링.csv')"
   ]
  }
 ],
 "metadata": {
  "kernelspec": {
   "display_name": "Python 3",
   "language": "python",
   "name": "python3"
  },
  "language_info": {
   "codemirror_mode": {
    "name": "ipython",
    "version": 3
   },
   "file_extension": ".py",
   "mimetype": "text/x-python",
   "name": "python",
   "nbconvert_exporter": "python",
   "pygments_lexer": "ipython3",
   "version": "3.10.12"
  },
  "toc": {
   "base_numbering": 1,
   "nav_menu": {},
   "number_sections": true,
   "sideBar": true,
   "skip_h1_title": false,
   "title_cell": "Table of Contents",
   "title_sidebar": "Contents",
   "toc_cell": false,
   "toc_position": {
    "height": "calc(100% - 180px)",
    "left": "10px",
    "top": "150px",
    "width": "231px"
   },
   "toc_section_display": true,
   "toc_window_display": true
  },
  "varInspector": {
   "cols": {
    "lenName": 16,
    "lenType": 16,
    "lenVar": 40
   },
   "kernels_config": {
    "python": {
     "delete_cmd_postfix": "",
     "delete_cmd_prefix": "del ",
     "library": "var_list.py",
     "varRefreshCmd": "print(var_dic_list())"
    },
    "r": {
     "delete_cmd_postfix": ") ",
     "delete_cmd_prefix": "rm(",
     "library": "var_list.r",
     "varRefreshCmd": "cat(var_dic_list()) "
    }
   },
   "types_to_exclude": [
    "module",
    "function",
    "builtin_function_or_method",
    "instance",
    "_Feature"
   ],
   "window_display": false
  }
 },
 "nbformat": 4,
 "nbformat_minor": 4
}
