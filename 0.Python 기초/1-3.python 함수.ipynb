{
 "cells": [
  {
   "cell_type": "markdown",
   "metadata": {
    "id": "km76ZHOcFe7z"
   },
   "source": [
    "## 함수\n",
    "\n",
    "* 함수의 기능만 이해하고\n",
    "* 입력값과 출력값만 신경써서 사용하면 됨\n",
    "* 참고: 파이썬 내장함수 (built-in functions)<br>\n",
    "https://docs.python.org/3.9/library/functions.html   \n",
    "\n",
    "<img src=\"https://mathinsight.org/media/image/image/function_machine.png\" style=\"float: left; width:300px; height:300px;\"/> \n",
    "\n"
   ]
  },
  {
   "cell_type": "markdown",
   "metadata": {},
   "source": [
    "## 함수란?\n",
    "\n",
    "* 입력값(매개변수)를 전달하면 어떤 일을 수행한 다음 그 결과물을 반환하는 것입니다. \n",
    "\n",
    "함수를 사용하는 이유\n",
    "1. 귀차니즘\n",
    "    같은 코드를 반복해서 사용하고 있다면 함수를 써야할 타이밍!\n",
    "\n",
    "2. 코드 해석이 용이\n",
    "    함수를 사용하면 코드를 기능 단위로 묶을 수 있고, 이를 호출하는 곳에서는 프로그램의 전체 흐름 파악이 쉬워집니다. \n",
    "\n",
    "3. 유지보수가 용이\n",
    "    * 기능 단위로 묶어져 있어 코드가 꼬일일이 적어집니다. \n",
    "    * 함수 내에서 사용하는 변수(지역변수)와 전역 변수로 나눠, 변수 값이 어떻게 변하는지 파악하기 쉽습니다. \n",
    "    "
   ]
  },
  {
   "cell_type": "markdown",
   "metadata": {},
   "source": [
    "## 함수 구조\n",
    "\n",
    "1. 함수의 정의는 def로 시작합니다. \n",
    "2. 함수이름\n",
    "    * 영문, 숫자와 밑줄을 사용할 수 있습니다. \n",
    "    * 단, 숫자로 시작하면 X\n",
    "3. 매개변수\n",
    "    * 함수에 입력으로 전달되는 값을 받는 변수입니다. \n",
    "4. : 콜론\n",
    "    * if, for문 처럼 콜론을 붙입니다. \n",
    "4. 수행문장\n",
    "    * 함수의 기능을 구현한 코드입니다. \n",
    "    * 들여쓰기를 꼭꼭꼭 해야합니다. \n",
    "4. return\n",
    "    * 함수의 결과값입니다. "
   ]
  },
  {
   "attachments": {},
   "cell_type": "markdown",
   "metadata": {
    "id": "0VCG1tNYFe7z"
   },
   "source": [
    "```python\n",
    "def 함수이름(매개변수1, 매개변수2,...):\n",
    "\n",
    "    실행문장\n",
    "    \n",
    "    return 리턴값    \n"
   ]
  },
  {
   "cell_type": "markdown",
   "metadata": {},
   "source": [
    "> [함수 정의]\n",
    "> * 함수를 사용하기 위해서는 반드시 정의를 먼저 해야 합니다. (메모리에 올라가 있어야 함)"
   ]
  },
  {
   "cell_type": "markdown",
   "metadata": {
    "id": "1JGc12dvFe70"
   },
   "source": [
    "## 함수의 정의"
   ]
  },
  {
   "cell_type": "code",
   "execution_count": 1,
   "metadata": {
    "id": "F2LQp4WSFe70"
   },
   "outputs": [],
   "source": [
    "#매개변수 없는 함수\n",
    "\n",
    "def func1():\n",
    "    print(\"함수 안 입니다.\")"
   ]
  },
  {
   "cell_type": "code",
   "execution_count": 2,
   "metadata": {
    "id": "UI7hs_qIFe70",
    "outputId": "cce2437c-16cf-4fb8-cf77-297dfe8b6fc6"
   },
   "outputs": [
    {
     "name": "stdout",
     "output_type": "stream",
     "text": [
      "함수 안 입니다.\n",
      "함수 밖 입니다.\n"
     ]
    }
   ],
   "source": [
    "func1()\n",
    "print(\"함수 밖 입니다.\")"
   ]
  },
  {
   "cell_type": "code",
   "execution_count": 3,
   "metadata": {
    "id": "aU3GHLoMFe70",
    "outputId": "9ba7d0e3-91c9-41bf-9b91-0ddb1768700d"
   },
   "outputs": [
    {
     "name": "stdout",
     "output_type": "stream",
     "text": [
      "안녕하세요 진돌 님\n"
     ]
    }
   ],
   "source": [
    "# 매개변수 있는 함수\n",
    "def print_hello(name):\n",
    "    print(\"안녕하세요\", name,\"님\")\n",
    "\n",
    "print_hello('진돌')"
   ]
  },
  {
   "cell_type": "code",
   "execution_count": 4,
   "metadata": {
    "id": "oW3T2bfjFe70",
    "outputId": "c4c31d2e-ee53-4b79-e904-8bd65167d7db"
   },
   "outputs": [
    {
     "name": "stdout",
     "output_type": "stream",
     "text": [
      "안녕하세요 고영희 님\n"
     ]
    }
   ],
   "source": [
    "print_hello('고영희')"
   ]
  },
  {
   "cell_type": "code",
   "execution_count": 7,
   "metadata": {
    "id": "E-rxzPIxFe70",
    "outputId": "8db7d16a-d11f-4ffb-dc08-ace6ea598134"
   },
   "outputs": [
    {
     "name": "stdout",
     "output_type": "stream",
     "text": [
      "안녕하세요 진돌 님\n"
     ]
    }
   ],
   "source": [
    "# 반환값이 있는 함수\n",
    "def getHello():\n",
    "    return \"안녕하세요\"\n",
    "\n",
    "data = getHello()\n",
    "print(data + ' 진돌 님')"
   ]
  },
  {
   "cell_type": "code",
   "execution_count": 20,
   "metadata": {
    "id": "n8O0bulVFe71",
    "outputId": "ea00902c-b188-4a7e-e9a7-d6f85b86a47d"
   },
   "outputs": [
    {
     "name": "stdout",
     "output_type": "stream",
     "text": [
      "안녕하세요 진돌 님\n"
     ]
    }
   ],
   "source": [
    "# 반환값이 없는 함수\n",
    "def print_hello(name):\n",
    "    print(\"안녕하세요\", name, \"님\")\n",
    "\n",
    "print_hello('진돌')"
   ]
  },
  {
   "cell_type": "code",
   "execution_count": 21,
   "metadata": {},
   "outputs": [],
   "source": [
    "# 복수개의 반환 값\n",
    "\n",
    "def calc(x,y):\n",
    "    return x+y, x-y"
   ]
  },
  {
   "cell_type": "code",
   "execution_count": 25,
   "metadata": {},
   "outputs": [],
   "source": [
    "add, sub = calc(12, 15)"
   ]
  },
  {
   "cell_type": "code",
   "execution_count": 29,
   "metadata": {},
   "outputs": [
    {
     "name": "stdout",
     "output_type": "stream",
     "text": [
      "덧셈의 결과는 27 입니다\n",
      "뺄셈의 결과는 -3 입니다\n"
     ]
    }
   ],
   "source": [
    "add, sub = calc(12, 15)\n",
    "print('덧셈의 결과는 {} 입니다'.format(add))\n",
    "print('뺄셈의 결과는 {} 입니다'.format(sub))"
   ]
  },
  {
   "cell_type": "code",
   "execution_count": 32,
   "metadata": {},
   "outputs": [
    {
     "data": {
      "text/plain": [
       "tuple"
      ]
     },
     "execution_count": 32,
     "metadata": {},
     "output_type": "execute_result"
    }
   ],
   "source": [
    "type(calc(12, 15))"
   ]
  },
  {
   "cell_type": "markdown",
   "metadata": {},
   "source": [
    "---"
   ]
  },
  {
   "cell_type": "markdown",
   "metadata": {},
   "source": [
    "## 매개변수\n",
    "\n",
    "* 다양한 용어가 존재합니다. \n",
    "* 인수(arguments), 매개변수(parameter), 인자 또는 입력 인수라고 합니다. "
   ]
  },
  {
   "cell_type": "markdown",
   "metadata": {},
   "source": [
    "### 기본값 정의\n",
    "\n",
    "* 함수를 정의 할때 매개변수의 기본값까지 정의된 경우, 함수 호출 시 해당 매개변수를 생략하면 기본으로 지정된 값을 사용한다.\n",
    "* 기본값 이외의 값을 적용하고 싶을 경우 함수 호출시 매개변수 값을 지정하면 된다.  "
   ]
  },
  {
   "cell_type": "code",
   "execution_count": 34,
   "metadata": {},
   "outputs": [],
   "source": [
    "# 주 근무 시간에 따른 주급(만원) 계산 함수 정의 \n",
    "def week(hours):\n",
    "    return hours * 10000"
   ]
  },
  {
   "cell_type": "code",
   "execution_count": 35,
   "metadata": {},
   "outputs": [
    {
     "data": {
      "text/plain": [
       "230000"
      ]
     },
     "execution_count": 35,
     "metadata": {},
     "output_type": "execute_result"
    }
   ],
   "source": [
    "week(23)"
   ]
  },
  {
   "cell_type": "code",
   "execution_count": 37,
   "metadata": {},
   "outputs": [
    {
     "ename": "TypeError",
     "evalue": "week() missing 1 required positional argument: 'hours'",
     "output_type": "error",
     "traceback": [
      "\u001b[0;31m---------------------------------------------------------------------------\u001b[0m",
      "\u001b[0;31mTypeError\u001b[0m                                 Traceback (most recent call last)",
      "Cell \u001b[0;32mIn[37], line 1\u001b[0m\n\u001b[0;32m----> 1\u001b[0m \u001b[43mweek\u001b[49m\u001b[43m(\u001b[49m\u001b[43m)\u001b[49m\n",
      "\u001b[0;31mTypeError\u001b[0m: week() missing 1 required positional argument: 'hours'"
     ]
    }
   ],
   "source": [
    "week()"
   ]
  },
  {
   "cell_type": "code",
   "execution_count": 38,
   "metadata": {},
   "outputs": [],
   "source": [
    "# 매개변수에 기본값 정의\n",
    "\n",
    "def week(hours=40):\n",
    "    return hours * 10000"
   ]
  },
  {
   "cell_type": "code",
   "execution_count": 39,
   "metadata": {},
   "outputs": [
    {
     "data": {
      "text/plain": [
       "400000"
      ]
     },
     "execution_count": 39,
     "metadata": {},
     "output_type": "execute_result"
    }
   ],
   "source": [
    "week()"
   ]
  },
  {
   "cell_type": "code",
   "execution_count": 41,
   "metadata": {},
   "outputs": [
    {
     "data": {
      "text/plain": [
       "120000"
      ]
     },
     "execution_count": 41,
     "metadata": {},
     "output_type": "execute_result"
    }
   ],
   "source": [
    "week(12)"
   ]
  },
  {
   "cell_type": "markdown",
   "metadata": {},
   "source": [
    "### 필수 매개변수와 옵션 매개변수\n",
    "\n",
    "* 필수는 반드시 제공해야하는 값\n",
    "* 옵션은 기본 값이 제공된 경우"
   ]
  },
  {
   "cell_type": "code",
   "execution_count": 45,
   "metadata": {},
   "outputs": [],
   "source": [
    "def info(name, add, age=14, hobby='game'):\n",
    "    print(\"이름:\", name)\n",
    "    print(\"주소:\", add)\n",
    "    print(\"나이:\", age)\n",
    "    print(\"취미:\", hobby)"
   ]
  },
  {
   "cell_type": "code",
   "execution_count": 49,
   "metadata": {},
   "outputs": [
    {
     "name": "stdout",
     "output_type": "stream",
     "text": [
      "이름: 뉴진스님\n",
      "주소: 서울\n",
      "나이: 14\n",
      "취미: game\n"
     ]
    }
   ],
   "source": [
    "info('뉴진스님', '서울')"
   ]
  },
  {
   "cell_type": "code",
   "execution_count": 50,
   "metadata": {},
   "outputs": [
    {
     "name": "stdout",
     "output_type": "stream",
     "text": [
      "이름: 뉴진스님\n",
      "주소: 서울\n",
      "나이: 20\n",
      "취미: game\n"
     ]
    }
   ],
   "source": [
    "info('뉴진스님', '서울', 20)"
   ]
  },
  {
   "cell_type": "markdown",
   "metadata": {},
   "source": [
    "### 매개변수 개수를 모르는 경우\n",
    "\n",
    "* 함수를 정의할 때 복수로 입력되는 매개변수 명 앞에 *를 붙여서 정의"
   ]
  },
  {
   "cell_type": "code",
   "execution_count": 53,
   "metadata": {},
   "outputs": [],
   "source": [
    "def birthday(*names):\n",
    "    for name in names:\n",
    "        print(\"{}님을 생일 파티에 초대합니다.\".format(name))"
   ]
  },
  {
   "cell_type": "code",
   "execution_count": 54,
   "metadata": {},
   "outputs": [
    {
     "name": "stdout",
     "output_type": "stream",
     "text": [
      "뉴진스님을 생일 파티에 초대합니다.\n",
      "에스파님을 생일 파티에 초대합니다.\n",
      "고민시님을 생일 파티에 초대합니다.\n",
      "고윤정님을 생일 파티에 초대합니다.\n"
     ]
    }
   ],
   "source": [
    "birthday('뉴진스', '에스파', '고민시', '고윤정')"
   ]
  },
  {
   "cell_type": "code",
   "execution_count": 56,
   "metadata": {},
   "outputs": [],
   "source": [
    "def birthday(dt, *names):\n",
    "    for name in names:\n",
    "        print(\"{}일, {}님을 생일 파티에 초대합니다\".format(dt, name))"
   ]
  },
  {
   "cell_type": "code",
   "execution_count": 57,
   "metadata": {},
   "outputs": [
    {
     "name": "stdout",
     "output_type": "stream",
     "text": [
      "2024/12/25일, 뉴진스님을 생일 파티에 초대합니다\n",
      "2024/12/25일, 에스파님을 생일 파티에 초대합니다\n",
      "2024/12/25일, 고민시님을 생일 파티에 초대합니다\n",
      "2024/12/25일, 고윤정님을 생일 파티에 초대합니다\n"
     ]
    }
   ],
   "source": [
    "birthday('2024/12/25', '뉴진스', '에스파', '고민시', '고윤정')"
   ]
  },
  {
   "cell_type": "code",
   "execution_count": 60,
   "metadata": {},
   "outputs": [],
   "source": [
    "birthday('2024/12/25')"
   ]
  },
  {
   "cell_type": "markdown",
   "metadata": {
    "id": "CSbDthz-Fe71"
   },
   "source": [
    "### 매개변수에러"
   ]
  },
  {
   "cell_type": "code",
   "execution_count": 69,
   "metadata": {
    "id": "0vjKA1SJFe71"
   },
   "outputs": [],
   "source": [
    "def getHello(name,location):\n",
    "    return \"안녕하세요 {}에 사시는 {} 시청자님\".format(location,name)"
   ]
  },
  {
   "cell_type": "code",
   "execution_count": 73,
   "metadata": {
    "id": "TY0-3PeFFe71",
    "outputId": "f940d3b6-a170-42d7-e73c-242ee5a67abf"
   },
   "outputs": [
    {
     "name": "stdout",
     "output_type": "stream",
     "text": [
      "안녕하세요 서울에 사시는 진돌 시청자님\n"
     ]
    }
   ],
   "source": [
    "greet_str = getHello('진돌','서울')\n",
    "print(greet_str)"
   ]
  },
  {
   "cell_type": "code",
   "execution_count": 76,
   "metadata": {
    "id": "joeSorODFe71",
    "outputId": "40148ffc-f0d1-4433-f662-12cecd41fdaa"
   },
   "outputs": [
    {
     "ename": "TypeError",
     "evalue": "getHello() missing 1 required positional argument: 'location'",
     "output_type": "error",
     "traceback": [
      "\u001b[0;31m---------------------------------------------------------------------------\u001b[0m",
      "\u001b[0;31mTypeError\u001b[0m                                 Traceback (most recent call last)",
      "Cell \u001b[0;32mIn[76], line 1\u001b[0m\n\u001b[0;32m----> 1\u001b[0m greet_str \u001b[38;5;241m=\u001b[39m \u001b[43mgetHello\u001b[49m\u001b[43m(\u001b[49m\u001b[38;5;124;43m'\u001b[39;49m\u001b[38;5;124;43m경기도\u001b[39;49m\u001b[38;5;124;43m'\u001b[39;49m\u001b[43m)\u001b[49m\n\u001b[1;32m      2\u001b[0m \u001b[38;5;28mprint\u001b[39m(greet_str)\n",
      "\u001b[0;31mTypeError\u001b[0m: getHello() missing 1 required positional argument: 'location'"
     ]
    }
   ],
   "source": [
    "greet_str = getHello('경기도')\n",
    "print(greet_str)"
   ]
  },
  {
   "cell_type": "markdown",
   "metadata": {},
   "source": [
    "---"
   ]
  },
  {
   "attachments": {},
   "cell_type": "markdown",
   "metadata": {},
   "source": [
    "## 연습문제\n",
    "\n",
    "VIP 초대장 문구를 자동으로 작성하려고 합니다. \n",
    "아래와 같은 포맷에 맞춰 문구를 출력하세요.\n",
    "\n",
    "```\n",
    "안녕하세요 김수현 님\n",
    "이번 저희 2023년 런칭쇼에 김수현 님을 초대합니다.\n",
    "쿠폰No. 1\n",
    "김수현님 감사합니다.\n",
    "```"
   ]
  },
  {
   "cell_type": "code",
   "execution_count": 77,
   "metadata": {
    "id": "GgSLyeztFe71",
    "outputId": "d6864ca4-3b1a-4f63-f315-506240871e05"
   },
   "outputs": [
    {
     "name": "stdout",
     "output_type": "stream",
     "text": [
      "안녕하세요 김수현님\n",
      "이번 저희 2023년 런칭쇼에 김수현님을 초대합니다.\n",
      "쿠폰No. 1\n",
      "김수현님 감사합니다.\n",
      "\n",
      "안녕하세요 유아인님\n",
      "이번 저희 2023년 런칭쇼에 유아인님을 초대합니다.\n",
      "쿠폰No. 2\n",
      "유아인님 감사합니다.\n",
      "\n",
      "안녕하세요 차은우님\n",
      "이번 저희 2023년 런칭쇼에 차은우님을 초대합니다.\n",
      "쿠폰No. 3\n",
      "차은우님 감사합니다.\n",
      "\n",
      "안녕하세요 박보검님\n",
      "이번 저희 2023년 런칭쇼에 박보검님을 초대합니다.\n",
      "쿠폰No. 4\n",
      "박보검님 감사합니다.\n",
      "\n"
     ]
    }
   ],
   "source": [
    "vip_list=['김수현','유아인','차은우','박보검']\n",
    "\n",
    "num = 0\n",
    "for custom in vip_list:\n",
    "    result = ''\n",
    "    num += 1\n",
    "\n",
    "    greet = f\"안녕하세요 {custom}님\\n\"\n",
    "        \n",
    "    content = f\"이번 저희 2023년 런칭쇼에 {custom}님을 초대합니다.\\n\"\n",
    "    \n",
    "    coupon = f\"쿠폰No. {num}\\n\"\n",
    "    last = coupon + f\"{custom}님 감사합니다.\\n\"\n",
    "    result = greet + content + last \n",
    "\n",
    "    print(result)\n"
   ]
  },
  {
   "cell_type": "markdown",
   "metadata": {
    "id": "Q804fIWlFe72"
   },
   "source": [
    "* 함수 만들어 보기"
   ]
  },
  {
   "cell_type": "code",
   "execution_count": 78,
   "metadata": {
    "id": "j3vMP87MFe72"
   },
   "outputs": [],
   "source": [
    "def make_greet(name):\n",
    "    return f\"안녕하세요 {name}님\"\n",
    "\n",
    "def make_content(name):\n",
    "    return f\"이번 저희 2023년 런칭쇼에 {name}님을 초대합니다.\"\n",
    "\n",
    "def make_last(num, name):\n",
    "    coupon = f\"쿠폰No. {num}\\n\"\n",
    "    last = coupon + f\"{name}님 감사합니다.\"\n",
    "    return last"
   ]
  },
  {
   "cell_type": "code",
   "execution_count": 92,
   "metadata": {
    "id": "pwGp5Tb0Fe72",
    "outputId": "c102d311-bf6f-4a26-cb04-2355afbfe9a4"
   },
   "outputs": [
    {
     "name": "stdout",
     "output_type": "stream",
     "text": [
      "안녕하세요 김수현님\n",
      "이번 저희 2023년 런칭쇼에 김수현님을 초대합니다.\n",
      "쿠폰No. 1\n",
      "김수현님 감사합니다. \n",
      "\n",
      "안녕하세요 유아인님\n",
      "이번 저희 2023년 런칭쇼에 유아인님을 초대합니다.\n",
      "쿠폰No. 2\n",
      "유아인님 감사합니다. \n",
      "\n",
      "안녕하세요 차은우님\n",
      "이번 저희 2023년 런칭쇼에 차은우님을 초대합니다.\n",
      "쿠폰No. 3\n",
      "차은우님 감사합니다. \n",
      "\n",
      "안녕하세요 박보검님\n",
      "이번 저희 2023년 런칭쇼에 박보검님을 초대합니다.\n",
      "쿠폰No. 4\n",
      "박보검님 감사합니다. \n",
      "\n"
     ]
    }
   ],
   "source": [
    "vip_list=['김수현','유아인','차은우','박보검']\n",
    "\n",
    "num = 0\n",
    "for name in vip_list:\n",
    "    num += 1\n",
    "    print(make_greet(name))               # 인삿말 만들기\n",
    "    print(make_content(name))             # 내용 만들기\n",
    "    print(make_last(num, name), \"\\n\")     # 끝맺음말 만들기기"
   ]
  },
  {
   "cell_type": "markdown",
   "metadata": {},
   "source": [
    "---"
   ]
  },
  {
   "cell_type": "markdown",
   "metadata": {
    "id": "uljCAdyQFe73"
   },
   "source": [
    "## lambda\n",
    "\n",
    "* lambda는 함수를 생성할 때 사용하는 예약어로 def와 동일한 역할을 한다. \n",
    "* 보통 함수를 한줄로 간결하게 만들 때 사용한다. \n",
    "* 함수 이름을 붙이지 않고 일시적으로 함수를 작성하고자 할 때 사용한다.\n",
    "* 우리말로는 \"람다\"라고 읽고 def를 사용해야 할 정도로 복잡하지 않거나 def를 사용할 수 없는 곳에 주로 쓰인다."
   ]
  },
  {
   "cell_type": "markdown",
   "metadata": {},
   "source": [
    "```python\n",
    "\n",
    "lambda 매개변수 : 표현식"
   ]
  },
  {
   "cell_type": "code",
   "execution_count": 93,
   "metadata": {
    "id": "KWsUmqVgFe73"
   },
   "outputs": [
    {
     "data": {
      "text/plain": [
       "4"
      ]
     },
     "execution_count": 93,
     "metadata": {},
     "output_type": "execute_result"
    }
   ],
   "source": [
    "def plus2(num):\n",
    "    return num + 2\n",
    "\n",
    "plus2(2)"
   ]
  },
  {
   "cell_type": "code",
   "execution_count": 94,
   "metadata": {
    "id": "ogUdLWL-Fe73",
    "outputId": "5d63f66f-28fb-4ad6-8776-f59d74989454"
   },
   "outputs": [
    {
     "data": {
      "text/plain": [
       "4"
      ]
     },
     "execution_count": 94,
     "metadata": {},
     "output_type": "execute_result"
    }
   ],
   "source": [
    "lf = lambda num : num+2\n",
    "lf(2)"
   ]
  },
  {
   "cell_type": "markdown",
   "metadata": {},
   "source": [
    "---"
   ]
  },
  {
   "cell_type": "markdown",
   "metadata": {
    "id": "YiYVYnVkFe8F"
   },
   "source": [
    "## 변수 유효 범위\n",
    "\n",
    "* 전역변수(global variable) : 프로그램 전체에서 접근이 가능\n",
    "* 지역번수(local variable): 함수내에서 선언된 변수 -> 함수 내에서만 접근 가능"
   ]
  },
  {
   "cell_type": "markdown",
   "metadata": {
    "id": "jcXVL5X1Fe8F"
   },
   "source": [
    "### 전역변수 VS 지역변수"
   ]
  },
  {
   "cell_type": "code",
   "execution_count": 95,
   "metadata": {},
   "outputs": [],
   "source": [
    "a=\"OUT\"\n",
    "\n",
    "def my_func():\n",
    "    a = 'IN'\n",
    "    print(a) #지역변수 a를 출력"
   ]
  },
  {
   "cell_type": "code",
   "execution_count": 96,
   "metadata": {},
   "outputs": [
    {
     "name": "stdout",
     "output_type": "stream",
     "text": [
      "IN\n",
      "OUT\n"
     ]
    }
   ],
   "source": [
    "my_func()\n",
    "\n",
    "print(a)"
   ]
  },
  {
   "cell_type": "code",
   "execution_count": 97,
   "metadata": {},
   "outputs": [
    {
     "name": "stdout",
     "output_type": "stream",
     "text": [
      "OUT\n"
     ]
    }
   ],
   "source": [
    "def my_func2():\n",
    "    print(a) #전역변수 값 출력\n",
    "\n",
    "my_func2()\n"
   ]
  },
  {
   "cell_type": "code",
   "execution_count": 108,
   "metadata": {},
   "outputs": [],
   "source": [
    "a = \"Out\"\n",
    "def my_func2():\n",
    "    global a   #전역변수 값을  함수 내에서 수정하려면 global을 사용해야 함.\n",
    "    a ='Update' "
   ]
  },
  {
   "cell_type": "code",
   "execution_count": 109,
   "metadata": {},
   "outputs": [
    {
     "data": {
      "text/plain": [
       "'Update'"
      ]
     },
     "execution_count": 109,
     "metadata": {},
     "output_type": "execute_result"
    }
   ],
   "source": [
    "my_func2()\n",
    "\n",
    "a"
   ]
  },
  {
   "cell_type": "markdown",
   "metadata": {
    "id": "dgzAW04HFe8G"
   },
   "source": [
    "### 언제 지역변수를 만들고, 언제 전역변수를 만드나요?\n",
    "\n",
    "* 프로그램 전반에 걸쳐 사용될 변수일 경우 전역변수로 만들고,\n",
    "* 함수내에 잠시 필요할 경우 지역변수로 만듬"
   ]
  },
  {
   "cell_type": "markdown",
   "metadata": {},
   "source": [
    "---"
   ]
  },
  {
   "cell_type": "markdown",
   "metadata": {},
   "source": [
    "## 연습문제\n",
    "\n",
    "* 10,12,14,16,18,20도에 대한 화씨를 구하는 프로그램을 작성하세요.\n",
    "* 식: (썹씨 * 9/5) + 32"
   ]
  },
  {
   "cell_type": "code",
   "execution_count": 120,
   "metadata": {},
   "outputs": [],
   "source": [
    "def fash(cels):\n",
    "    return (cels * 9/5) + 32"
   ]
  },
  {
   "cell_type": "code",
   "execution_count": 121,
   "metadata": {},
   "outputs": [
    {
     "name": "stdout",
     "output_type": "stream",
     "text": [
      "10에 대한 화씨는 50.0 입니다. \n",
      "\n",
      "12에 대한 화씨는 53.6 입니다. \n",
      "\n",
      "14에 대한 화씨는 57.2 입니다. \n",
      "\n",
      "16에 대한 화씨는 60.8 입니다. \n",
      "\n",
      "18에 대한 화씨는 64.4 입니다. \n",
      "\n",
      "20에 대한 화씨는 68.0 입니다. \n",
      "\n"
     ]
    }
   ],
   "source": [
    "for cel in range(10, 22, 2):\n",
    "    print(f\"{cel}에 대한 화씨는 {fash(cel)} 입니다. \\n\")"
   ]
  },
  {
   "cell_type": "code",
   "execution_count": 122,
   "metadata": {},
   "outputs": [
    {
     "name": "stdout",
     "output_type": "stream",
     "text": [
      "10 -> 50.0\n",
      "12 -> 53.6\n",
      "14 -> 57.2\n",
      "16 -> 60.8\n",
      "18 -> 64.4\n",
      "20 -> 68.0\n"
     ]
    }
   ],
   "source": [
    "for cel in range(10, 22, 2):\n",
    "    print(\"{} -> {}\".format(cel, fash(cel)))"
   ]
  },
  {
   "cell_type": "code",
   "execution_count": 123,
   "metadata": {},
   "outputs": [],
   "source": [
    "F = lambda C : (C*9/5) + 32"
   ]
  },
  {
   "cell_type": "code",
   "execution_count": 126,
   "metadata": {},
   "outputs": [
    {
     "name": "stdout",
     "output_type": "stream",
     "text": [
      "50.0\n",
      "53.6\n",
      "57.2\n",
      "60.8\n",
      "64.4\n",
      "68.0\n"
     ]
    }
   ],
   "source": [
    "for cel in range(10, 22, 2):\n",
    "    print(F(cel))"
   ]
  }
 ],
 "metadata": {
  "colab": {
   "name": "1-1.python basic.ipynb",
   "provenance": [],
   "toc_visible": true
  },
  "kernelspec": {
   "display_name": "Python 3",
   "language": "python",
   "name": "python3"
  },
  "language_info": {
   "codemirror_mode": {
    "name": "ipython",
    "version": 3
   },
   "file_extension": ".py",
   "mimetype": "text/x-python",
   "name": "python",
   "nbconvert_exporter": "python",
   "pygments_lexer": "ipython3",
   "version": "3.10.12"
  },
  "toc": {
   "base_numbering": 1,
   "nav_menu": {},
   "number_sections": true,
   "sideBar": true,
   "skip_h1_title": false,
   "title_cell": "Table of Contents",
   "title_sidebar": "Contents",
   "toc_cell": false,
   "toc_position": {
    "height": "calc(100% - 180px)",
    "left": "10px",
    "top": "150px",
    "width": "354px"
   },
   "toc_section_display": true,
   "toc_window_display": true
  },
  "varInspector": {
   "cols": {
    "lenName": 16,
    "lenType": 16,
    "lenVar": 40
   },
   "kernels_config": {
    "python": {
     "delete_cmd_postfix": "",
     "delete_cmd_prefix": "del ",
     "library": "var_list.py",
     "varRefreshCmd": "print(var_dic_list())"
    },
    "r": {
     "delete_cmd_postfix": ") ",
     "delete_cmd_prefix": "rm(",
     "library": "var_list.r",
     "varRefreshCmd": "cat(var_dic_list()) "
    }
   },
   "types_to_exclude": [
    "module",
    "function",
    "builtin_function_or_method",
    "instance",
    "_Feature"
   ],
   "window_display": false
  }
 },
 "nbformat": 4,
 "nbformat_minor": 0
}
