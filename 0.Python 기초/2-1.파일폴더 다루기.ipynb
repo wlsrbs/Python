{
 "cells": [
  {
   "cell_type": "markdown",
   "metadata": {},
   "source": [
    "# 파일과 폴더 다루기"
   ]
  },
  {
   "cell_type": "markdown",
   "metadata": {},
   "source": [
    "## 관련 라이브러리\n",
    "\n",
    "1. os\n",
    "os 모듈은 폴더(디렉토리)를 생성하거나 경로(path)를 다룰 때 사용합니다.\n",
    "\n",
    "2. shutil\n",
    "shutil 모듈은 파일을 복사하거나 이동시킬 때 사용합니다.\n",
    "\n",
    "3. glob\n",
    "glob 모듈은 패턴을 사용하여 현재 폴더(디렉토리)는 물론 하위 경로의 파일들을 검색할 때 사용합니다."
   ]
  },
  {
   "cell_type": "markdown",
   "metadata": {},
   "source": [
    "## OS 모듈\n",
    "\n",
    "https://docs.python.org/ko/3/library/os.html"
   ]
  },
  {
   "cell_type": "code",
   "execution_count": 1,
   "metadata": {},
   "outputs": [],
   "source": [
    "import os"
   ]
  },
  {
   "cell_type": "code",
   "execution_count": 2,
   "metadata": {},
   "outputs": [
    {
     "data": {
      "text/plain": [
       "'/mnt/c/users/wlsrb/DeskTop/프로그래밍/2023인공지능교육/3주차/2.예외처리_날짜시간'"
      ]
     },
     "execution_count": 2,
     "metadata": {},
     "output_type": "execute_result"
    }
   ],
   "source": [
    "#현재 디렉토리\n",
    "os.getcwd()"
   ]
  },
  {
   "cell_type": "code",
   "execution_count": null,
   "metadata": {},
   "outputs": [],
   "source": [
    "#현재 드라이버의 루트 폴더 생성\n",
    "os.mkdir('/test_dir')"
   ]
  },
  {
   "cell_type": "code",
   "execution_count": 6,
   "metadata": {},
   "outputs": [],
   "source": [
    "#현재 작업디렉토리 내에 폴더 생성\n",
    "os.mkdir('./test_dir' )"
   ]
  },
  {
   "cell_type": "code",
   "execution_count": 7,
   "metadata": {},
   "outputs": [],
   "source": [
    "#폴더 줄줄이 사탕처럼 생성\n",
    "os.makedirs('./test_dir/a/b/c' )"
   ]
  },
  {
   "cell_type": "code",
   "execution_count": 8,
   "metadata": {},
   "outputs": [
    {
     "ename": "OSError",
     "evalue": "[WinError 145] 디렉터리가 비어 있지 않습니다: './test_dir'",
     "output_type": "error",
     "traceback": [
      "\u001b[1;31m---------------------------------------------------------------------------\u001b[0m",
      "\u001b[1;31mOSError\u001b[0m                                   Traceback (most recent call last)",
      "Cell \u001b[1;32mIn[8], line 1\u001b[0m\n\u001b[1;32m----> 1\u001b[0m os\u001b[39m.\u001b[39;49mremovedirs(\u001b[39m'\u001b[39;49m\u001b[39m./test_dir\u001b[39;49m\u001b[39m'\u001b[39;49m) \u001b[39m#에러가 난다. 지워지지 않는다./동기화 프로그램이 잡고 있음\u001b[39;00m\n",
      "File \u001b[1;32mc:\\python\\lib\\os.py:243\u001b[0m, in \u001b[0;36mremovedirs\u001b[1;34m(name)\u001b[0m\n\u001b[0;32m    232\u001b[0m \u001b[39mdef\u001b[39;00m \u001b[39mremovedirs\u001b[39m(name):\n\u001b[0;32m    233\u001b[0m \u001b[39m    \u001b[39m\u001b[39m\"\"\"removedirs(name)\u001b[39;00m\n\u001b[0;32m    234\u001b[0m \n\u001b[0;32m    235\u001b[0m \u001b[39m    Super-rmdir; remove a leaf directory and all empty intermediate\u001b[39;00m\n\u001b[1;32m   (...)\u001b[0m\n\u001b[0;32m    241\u001b[0m \n\u001b[0;32m    242\u001b[0m \u001b[39m    \"\"\"\u001b[39;00m\n\u001b[1;32m--> 243\u001b[0m     rmdir(name)\n\u001b[0;32m    244\u001b[0m     head, tail \u001b[39m=\u001b[39m path\u001b[39m.\u001b[39msplit(name)\n\u001b[0;32m    245\u001b[0m     \u001b[39mif\u001b[39;00m \u001b[39mnot\u001b[39;00m tail:\n",
      "\u001b[1;31mOSError\u001b[0m: [WinError 145] 디렉터리가 비어 있지 않습니다: './test_dir'"
     ]
    }
   ],
   "source": [
    "os.removedirs('./test_dir') #에러가 난다. 지워지지 않는다."
   ]
  },
  {
   "cell_type": "code",
   "execution_count": 9,
   "metadata": {},
   "outputs": [
    {
     "data": {
      "text/plain": [
       "['0-2.쥬피터노트북 마크다운 사용법.ipynb',\n",
       " '1-1.python 자료형.ipynb',\n",
       " '1-2.python 제어문.ipynb',\n",
       " '1-3.python 함수.ipynb',\n",
       " '1-4.python 라이브러리.ipynb',\n",
       " '1-5.python 예외처리.ipynb',\n",
       " '1-5.python 클래스.ipynb',\n",
       " '1.ORcode',\n",
       " '2-1.파일폴더 다루기.ipynb',\n",
       " '2-2.날짜시간 다루기.ipynb',\n",
       " '2.EasyOCR',\n",
       " '3-1.[연습문제] 자료형 기본_리스트.ipynb',\n",
       " '3-1.[연습문제] 자료형 튜플_딕셔너리.ipynb',\n",
       " '3-2.[연습문제] 제어문.ipynb',\n",
       " '3.사진자동정리하기',\n",
       " 'test_dir']"
      ]
     },
     "execution_count": 9,
     "metadata": {},
     "output_type": "execute_result"
    }
   ],
   "source": [
    "os.listdir( '.')"
   ]
  },
  {
   "cell_type": "code",
   "execution_count": 8,
   "metadata": {},
   "outputs": [],
   "source": [
    "before='./dog1.jpg'\n",
    "after='./dog.jpg'\n",
    "os.rename(before, after)"
   ]
  },
  {
   "cell_type": "markdown",
   "metadata": {},
   "source": [
    "## glob 모듈\n",
    "\n",
    "* glob 모듈은 패턴을 사용하여 현재 폴더(디렉토리)는 물론 하위 경로의 파일들을 검색할 때 사용합니다."
   ]
  },
  {
   "cell_type": "code",
   "execution_count": 9,
   "metadata": {},
   "outputs": [],
   "source": [
    "import glob"
   ]
  },
  {
   "cell_type": "code",
   "execution_count": 22,
   "metadata": {},
   "outputs": [
    {
     "name": "stdout",
     "output_type": "stream",
     "text": [
      "./image\\300dog.jpg\n",
      "./image\\cat.jpg\n",
      "./image\\dog.jpg\n"
     ]
    }
   ],
   "source": [
    "# 패턴을 사용해서 파일 검색\n",
    "flist = glob.glob('./image/*.jpg') \n",
    "\n",
    "for fpath in flist:\n",
    "    print(fpath)"
   ]
  },
  {
   "cell_type": "code",
   "execution_count": 25,
   "metadata": {},
   "outputs": [
    {
     "data": {
      "text/plain": [
       "['./image\\\\300dog.jpg',\n",
       " './image\\\\cat.jpg',\n",
       " './image\\\\dog.jpg',\n",
       " './image\\\\crawl\\\\img1.jpg',\n",
       " './image\\\\crawl\\\\img2.jpg',\n",
       " './image\\\\crawl\\\\img3.jpg',\n",
       " './image\\\\crawl\\\\img4.jpg',\n",
       " './image\\\\crawl\\\\img5.jpg']"
      ]
     },
     "execution_count": 25,
     "metadata": {},
     "output_type": "execute_result"
    }
   ],
   "source": [
    "# 패턴을 사용해서 파일 검색\n",
    "# 하위 폴더까지 모두 검색\n",
    "flist = glob.glob('./image/**/*.jpg',recursive=True) \n",
    "flist"
   ]
  },
  {
   "cell_type": "markdown",
   "metadata": {},
   "source": [
    "## shutil 모듈\n",
    "\n",
    "* 파일과 폴더를 이동하거나 복사하고 싶을 때 사용합니다. "
   ]
  },
  {
   "cell_type": "code",
   "execution_count": 26,
   "metadata": {},
   "outputs": [
    {
     "data": {
      "text/plain": [
       "'./image\\\\img1.jpg'"
      ]
     },
     "execution_count": 26,
     "metadata": {},
     "output_type": "execute_result"
    }
   ],
   "source": [
    "import shutil\n",
    "\n",
    "# 파일을 폴더로 이동\n",
    "shutil.move('./image/crawl/img1.jpg', './image')"
   ]
  },
  {
   "cell_type": "code",
   "execution_count": 27,
   "metadata": {},
   "outputs": [
    {
     "data": {
      "text/plain": [
       "'./image\\\\img1.jpg'"
      ]
     },
     "execution_count": 27,
     "metadata": {},
     "output_type": "execute_result"
    }
   ],
   "source": [
    "# 파일을 폴더로 이동\n",
    "shutil.copy('./image/crawl/img1.jpg', './image')"
   ]
  },
  {
   "cell_type": "code",
   "execution_count": 17,
   "metadata": {},
   "outputs": [],
   "source": [
    "import shutil\n",
    "\n",
    "shutil.rmtree(r'c:/test_dir')"
   ]
  },
  {
   "attachments": {},
   "cell_type": "markdown",
   "metadata": {},
   "source": [
    "## 파일 읽기/쓰기\n",
    "\n",
    "\n",
    "1. open() 함수를 호출하여 file 객체 얻기\n",
    "  - `f = open(path, mode, encoding='utf-8')`\n",
    "  - path : 경로가 포함된 파일이름, 파일이름만 적으면 현재 경로\n",
    "  - mode : 읽기(r), 쓰기(w), 추가(a)\n",
    "      - 'wt' : 덮어쓰기 (텍스트 파일일 경우 t 생략가능)\n",
    "      - 'at' : 내용추가 (텍스트 파일일 경우 t 생략가능)\n",
    "      - 'rt' : 파일읽기 (텍스트 파일일 경우 t 생략가능)\n",
    "      - 'wb', 'ab', 'rb' : 이진 파일  \n",
    "  - 'encoding' : 한글을 사용할 경우 encoding='utf8'을 추가\n",
    "\n",
    "2. read()/readlines(),write()로 읽고 쓰기  \n",
    "  - f.read() : 파일 전체를 하나의 문자열로 읽기\n",
    "  - f.readlines() : 한 줄(\\n)을 하나의 문자열로 읽어 리스트로 반환\n",
    "  - f.write(str) : 문자열을 파일에 쓰기 \n",
    "\n",
    "3. close() 메서드로 파일 닫기\n",
    "  - f.close()"
   ]
  },
  {
   "cell_type": "code",
   "execution_count": 10,
   "metadata": {},
   "outputs": [],
   "source": [
    "# 파일 쓰기\n",
    "f = open('text.txt','w',encoding='utf8')\n",
    "f.write('안녕하세요')\n",
    "f.close()"
   ]
  },
  {
   "cell_type": "code",
   "execution_count": 11,
   "metadata": {},
   "outputs": [],
   "source": [
    "f = open('text.txt','w',encoding='utf8')\n",
    "f.write('안녕하세요')\n",
    "f.write('반갑습니다.')#반갑습니다가 한 줄에 써짐\n",
    "f.close()"
   ]
  },
  {
   "cell_type": "code",
   "execution_count": 12,
   "metadata": {},
   "outputs": [],
   "source": [
    "f = open('text.txt','w',encoding='utf8')\n",
    "f.write('안녕하세요\\n') #개행 추가\n",
    "f.write('반갑습니다.')\n",
    "f.close()"
   ]
  },
  {
   "cell_type": "code",
   "execution_count": 13,
   "metadata": {},
   "outputs": [],
   "source": [
    "# 내용 추가하기\n",
    "f = open('text.txt','a',encoding='utf8')\n",
    "f.write('\\n또만나요')\n",
    "f.close()"
   ]
  },
  {
   "cell_type": "code",
   "execution_count": 22,
   "metadata": {},
   "outputs": [],
   "source": [
    "on = '''I can't understand what people are sayin'\n",
    "어느 장단에 맞춰야 될지\n",
    "한 발자국 떼면 한 발자국 커지는 shadow\n",
    "잠에서 눈을 뜬 여긴 또 어디\n",
    "어쩜 서울 또 New York or Paris\n",
    "일어나니 휘청이는 몸 yeah\n",
    "'''"
   ]
  },
  {
   "cell_type": "code",
   "execution_count": 23,
   "metadata": {},
   "outputs": [],
   "source": [
    "# 파일 쓰기\n",
    "f = open('bts.txt','w',encoding='utf-8')\n",
    "f.write(on)\n",
    "f.close()"
   ]
  },
  {
   "cell_type": "code",
   "execution_count": 16,
   "metadata": {},
   "outputs": [
    {
     "name": "stdout",
     "output_type": "stream",
     "text": [
      "I can't understand what people are sayin'\n",
      "어느 장단에 맞춰야 될지\n",
      "한 발자국 떼면 한 발자국 커지는 shadow\n",
      "잠에서 눈을 뜬 여긴 또 어디\n",
      "어쩜 서울 또 New York or Paris\n",
      "일어나니 휘청이는 몸 yeah\n",
      "\n"
     ]
    }
   ],
   "source": [
    "#파일 읽기\n",
    "f = open('bts.txt','r',encoding='utf-8')\n",
    "msg = f.read()\n",
    "print(msg)\n",
    "f.close()"
   ]
  },
  {
   "cell_type": "code",
   "execution_count": 17,
   "metadata": {},
   "outputs": [
    {
     "name": "stdout",
     "output_type": "stream",
     "text": [
      "I can't understand what people are sayin'\n",
      "\n"
     ]
    }
   ],
   "source": [
    "# readline()로 읽기\n",
    "f = open('bts.txt','r',encoding='utf-8')\n",
    "msg = f.readline()\n",
    "print(msg)\n",
    "f.close()"
   ]
  },
  {
   "cell_type": "code",
   "execution_count": 18,
   "metadata": {},
   "outputs": [
    {
     "name": "stdout",
     "output_type": "stream",
     "text": [
      "[\"I can't understand what people are sayin'\\n\", '어느 장단에 맞춰야 될지\\n', '한 발자국 떼면 한 발자국 커지는 shadow\\n', '잠에서 눈을 뜬 여긴 또 어디\\n', '어쩜 서울 또 New York or Paris\\n', '일어나니 휘청이는 몸 yeah\\n']\n"
     ]
    }
   ],
   "source": [
    "# readlines()로 읽기\n",
    "f = open('bts.txt','r',encoding='utf-8')\n",
    "msg = f.readlines()\n",
    "print(msg)\n",
    "f.close()"
   ]
  },
  {
   "cell_type": "code",
   "execution_count": 19,
   "metadata": {},
   "outputs": [
    {
     "name": "stdout",
     "output_type": "stream",
     "text": [
      "I can't understand what people are sayin'\n",
      "\n",
      "어느 장단에 맞춰야 될지\n",
      "\n",
      "한 발자국 떼면 한 발자국 커지는 shadow\n",
      "\n",
      "잠에서 눈을 뜬 여긴 또 어디\n",
      "\n",
      "어쩜 서울 또 New York or Paris\n",
      "\n",
      "일어나니 휘청이는 몸 yeah\n",
      "\n"
     ]
    }
   ],
   "source": [
    "f = open('bts.txt','r',encoding='utf8')\n",
    "msg = f.readlines()\n",
    "for i in msg:\n",
    "    print(i)\n",
    "f.close()"
   ]
  },
  {
   "cell_type": "code",
   "execution_count": 20,
   "metadata": {},
   "outputs": [
    {
     "data": {
      "text/plain": [
       "'일어나니 휘청이는 몸 yeah\\n'"
      ]
     },
     "execution_count": 20,
     "metadata": {},
     "output_type": "execute_result"
    }
   ],
   "source": [
    "msg[-1] #제일 마지막 가사는?"
   ]
  },
  {
   "attachments": {},
   "cell_type": "markdown",
   "metadata": {},
   "source": [
    "### with ~ as ~ 구문\n",
    "\n",
    "`with open(path, mode, encoding) as f:`\n",
    "- `f.write() f.read()`와 같이 사용\n",
    "- 파일을 닫을 필요 없다.\n"
   ]
  },
  {
   "attachments": {},
   "cell_type": "markdown",
   "metadata": {},
   "source": [
    "\n",
    "with open('bts.txt','r',encoding='utf-8') as f:\n",
    "    print(f.read())"
   ]
  },
  {
   "cell_type": "code",
   "execution_count": 24,
   "metadata": {},
   "outputs": [
    {
     "name": "stdout",
     "output_type": "stream",
     "text": [
      "I can't understand what people are sayin'\n",
      "어느 장단에 맞춰야 될지\n",
      "한 발자국 떼면 한 발자국 커지는 shadow\n",
      "잠에서 눈을 뜬 여긴 또 어디\n",
      "어쩜 서울 또 New York or Paris\n",
      "일어나니 휘청이는 몸 yeah\n",
      "\n"
     ]
    }
   ],
   "source": [
    "with open('bts.txt','r',encoding='utf-8') as f:\n",
    "    print(f.read())"
   ]
  }
 ],
 "metadata": {
  "kernelspec": {
   "display_name": "Python 3",
   "language": "python",
   "name": "python3"
  },
  "language_info": {
   "codemirror_mode": {
    "name": "ipython",
    "version": 3
   },
   "file_extension": ".py",
   "mimetype": "text/x-python",
   "name": "python",
   "nbconvert_exporter": "python",
   "pygments_lexer": "ipython3",
   "version": "3.10.12"
  },
  "orig_nbformat": 4
 },
 "nbformat": 4,
 "nbformat_minor": 2
}
