{
 "cells": [
  {
   "cell_type": "markdown",
   "metadata": {
    "id": "8FjyH-V4Fe8G"
   },
   "source": [
    "## 예외처리\n",
    "\n",
    "* 프로그램 실행도중 발생하는 예외들을 처리합니다. \n",
    "* try ~ except를 사용합니다. \n",
    "* 발생오류들을 파악하기 쉽게 처리할 수 있습니다. "
   ]
  },
  {
   "cell_type": "markdown",
   "metadata": {
    "id": "kNSyR8GfFe8G"
   },
   "source": [
    "```python\n",
    "try:\n",
    "    실행문1\n",
    "    실행문2\n",
    "except:\n",
    "    예외처리문"
   ]
  },
  {
   "cell_type": "markdown",
   "metadata": {
    "id": "AzW0Ssz4Fe8G"
   },
   "source": [
    "```python\n",
    "try:\n",
    "    실행문1\n",
    "except 발생오류:\n",
    "    예외처리문"
   ]
  },
  {
   "cell_type": "markdown",
   "metadata": {
    "id": "IYJUuShDFe8G"
   },
   "source": [
    "### 예외상황"
   ]
  },
  {
   "cell_type": "code",
   "execution_count": 1,
   "metadata": {
    "id": "K-yMplJcFe8G",
    "outputId": "99e68d85-041d-4f4e-be86-0eb0c63923ac"
   },
   "outputs": [
    {
     "ename": "IndexError",
     "evalue": "list index out of range",
     "output_type": "error",
     "traceback": [
      "\u001b[0;31m---------------------------------------------------------------------------\u001b[0m",
      "\u001b[0;31mIndexError\u001b[0m                                Traceback (most recent call last)",
      "Cell \u001b[0;32mIn[1], line 2\u001b[0m\n\u001b[1;32m      1\u001b[0m flist \u001b[38;5;241m=\u001b[39m [\u001b[38;5;124m'\u001b[39m\u001b[38;5;124mimg1.png\u001b[39m\u001b[38;5;124m'\u001b[39m,\u001b[38;5;124m'\u001b[39m\u001b[38;5;124mimg2.png\u001b[39m\u001b[38;5;124m'\u001b[39m,\u001b[38;5;124m'\u001b[39m\u001b[38;5;124mimg3.png\u001b[39m\u001b[38;5;124m'\u001b[39m]\n\u001b[0;32m----> 2\u001b[0m \u001b[43mflist\u001b[49m\u001b[43m[\u001b[49m\u001b[38;5;241;43m3\u001b[39;49m\u001b[43m]\u001b[49m\n",
      "\u001b[0;31mIndexError\u001b[0m: list index out of range"
     ]
    }
   ],
   "source": [
    "flist = ['img1.png','img2.png','img3.png']\n",
    "flist[3]"
   ]
  },
  {
   "cell_type": "markdown",
   "metadata": {
    "id": "VPbxwxWbFe8H"
   },
   "source": [
    "### 예외상황 처리"
   ]
  },
  {
   "cell_type": "code",
   "execution_count": 3,
   "metadata": {
    "id": "zGQ-elXLFe8H",
    "outputId": "8f8de361-2a9e-432f-d926-28056205b355"
   },
   "outputs": [
    {
     "name": "stdout",
     "output_type": "stream",
     "text": [
      "인덱스 에러야!\n"
     ]
    }
   ],
   "source": [
    "flist = ['img1.png','img2.png','img3.png']\n",
    "try:\n",
    "    flist[100]\n",
    "except:\n",
    "    print(\"인덱스 에러야!\")"
   ]
  },
  {
   "cell_type": "code",
   "execution_count": 7,
   "metadata": {},
   "outputs": [
    {
     "ename": "FileNotFoundError",
     "evalue": "[Errno 2] No such file or directory: '나는없는파일.txt'",
     "output_type": "error",
     "traceback": [
      "\u001b[0;31m---------------------------------------------------------------------------\u001b[0m",
      "\u001b[0;31mFileNotFoundError\u001b[0m                         Traceback (most recent call last)",
      "Cell \u001b[0;32mIn[7], line 1\u001b[0m\n\u001b[0;32m----> 1\u001b[0m \u001b[38;5;28;43mopen\u001b[39;49m\u001b[43m(\u001b[49m\u001b[38;5;124;43m\"\u001b[39;49m\u001b[38;5;124;43m나는없는파일.txt\u001b[39;49m\u001b[38;5;124;43m\"\u001b[39;49m\u001b[43m,\u001b[49m\u001b[38;5;124;43m'\u001b[39;49m\u001b[38;5;124;43mr\u001b[39;49m\u001b[38;5;124;43m'\u001b[39;49m\u001b[43m)\u001b[49m\n",
      "File \u001b[0;32m/usr/local/lib/python3.10/dist-packages/IPython/core/interactiveshell.py:324\u001b[0m, in \u001b[0;36m_modified_open\u001b[0;34m(file, *args, **kwargs)\u001b[0m\n\u001b[1;32m    317\u001b[0m \u001b[38;5;28;01mif\u001b[39;00m file \u001b[38;5;129;01min\u001b[39;00m {\u001b[38;5;241m0\u001b[39m, \u001b[38;5;241m1\u001b[39m, \u001b[38;5;241m2\u001b[39m}:\n\u001b[1;32m    318\u001b[0m     \u001b[38;5;28;01mraise\u001b[39;00m \u001b[38;5;167;01mValueError\u001b[39;00m(\n\u001b[1;32m    319\u001b[0m         \u001b[38;5;124mf\u001b[39m\u001b[38;5;124m\"\u001b[39m\u001b[38;5;124mIPython won\u001b[39m\u001b[38;5;124m'\u001b[39m\u001b[38;5;124mt let you open fd=\u001b[39m\u001b[38;5;132;01m{\u001b[39;00mfile\u001b[38;5;132;01m}\u001b[39;00m\u001b[38;5;124m by default \u001b[39m\u001b[38;5;124m\"\u001b[39m\n\u001b[1;32m    320\u001b[0m         \u001b[38;5;124m\"\u001b[39m\u001b[38;5;124mas it is likely to crash IPython. If you know what you are doing, \u001b[39m\u001b[38;5;124m\"\u001b[39m\n\u001b[1;32m    321\u001b[0m         \u001b[38;5;124m\"\u001b[39m\u001b[38;5;124myou can use builtins\u001b[39m\u001b[38;5;124m'\u001b[39m\u001b[38;5;124m open.\u001b[39m\u001b[38;5;124m\"\u001b[39m\n\u001b[1;32m    322\u001b[0m     )\n\u001b[0;32m--> 324\u001b[0m \u001b[38;5;28;01mreturn\u001b[39;00m \u001b[43mio_open\u001b[49m\u001b[43m(\u001b[49m\u001b[43mfile\u001b[49m\u001b[43m,\u001b[49m\u001b[43m \u001b[49m\u001b[38;5;241;43m*\u001b[39;49m\u001b[43margs\u001b[49m\u001b[43m,\u001b[49m\u001b[43m \u001b[49m\u001b[38;5;241;43m*\u001b[39;49m\u001b[38;5;241;43m*\u001b[39;49m\u001b[43mkwargs\u001b[49m\u001b[43m)\u001b[49m\n",
      "\u001b[0;31mFileNotFoundError\u001b[0m: [Errno 2] No such file or directory: '나는없는파일.txt'"
     ]
    }
   ],
   "source": [
    "open(\"나는없는파일.txt\",'r')"
   ]
  },
  {
   "cell_type": "code",
   "execution_count": 8,
   "metadata": {
    "id": "KujjPaAAFe8H",
    "outputId": "f64e099a-8205-4c41-969b-2d9d4841bde6"
   },
   "outputs": [
    {
     "name": "stdout",
     "output_type": "stream",
     "text": [
      "없는 파일이라잖아!! 경로를 살펴봐\n"
     ]
    }
   ],
   "source": [
    "try:\n",
    "    open(\"나는없는파일.txt\", 'r')\n",
    "except:\n",
    "    print(\"없는 파일이라잖아!! 경로를 살펴봐\")"
   ]
  },
  {
   "cell_type": "code",
   "execution_count": 9,
   "metadata": {
    "id": "taNfm_EcFe8H",
    "outputId": "2d761437-0fc0-4384-fa9d-b680f2f45a8e"
   },
   "outputs": [
    {
     "name": "stdout",
     "output_type": "stream",
     "text": [
      "없는 파일이라잖아!! 경로를 살펴봐\n"
     ]
    }
   ],
   "source": [
    "flist = ['img1.png','img2.png','img3.png']\n",
    "try:\n",
    "    flist[100]\n",
    "    open(\"나는없는파일.txt\", 'r')\n",
    "except:\n",
    "    print(\"없는 파일이라잖아!! 경로를 살펴봐\")\n",
    "\n",
    "# 예외처리가 아주 불명확하여 위험한 코드"
   ]
  },
  {
   "cell_type": "code",
   "execution_count": 10,
   "metadata": {},
   "outputs": [
    {
     "ename": "IndexError",
     "evalue": "list index out of range",
     "output_type": "error",
     "traceback": [
      "\u001b[0;31m---------------------------------------------------------------------------\u001b[0m",
      "\u001b[0;31mIndexError\u001b[0m                                Traceback (most recent call last)",
      "Cell \u001b[0;32mIn[10], line 3\u001b[0m\n\u001b[1;32m      1\u001b[0m flist \u001b[38;5;241m=\u001b[39m [\u001b[38;5;124m'\u001b[39m\u001b[38;5;124mimg1.png\u001b[39m\u001b[38;5;124m'\u001b[39m,\u001b[38;5;124m'\u001b[39m\u001b[38;5;124mimg2.png\u001b[39m\u001b[38;5;124m'\u001b[39m,\u001b[38;5;124m'\u001b[39m\u001b[38;5;124mimg3.png\u001b[39m\u001b[38;5;124m'\u001b[39m]\n\u001b[1;32m      2\u001b[0m \u001b[38;5;28;01mtry\u001b[39;00m:\n\u001b[0;32m----> 3\u001b[0m     \u001b[43mflist\u001b[49m\u001b[43m[\u001b[49m\u001b[38;5;241;43m100\u001b[39;49m\u001b[43m]\u001b[49m\n\u001b[1;32m      4\u001b[0m     \u001b[38;5;28mopen\u001b[39m(\u001b[38;5;124m\"\u001b[39m\u001b[38;5;124m나는없는파일.txt\u001b[39m\u001b[38;5;124m\"\u001b[39m, \u001b[38;5;124m'\u001b[39m\u001b[38;5;124mr\u001b[39m\u001b[38;5;124m'\u001b[39m)\n\u001b[1;32m      5\u001b[0m \u001b[38;5;28;01mexcept\u001b[39;00m \u001b[38;5;167;01mFileNotFoundError\u001b[39;00m:\n",
      "\u001b[0;31mIndexError\u001b[0m: list index out of range"
     ]
    }
   ],
   "source": [
    "flist = ['img1.png','img2.png','img3.png']\n",
    "try:\n",
    "    flist[100]\n",
    "    open(\"나는없는파일.txt\", 'r')\n",
    "except FileNotFoundError:                        # 특정 발생오류 지정\n",
    "    print(\"없는 파일이라잖아!! 경로를 살펴봐\")"
   ]
  },
  {
   "cell_type": "code",
   "execution_count": 14,
   "metadata": {},
   "outputs": [
    {
     "name": "stdout",
     "output_type": "stream",
     "text": [
      "없는 파일이라잖아!! 경로를 살펴봐\n"
     ]
    }
   ],
   "source": [
    "flist = ['img1.png','img2.png','img3.png']\n",
    "try:\n",
    "    open(\"나는없는파일.txt\", 'r')\n",
    "    flist[100] # 실행이 안됨. -> 에러가 발생하고 except처리 후, 시스템 종료\n",
    "except FileNotFoundError:\n",
    "    print(\"없는 파일이라잖아!! 경로를 살펴봐\")"
   ]
  },
  {
   "cell_type": "code",
   "execution_count": 17,
   "metadata": {},
   "outputs": [
    {
     "name": "stdout",
     "output_type": "stream",
     "text": [
      "[Errno 2] No such file or directory: '나는없는파일.txt'\n",
      "없는 파일이라잖아!! 경로를 살펴봐\n"
     ]
    }
   ],
   "source": [
    "flist = ['img1.png','img2.png','img3.png']\n",
    "try:\n",
    "    open(\"나는없는파일.txt\", 'r')\n",
    "    flist[100] # 실행이 안됨. -> 에러가 발생하고 except처리 후, 시스템 종료\n",
    "except FileNotFoundError as msg:\n",
    "    print(msg)\n",
    "    print(\"없는 파일이라잖아!! 경로를 살펴봐\")"
   ]
  },
  {
   "attachments": {},
   "cell_type": "markdown",
   "metadata": {},
   "source": [
    "### 오류 회피하기\n",
    "\n",
    "* 코드를 작성하다 보면 특정 오류가 발생할 경우 그냥 통과시켜야 할 때가 있다. "
   ]
  },
  {
   "cell_type": "code",
   "execution_count": 18,
   "metadata": {},
   "outputs": [
    {
     "name": "stdout",
     "output_type": "stream",
     "text": [
      "[Errno 2] No such file or directory: '나는없는파일.txt'\n",
      "파일이 없더라도 수행하고 싶어요\n"
     ]
    }
   ],
   "source": [
    "try:\n",
    "    f = open(\"나는없는파일.txt\",'r')\n",
    "    \n",
    "    print('파일 출력합니다.')\n",
    "    line = f.readlines()\n",
    "    print(line)\n",
    "\n",
    "    f.close()\n",
    "\n",
    "except FileNotFoundError as f:\n",
    "    print(f)\n",
    "\n",
    "print('파일이 없더라도 수행하고 싶어요')"
   ]
  },
  {
   "cell_type": "code",
   "execution_count": 19,
   "metadata": {},
   "outputs": [
    {
     "name": "stdout",
     "output_type": "stream",
     "text": [
      "파일이 없더라도 수행하고 싶어요\n"
     ]
    }
   ],
   "source": [
    "try:\n",
    "    f = open(\"나는없는파일.txt\", 'r')\n",
    "\n",
    "    print('파일을 출력합니다.')\n",
    "    line = f.readlines()\n",
    "    print(line)\n",
    "\n",
    "    f.close()\n",
    "\n",
    "except FileNotFoundError as f:\n",
    "    pass\n",
    "\n",
    "print('파일이 없더라도 수행하고 싶어요')"
   ]
  },
  {
   "attachments": {},
   "cell_type": "markdown",
   "metadata": {},
   "source": [
    "- try~ : 실행 \n",
    "- except~ : 예외일 경우 실행\n",
    "- else: 예외가 아닐 경우 실행 "
   ]
  },
  {
   "cell_type": "code",
   "execution_count": 28,
   "metadata": {},
   "outputs": [
    {
     "name": "stdout",
     "output_type": "stream",
     "text": [
      "미성년자는 출입이 안 됩니다.\n"
     ]
    }
   ],
   "source": [
    "# 나이를 입력받아서 미성년자는 출입을 금하고 성인만 입장을 하게 한다. \n",
    "# 단, 나이는 정수로만 입력받을 수 있다.\n",
    "\n",
    "try:\n",
    "    age = int(input('당신의 나이는?'))\n",
    "except:\n",
    "    print('나이를 제대로 입력하시고 다음에 입장해주세요.')\n",
    "else:\n",
    "    if age < 18:\n",
    "        print('미성년자는 출입이 안 됩니다.')\n",
    "    else:\n",
    "        print('환영합니다')"
   ]
  }
 ],
 "metadata": {
  "colab": {
   "name": "1-1.python basic.ipynb",
   "provenance": [],
   "toc_visible": true
  },
  "kernelspec": {
   "display_name": "Python 3",
   "language": "python",
   "name": "python3"
  },
  "language_info": {
   "codemirror_mode": {
    "name": "ipython",
    "version": 3
   },
   "file_extension": ".py",
   "mimetype": "text/x-python",
   "name": "python",
   "nbconvert_exporter": "python",
   "pygments_lexer": "ipython3",
   "version": "3.10.12"
  },
  "toc": {
   "base_numbering": 1,
   "nav_menu": {},
   "number_sections": true,
   "sideBar": true,
   "skip_h1_title": false,
   "title_cell": "Table of Contents",
   "title_sidebar": "Contents",
   "toc_cell": false,
   "toc_position": {
    "height": "calc(100% - 180px)",
    "left": "10px",
    "top": "150px",
    "width": "354px"
   },
   "toc_section_display": true,
   "toc_window_display": true
  },
  "varInspector": {
   "cols": {
    "lenName": 16,
    "lenType": 16,
    "lenVar": 40
   },
   "kernels_config": {
    "python": {
     "delete_cmd_postfix": "",
     "delete_cmd_prefix": "del ",
     "library": "var_list.py",
     "varRefreshCmd": "print(var_dic_list())"
    },
    "r": {
     "delete_cmd_postfix": ") ",
     "delete_cmd_prefix": "rm(",
     "library": "var_list.r",
     "varRefreshCmd": "cat(var_dic_list()) "
    }
   },
   "types_to_exclude": [
    "module",
    "function",
    "builtin_function_or_method",
    "instance",
    "_Feature"
   ],
   "window_display": false
  }
 },
 "nbformat": 4,
 "nbformat_minor": 0
}
