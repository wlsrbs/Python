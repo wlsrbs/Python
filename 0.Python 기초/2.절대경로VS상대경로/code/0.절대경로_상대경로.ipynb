{
 "cells": [
  {
   "cell_type": "code",
   "execution_count": 1,
   "metadata": {},
   "outputs": [
    {
     "data": {
      "text/plain": [
       "'/mnt/c/users/wlsrb/DeskTop/프로그래밍/2023인공지능교육/3주차/2.예외처리_날짜시간/2.절대경로VS상대경로/code'"
      ]
     },
     "execution_count": 1,
     "metadata": {},
     "output_type": "execute_result"
    }
   ],
   "source": [
    "# 현재의 위치\n",
    "\n",
    "import os\n",
    "os.getcwd()"
   ]
  },
  {
   "cell_type": "code",
   "execution_count": 2,
   "metadata": {},
   "outputs": [
    {
     "name": "stdout",
     "output_type": "stream",
     "text": [
      "code폴드 안에 위치하고 있습니다. \n"
     ]
    }
   ],
   "source": [
    "# 절대 경로로 file_code.txt 읽기\n",
    "\n",
    "file_path = r'/mnt/c/users/wlsrb/DeskTop/프로그래밍/2023인공지능교육/3주차/2.예외처리_날짜시간/2.절대경로VS상대경로/code/file_code.txt'\n",
    "file_path\n",
    "\n",
    "with open(file_path,'r',encoding='utf-8') as file:\n",
    "    content = file.read()\n",
    "    print(content)"
   ]
  },
  {
   "cell_type": "code",
   "execution_count": 3,
   "metadata": {},
   "outputs": [
    {
     "name": "stdout",
     "output_type": "stream",
     "text": [
      "code폴드 안에 위치하고 있습니다. \n"
     ]
    }
   ],
   "source": [
    "# 상대경로\n",
    "file_path = r'file_code.txt'\n",
    "file_path\n",
    "\n",
    "with open(file_path,'r',encoding='utf-8') as file:\n",
    "    content = file.read()\n",
    "    print(content)"
   ]
  },
  {
   "cell_type": "code",
   "execution_count": 4,
   "metadata": {},
   "outputs": [
    {
     "name": "stdout",
     "output_type": "stream",
     "text": [
      "root에 위치하고 있습니다. \n"
     ]
    }
   ],
   "source": [
    "# file_root.txt 파일 읽기(상대경로 사용)\n",
    "\n",
    "# 상대경로\n",
    "file_path = r'../file_root.txt'\n",
    "file_path\n",
    "\n",
    "with open(file_path,'r',encoding='utf-8') as file:\n",
    "    content = file.read()\n",
    "    print(content)"
   ]
  },
  {
   "cell_type": "code",
   "execution_count": 5,
   "metadata": {},
   "outputs": [
    {
     "name": "stdout",
     "output_type": "stream",
     "text": [
      "data폴드 안에 위치하고 있습니다. \n"
     ]
    }
   ],
   "source": [
    "# file_data.txt 파일 읽기(상대경로 사용)\n",
    "\n",
    "file_path = r'../data/file_data.txt'\n",
    "file_path\n",
    "\n",
    "with open(file_path,'r',encoding='utf-8') as file:\n",
    "    content = file.read()\n",
    "    print(content)"
   ]
  },
  {
   "cell_type": "markdown",
   "metadata": {},
   "source": [
    "## 상대 경로 사용하는 이유\n",
    "\n",
    "* test.py을 포함한 프로젝트(폴더) 전체 폴더의 위치는 개발자에 따라 또는 개발 상황에 따라 바뀔 수 있겠지요.\n",
    "* 프로젝트 폴더를 C: 드라이브에 넣거나, D:드라이브에 이동시키거나, Mac OS로 바뀌면\n",
    "* 절대 경로로 지정하면 일일이 다 수정해야하는 번거로움이 생깁니다. \n",
    "* 만약 상대 경로로 지정되어 있다면 test.py와 dog.jpg 파일의 관계는 변함 없기 때문에\n",
    "* 프로젝트 폴더가 이동하게 되어도 코드 내의 경로 수정은 하지 않아도 됩니다. "
   ]
  }
 ],
 "metadata": {
  "kernelspec": {
   "display_name": "Python 3",
   "language": "python",
   "name": "python3"
  },
  "language_info": {
   "codemirror_mode": {
    "name": "ipython",
    "version": 3
   },
   "file_extension": ".py",
   "mimetype": "text/x-python",
   "name": "python",
   "nbconvert_exporter": "python",
   "pygments_lexer": "ipython3",
   "version": "3.10.12"
  },
  "orig_nbformat": 4
 },
 "nbformat": 4,
 "nbformat_minor": 2
}
