{
 "cells": [
  {
   "cell_type": "markdown",
   "id": "18a4de5e",
   "metadata": {},
   "source": [
    "## QRCode를 생성하는 프로그램\n",
    "\n",
    "* https://pypi.org/project/qrcode/"
   ]
  },
  {
   "cell_type": "markdown",
   "id": "001271e6",
   "metadata": {},
   "source": [
    "## 라이브러리 설치"
   ]
  },
  {
   "cell_type": "code",
   "execution_count": 1,
   "id": "7be87522",
   "metadata": {},
   "outputs": [
    {
     "name": "stdout",
     "output_type": "stream",
     "text": [
      "Defaulting to user installation because normal site-packages is not writeable\n",
      "Collecting qrcode[pil]\n",
      "  Downloading qrcode-8.0-py3-none-any.whl (45 kB)\n",
      "\u001b[2K     \u001b[90m━━━━━━━━━━━━━━━━━━━━━━━━━━━━━━━━━━━━━━━━\u001b[0m \u001b[32m45.7/45.7 KB\u001b[0m \u001b[31m2.0 MB/s\u001b[0m eta \u001b[36m0:00:00\u001b[0m\n",
      "\u001b[?25hCollecting pillow>=9.1.0\n",
      "  Downloading pillow-11.0.0-cp310-cp310-manylinux_2_28_x86_64.whl (4.4 MB)\n",
      "\u001b[2K     \u001b[90m━━━━━━━━━━━━━━━━━━━━━━━━━━━━━━━━━━━━━━━━\u001b[0m \u001b[32m4.4/4.4 MB\u001b[0m \u001b[31m5.8 MB/s\u001b[0m eta \u001b[36m0:00:00\u001b[0ma \u001b[36m0:00:01\u001b[0m\n",
      "\u001b[?25hInstalling collected packages: qrcode, pillow\n",
      "Successfully installed pillow-11.0.0 qrcode-8.0\n"
     ]
    }
   ],
   "source": [
    "!pip install \"qrcode[pil]\""
   ]
  },
  {
   "cell_type": "code",
   "execution_count": 2,
   "id": "e39c95c8-628e-45f6-b05b-cd46cb45a3aa",
   "metadata": {},
   "outputs": [],
   "source": [
    "import qrcode"
   ]
  },
  {
   "cell_type": "code",
   "execution_count": 7,
   "id": "d7e0c21e",
   "metadata": {},
   "outputs": [
    {
     "data": {
      "text/plain": [
       "qrcode.image.pil.PilImage"
      ]
     },
     "execution_count": 7,
     "metadata": {},
     "output_type": "execute_result"
    }
   ],
   "source": [
    "# qrcode: Python에서 QR 코드를 생성하는 데 사용되는 라이브러리\n",
    "# qrcode.image: QR 코드를 다양한 이미지 포맷으로 생성할 수 있는 기능을 제공하는 모듈\n",
    "# pil.PilImage: Pillow(이전의 PIL) 라이브러리를 기반으로 QR 코드를 생성하고 이를 이미지로 출력할 때 사용\n",
    "\n",
    "qrcode.image.pil.PilImage"
   ]
  },
  {
   "cell_type": "code",
   "execution_count": 3,
   "id": "d7f4b9e6-4af4-48ce-8aa5-307b49cff865",
   "metadata": {},
   "outputs": [
    {
     "data": {
      "image/jpeg": "[encoded data removed]",
      "image/png": "[encoded data removed]",
      "text/plain": [
       "<qrcode.image.pil.PilImage at 0x7f050c2891b0>"
      ]
     },
     "execution_count": 3,
     "metadata": {},
     "output_type": "execute_result"
    }
   ],
   "source": [
    "img = qrcode.make(\"www.naver.com\")\n",
    "img"
   ]
  }
 ],
 "metadata": {
  "kernelspec": {
   "display_name": "Python 3",
   "language": "python",
   "name": "python3"
  },
  "language_info": {
   "codemirror_mode": {
    "name": "ipython",
    "version": 3
   },
   "file_extension": ".py",
   "mimetype": "text/x-python",
   "name": "python",
   "nbconvert_exporter": "python",
   "pygments_lexer": "ipython3",
   "version": "3.10.12"
  }
 },
 "nbformat": 4,
 "nbformat_minor": 5
}
