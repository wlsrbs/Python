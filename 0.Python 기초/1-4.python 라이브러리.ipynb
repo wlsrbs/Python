{
 "cells": [
  {
   "attachments": {},
   "cell_type": "markdown",
   "metadata": {
    "id": "LW_Sg75XFe8C"
   },
   "source": [
    "## 라이브러리(모듈)\n",
    "\n",
    "* 모듈이란? \n",
    "* 변수와 함수, 클래스들을 모아놓은 파일이다.\n",
    "* 이미 완성된 프로그램 파일을 재사용하여 프로그램을 간결화하는 것입니다. \n",
    "* 비슷한 기능의 함수들을 모아둔 파일입니다.\n",
    "* 직접 만들 수도 있고 가져와서 사용할 수도 있습니다.\n",
    "* import 키워드로 모듈을 가져옵니다.\n",
    "* 마침표(.)를 이용해 함수를 사용합니다.\n",
    "\n",
    "[종류]\n",
    "\n",
    "* 표준라이브러리\n",
    "    https://docs.python.org/ko/3/library/index.html\n",
    "* 외부라이브러리\n",
    "    https://pypi.org/\n"
   ]
  },
  {
   "cell_type": "markdown",
   "metadata": {
    "id": "ILRuHwI0Fe8C"
   },
   "source": [
    "### 라이브러리(모듈)이 언제 필요하지?"
   ]
  },
  {
   "cell_type": "code",
   "execution_count": 1,
   "metadata": {
    "id": "Hx62KYjkFe8C",
    "outputId": "65c9c188-eace-46cb-c9f6-9c213b8956ca"
   },
   "outputs": [
    {
     "data": {
      "text/plain": [
       "27"
      ]
     },
     "execution_count": 1,
     "metadata": {},
     "output_type": "execute_result"
    }
   ],
   "source": [
    "#그냥\n",
    "3 ** 3"
   ]
  },
  {
   "cell_type": "code",
   "execution_count": 2,
   "metadata": {
    "id": "bLampgnIFe8C"
   },
   "outputs": [],
   "source": [
    "def exponential(digit, exponent):\n",
    "    value = digit ** exponent\n",
    "    return value"
   ]
  },
  {
   "cell_type": "code",
   "execution_count": 3,
   "metadata": {
    "id": "gAma_TT7Fe8C",
    "outputId": "b849af84-ef5d-4757-e354-6721794070ca"
   },
   "outputs": [
    {
     "name": "stdout",
     "output_type": "stream",
     "text": [
      "27\n"
     ]
    }
   ],
   "source": [
    "print (exponential(3, 3))"
   ]
  },
  {
   "cell_type": "markdown",
   "metadata": {
    "id": "XWmd-yCvFe8C"
   },
   "source": [
    "### 수학 함수들 예- math 라이브러리\n",
    "\n",
    "* math 라이브러리에 pow 라는 이름으로 지수승을 계산해주는 함수를 구현해놓았음\n",
    "* \n",
    "* https://docs.python.org/3/library/math.html"
   ]
  },
  {
   "cell_type": "code",
   "execution_count": 4,
   "metadata": {
    "id": "KeuOb6NCFe8D",
    "outputId": "b2673475-f9e3-423b-8dbc-14ae475ebc14"
   },
   "outputs": [
    {
     "name": "stdout",
     "output_type": "stream",
     "text": [
      "27.0\n"
     ]
    }
   ],
   "source": [
    "import math\n",
    "# 제곱\n",
    "num = math.pow(3, 3)\n",
    "print (num)"
   ]
  },
  {
   "cell_type": "code",
   "execution_count": 5,
   "metadata": {},
   "outputs": [
    {
     "data": {
      "text/plain": [
       "4.0"
      ]
     },
     "execution_count": 5,
     "metadata": {},
     "output_type": "execute_result"
    }
   ],
   "source": [
    "# 제곱근근\n",
    "math.sqrt(16)"
   ]
  },
  {
   "cell_type": "markdown",
   "metadata": {
    "id": "VlYUxZvaFe8D"
   },
   "source": [
    "### 라이브러리 사용하기"
   ]
  },
  {
   "cell_type": "markdown",
   "metadata": {
    "id": "tOy7ux0nFe8D"
   },
   "source": [
    "* 기본 사용하기\n",
    "```python\n",
    "import 모듈이름"
   ]
  },
  {
   "cell_type": "code",
   "execution_count": 6,
   "metadata": {
    "id": "SHANkapaFe8D"
   },
   "outputs": [],
   "source": [
    "import math\n",
    "num = math.pow(3, 3)"
   ]
  },
  {
   "cell_type": "markdown",
   "metadata": {
    "id": "xriALbZsFe8D"
   },
   "source": [
    "* 사용할 함수만 불러오는 방법   \n",
    "\n",
    "```python\n",
    "from 모듈이름 import 함수이름"
   ]
  },
  {
   "cell_type": "code",
   "execution_count": 8,
   "metadata": {
    "id": "zeNa-RPqFe8D",
    "outputId": "00d53ee3-1aa7-4951-fed5-c08373813028"
   },
   "outputs": [
    {
     "name": "stdout",
     "output_type": "stream",
     "text": [
      "27.0\n"
     ]
    }
   ],
   "source": [
    "from math import pow\n",
    "num = pow(3, 3)\n",
    "print(num)"
   ]
  },
  {
   "cell_type": "code",
   "execution_count": 9,
   "metadata": {},
   "outputs": [
    {
     "ename": "NameError",
     "evalue": "name 'sqrt' is not defined",
     "output_type": "error",
     "traceback": [
      "\u001b[0;31m---------------------------------------------------------------------------\u001b[0m",
      "\u001b[0;31mNameError\u001b[0m                                 Traceback (most recent call last)",
      "Cell \u001b[0;32mIn[9], line 1\u001b[0m\n\u001b[0;32m----> 1\u001b[0m \u001b[43msqrt\u001b[49m(\u001b[38;5;241m16\u001b[39m)\n",
      "\u001b[0;31mNameError\u001b[0m: name 'sqrt' is not defined"
     ]
    }
   ],
   "source": [
    "sqrt(16)"
   ]
  },
  {
   "cell_type": "markdown",
   "metadata": {},
   "source": [
    "* 모듈에 포함 된 모든 함수 불러오는 방법"
   ]
  },
  {
   "cell_type": "code",
   "execution_count": 10,
   "metadata": {},
   "outputs": [
    {
     "name": "stdout",
     "output_type": "stream",
     "text": [
      "27.0\n"
     ]
    }
   ],
   "source": [
    "from math import *\n",
    "num = pow(3, 3)\n",
    "print(num)"
   ]
  },
  {
   "cell_type": "code",
   "execution_count": 11,
   "metadata": {},
   "outputs": [
    {
     "data": {
      "text/plain": [
       "4.0"
      ]
     },
     "execution_count": 11,
     "metadata": {},
     "output_type": "execute_result"
    }
   ],
   "source": [
    "sqrt(16)"
   ]
  },
  {
   "cell_type": "markdown",
   "metadata": {
    "id": "Fkmipox0Fe8D"
   },
   "source": [
    "* 라이브러리명이 너무 길 경우 별칭을 써서 사용\n",
    "\n",
    "```python\n",
    "import 모듈이름 as 별칭"
   ]
  },
  {
   "cell_type": "code",
   "execution_count": 12,
   "metadata": {
    "id": "V3Oj_-4NFe8D",
    "outputId": "5b00cb6c-ba7c-44b1-91a7-668e768cdb2b"
   },
   "outputs": [
    {
     "data": {
      "text/plain": [
       "27.0"
      ]
     },
     "execution_count": 12,
     "metadata": {},
     "output_type": "execute_result"
    }
   ],
   "source": [
    "import math as m\n",
    "num = m.pow(3,3)\n",
    "num"
   ]
  },
  {
   "attachments": {},
   "cell_type": "markdown",
   "metadata": {},
   "source": [
    "## 외부라이브러리"
   ]
  },
  {
   "cell_type": "markdown",
   "metadata": {
    "id": "ojfRvYWEFe8E"
   },
   "source": [
    "### 설치된 라이브러리 리스트 알아보기"
   ]
  },
  {
   "cell_type": "markdown",
   "metadata": {
    "id": "gS_wUGdSFe8E"
   },
   "source": [
    "* 설치 리스트 출력"
   ]
  },
  {
   "cell_type": "code",
   "execution_count": 13,
   "metadata": {
    "id": "9E2wAUdBFe8E",
    "outputId": "6b78f646-00be-4e47-c64e-c0a71f89e650"
   },
   "outputs": [
    {
     "name": "stdout",
     "output_type": "stream",
     "text": [
      "Package             Version\n",
      "------------------- -------------\n",
      "asttokens           3.0.0\n",
      "attrs               21.2.0\n",
      "Automat             20.2.0\n",
      "Babel               2.8.0\n",
      "bcrypt              3.2.0\n",
      "blinker             1.4\n",
      "certifi             2020.6.20\n",
      "chardet             4.0.0\n",
      "click               8.0.3\n",
      "cloud-init          24.3.1\n",
      "colorama            0.4.4\n",
      "comm                0.2.2\n",
      "command-not-found   0.3\n",
      "configobj           5.0.6\n",
      "constantly          15.1.0\n",
      "cryptography        3.4.8\n",
      "dbus-python         1.2.18\n",
      "debugpy             1.8.11\n",
      "decorator           5.1.1\n",
      "distro              1.7.0\n",
      "distro-info         1.1+ubuntu0.2\n",
      "exceptiongroup      1.2.2\n",
      "executing           2.1.0\n",
      "httplib2            0.20.2\n",
      "hyperlink           21.0.0\n",
      "idna                3.3\n",
      "importlib-metadata  4.6.4\n",
      "incremental         21.3.0\n",
      "ipykernel           6.29.5\n",
      "ipython             8.30.0\n",
      "jedi                0.19.2\n",
      "jeepney             0.7.1\n",
      "Jinja2              3.0.3\n",
      "jsonpatch           1.32\n",
      "jsonpointer         2.0\n",
      "jsonschema          3.2.0\n",
      "jupyter_client      8.6.3\n",
      "jupyter_core        5.7.2\n",
      "keyring             23.5.0\n",
      "launchpadlib        1.10.16\n",
      "lazr.restfulclient  0.14.4\n",
      "lazr.uri            1.0.6\n",
      "MarkupSafe          2.0.1\n",
      "matplotlib-inline   0.1.7\n",
      "more-itertools      8.10.0\n",
      "nest-asyncio        1.6.0\n",
      "netifaces           0.11.0\n",
      "oauthlib            3.2.0\n",
      "packaging           24.2\n",
      "parso               0.8.4\n",
      "pexpect             4.9.0\n",
      "pip                 22.0.2\n",
      "platformdirs        4.3.6\n",
      "prompt_toolkit      3.0.48\n",
      "psutil              6.1.1\n",
      "ptyprocess          0.7.0\n",
      "pure_eval           0.2.3\n",
      "pyasn1              0.4.8\n",
      "pyasn1-modules      0.2.1\n",
      "pycairo             1.20.1\n",
      "pycurl              7.44.1\n",
      "Pygments            2.18.0\n",
      "PyGObject           3.42.1\n",
      "PyHamcrest          2.0.2\n",
      "PyJWT               2.3.0\n",
      "pyOpenSSL           21.0.0\n",
      "pyparsing           2.4.7\n",
      "pyrsistent          0.18.1\n",
      "pyserial            3.5\n",
      "python-apt          2.4.0+ubuntu4\n",
      "python-dateutil     2.9.0.post0\n",
      "pytz                2022.1\n",
      "PyYAML              5.4.1\n",
      "pyzmq               26.2.0\n",
      "requests            2.25.1\n",
      "SecretStorage       3.3.1\n",
      "service-identity    18.1.0\n",
      "setuptools          59.6.0\n",
      "six                 1.16.0\n",
      "stack-data          0.6.3\n",
      "systemd-python      234\n",
      "tornado             6.4.2\n",
      "traitlets           5.14.3\n",
      "Twisted             22.1.0\n",
      "typing_extensions   4.12.2\n",
      "ubuntu-pro-client   8001\n",
      "ufw                 0.36.1\n",
      "unattended-upgrades 0.1\n",
      "urllib3             1.26.5\n",
      "wadllib             1.3.6\n",
      "wcwidth             0.2.13\n",
      "wheel               0.37.1\n",
      "zipp                1.0.0\n",
      "zope.interface      5.4.0\n"
     ]
    }
   ],
   "source": [
    "!pip list"
   ]
  },
  {
   "cell_type": "markdown",
   "metadata": {
    "id": "sVj-_RrTFe8E"
   },
   "source": [
    "* 모듈이 설치 되어있는지 검색하려면?"
   ]
  },
  {
   "cell_type": "code",
   "execution_count": 15,
   "metadata": {
    "id": "rFNqjCy9Fe8E",
    "outputId": "5f9a5db5-6ecf-4791-f4a6-dcfdb239ad08"
   },
   "outputs": [
    {
     "name": "stdout",
     "output_type": "stream",
     "text": [
      "Name: psutil\n",
      "Version: 6.1.1\n",
      "Summary: Cross-platform lib for process and system monitoring in Python.\n",
      "Home-page: https://github.com/giampaolo/psutil\n",
      "Author: Giampaolo Rodola\n",
      "Author-email: g.rodola@gmail.com\n",
      "License: BSD-3-Clause\n",
      "Location: /usr/local/lib/python3.10/dist-packages\n",
      "Requires: \n",
      "Required-by: ipykernel\n"
     ]
    }
   ],
   "source": [
    "!pip show psutil"
   ]
  },
  {
   "cell_type": "code",
   "execution_count": 16,
   "metadata": {
    "id": "uFhMdLakFe8E",
    "outputId": "bb23c375-0b0b-4f3c-a53f-c5021b9ef9f5"
   },
   "outputs": [
    {
     "name": "stdout",
     "output_type": "stream",
     "text": [
      "ERROR: unknown command \"aa\"\n"
     ]
    }
   ],
   "source": [
    "!pip aa"
   ]
  },
  {
   "cell_type": "markdown",
   "metadata": {
    "id": "AaVIpiHhFe8E"
   },
   "source": [
    "### 라이브러리 설치하는 방법\n",
    "\n",
    "* 쥬피터 노트북에서 직접 설치 가능('i'자를 넣음)\n",
    "    * ipip install -upgrade 모듈이름\n",
    "    \n",
    "* (윈도우)명령프롬프트>마우스오른쪽>관리자 권한으로 실행\n",
    "    * pip install -upgrade 모듈이름\n",
    "    \n",
    "* (맥) 터미널\n",
    "    * pip install -upgrade 모듈이름\n",
    "    \n",
    "#--upgrade: 설치되어 있더라도 업그레이드가 필요하면 업그레이드 해죠"
   ]
  },
  {
   "cell_type": "code",
   "execution_count": 11,
   "metadata": {
    "id": "jIN_XdnwFe8E",
    "outputId": "fa61a614-ffbf-4c9b-eb17-db2740386fc8",
    "scrolled": false
   },
   "outputs": [
    {
     "name": "stdout",
     "output_type": "stream",
     "text": [
      "Collecting beautifulsoup4\n",
      "  Downloading beautifulsoup4-4.11.1-py3-none-any.whl (128 kB)\n",
      "     -------------------------------------- 128.2/128.2 kB 3.8 MB/s eta 0:00:00\n",
      "Collecting soupsieve>1.2\n",
      "  Downloading soupsieve-2.3.2.post1-py3-none-any.whl (37 kB)\n",
      "Installing collected packages: soupsieve, beautifulsoup4\n",
      "Successfully installed beautifulsoup4-4.11.1 soupsieve-2.3.2.post1\n"
     ]
    }
   ],
   "source": [
    "!pip install --upgrade beautifulsoup4"
   ]
  },
  {
   "cell_type": "code",
   "execution_count": 22,
   "metadata": {},
   "outputs": [
    {
     "name": "stdout",
     "output_type": "stream",
     "text": [
      "Name: beautifulsoup4\n",
      "Version: 4.12.3\n",
      "Summary: Screen-scraping library\n",
      "Home-page: \n",
      "Author: \n",
      "Author-email: Leonard Richardson <leonardr@segfault.org>\n",
      "License: MIT License\n",
      "Location: /home/ubuntu/.local/lib/python3.10/site-packages\n",
      "Requires: soupsieve\n",
      "Required-by: \n"
     ]
    }
   ],
   "source": [
    "!pip show beautifulsoup4"
   ]
  },
  {
   "cell_type": "code",
   "execution_count": 23,
   "metadata": {},
   "outputs": [
    {
     "name": "stdout",
     "output_type": "stream",
     "text": [
      "Package             Version\n",
      "------------------- -------------\n",
      "asttokens           3.0.0\n",
      "attrs               21.2.0\n",
      "Automat             20.2.0\n",
      "Babel               2.8.0\n",
      "bcrypt              3.2.0\n",
      "beautifulsoup4      4.12.3\n",
      "blinker             1.4\n",
      "certifi             2020.6.20\n",
      "chardet             4.0.0\n",
      "click               8.0.3\n",
      "cloud-init          24.3.1\n",
      "colorama            0.4.4\n",
      "comm                0.2.2\n",
      "command-not-found   0.3\n",
      "configobj           5.0.6\n",
      "constantly          15.1.0\n",
      "cryptography        3.4.8\n",
      "dbus-python         1.2.18\n",
      "debugpy             1.8.11\n",
      "decorator           5.1.1\n",
      "distro              1.7.0\n",
      "distro-info         1.1+ubuntu0.2\n",
      "exceptiongroup      1.2.2\n",
      "executing           2.1.0\n",
      "httplib2            0.20.2\n",
      "hyperlink           21.0.0\n",
      "idna                3.3\n",
      "importlib-metadata  4.6.4\n",
      "incremental         21.3.0\n",
      "ipykernel           6.29.5\n",
      "ipython             8.30.0\n",
      "jedi                0.19.2\n",
      "jeepney             0.7.1\n",
      "Jinja2              3.0.3\n",
      "jsonpatch           1.32\n",
      "jsonpointer         2.0\n",
      "jsonschema          3.2.0\n",
      "jupyter_client      8.6.3\n",
      "jupyter_core        5.7.2\n",
      "keyring             23.5.0\n",
      "launchpadlib        1.10.16\n",
      "lazr.restfulclient  0.14.4\n",
      "lazr.uri            1.0.6\n",
      "MarkupSafe          2.0.1\n",
      "matplotlib-inline   0.1.7\n",
      "more-itertools      8.10.0\n",
      "nest-asyncio        1.6.0\n",
      "netifaces           0.11.0\n",
      "oauthlib            3.2.0\n",
      "packaging           24.2\n",
      "parso               0.8.4\n",
      "pexpect             4.9.0\n",
      "pip                 22.0.2\n",
      "platformdirs        4.3.6\n",
      "prompt_toolkit      3.0.48\n",
      "psutil              6.1.1\n",
      "ptyprocess          0.7.0\n",
      "pure_eval           0.2.3\n",
      "pyasn1              0.4.8\n",
      "pyasn1-modules      0.2.1\n",
      "pycairo             1.20.1\n",
      "pycurl              7.44.1\n",
      "Pygments            2.18.0\n",
      "PyGObject           3.42.1\n",
      "PyHamcrest          2.0.2\n",
      "PyJWT               2.3.0\n",
      "pyOpenSSL           21.0.0\n",
      "pyparsing           2.4.7\n",
      "pyrsistent          0.18.1\n",
      "pyserial            3.5\n",
      "python-apt          2.4.0+ubuntu4\n",
      "python-dateutil     2.9.0.post0\n",
      "pytz                2022.1\n",
      "PyYAML              5.4.1\n",
      "pyzmq               26.2.0\n",
      "requests            2.25.1\n",
      "SecretStorage       3.3.1\n",
      "service-identity    18.1.0\n",
      "setuptools          59.6.0\n",
      "six                 1.16.0\n",
      "soupsieve           2.6\n",
      "stack-data          0.6.3\n",
      "systemd-python      234\n",
      "tornado             6.4.2\n",
      "traitlets           5.14.3\n",
      "Twisted             22.1.0\n",
      "typing_extensions   4.12.2\n",
      "ubuntu-pro-client   8001\n",
      "ufw                 0.36.1\n",
      "unattended-upgrades 0.1\n",
      "urllib3             1.26.5\n",
      "wadllib             1.3.6\n",
      "wcwidth             0.2.13\n",
      "wheel               0.37.1\n",
      "zipp                1.0.0\n",
      "zope.interface      5.4.0\n"
     ]
    }
   ],
   "source": [
    "!pip list"
   ]
  },
  {
   "cell_type": "markdown",
   "metadata": {
    "id": "nefweXItFe8E"
   },
   "source": [
    "* 라이브러리 삭제\n",
    "    * pip uninstall 모듈이름"
   ]
  },
  {
   "cell_type": "code",
   "execution_count": 15,
   "metadata": {
    "id": "ewP2BRErFe8E",
    "outputId": "cc8cb328-b9ec-4110-fe2e-bcc906637078"
   },
   "outputs": [
    {
     "name": "stdout",
     "output_type": "stream",
     "text": [
      "^C\n"
     ]
    }
   ],
   "source": [
    "!pip uninstall beautifulsoup4"
   ]
  },
  {
   "cell_type": "markdown",
   "metadata": {
    "id": "XS8O_8nVFe8F"
   },
   "source": [
    "### 라이브러리에 어떤 함수를 어떻게 사용하지?\n",
    "\n",
    "* 라이브러리에는 해당 라이브러리의 사용방법을 소개하는 문서가 존재한다.\n",
    "* Get started or Quick start 처럼 간략하게 소개하는 카테고리를 살펴본다.\n",
    "* 대부분 구글링을 통해 사용법을 카피하고.\n",
    "* 카피한 사용법에서 응용하고 싶을 때, 라이브러리 문서를 참고한다."
   ]
  },
  {
   "cell_type": "markdown",
   "metadata": {
    "id": "wVPNlj_NFe8F"
   },
   "source": [
    "### 모듈:랜덤 쵸이스"
   ]
  },
  {
   "cell_type": "code",
   "execution_count": 26,
   "metadata": {},
   "outputs": [
    {
     "data": {
      "text/plain": [
       "0.4337222575177794"
      ]
     },
     "execution_count": 26,
     "metadata": {},
     "output_type": "execute_result"
    }
   ],
   "source": [
    "from random import  * \n",
    "random() #0~1사이의 임의의 실수"
   ]
  },
  {
   "cell_type": "code",
   "execution_count": 30,
   "metadata": {
    "id": "T03CKNX7Fe8F",
    "outputId": "3e483256-c81d-4a8d-b1e4-f1f580d46eb2"
   },
   "outputs": [
    {
     "name": "stdout",
     "output_type": "stream",
     "text": [
      "Angela\n"
     ]
    }
   ],
   "source": [
    "import random\n",
    "students = ['Tom', 'Sally', 'Betty', 'Eric', 'Angela', 'Stephany'] \n",
    "print(random.choice(students))"
   ]
  },
  {
   "cell_type": "code",
   "execution_count": 34,
   "metadata": {
    "id": "9niPyXonFe8F",
    "outputId": "dfd8f07c-5684-42d2-e392-a6a19b53b43a"
   },
   "outputs": [
    {
     "data": {
      "text/plain": [
       "10"
      ]
     },
     "execution_count": 34,
     "metadata": {},
     "output_type": "execute_result"
    }
   ],
   "source": [
    "#0~10사이의 임의의 정수\n",
    "my_int = random.randint(0,10)\n",
    "my_int"
   ]
  },
  {
   "cell_type": "code",
   "execution_count": 37,
   "metadata": {
    "id": "xdUVPm56Fe8F"
   },
   "outputs": [
    {
     "data": {
      "text/plain": [
       "9"
      ]
     },
     "execution_count": 37,
     "metadata": {},
     "output_type": "execute_result"
    }
   ],
   "source": [
    "# 씨드지정하면 랜덤 결과를 고정시킬 수 있음\n",
    "random.seed(10)\n",
    "random.randint(0,10)"
   ]
  }
 ],
 "metadata": {
  "colab": {
   "name": "1-1.python basic.ipynb",
   "provenance": [],
   "toc_visible": true
  },
  "kernelspec": {
   "display_name": "Python 3",
   "language": "python",
   "name": "python3"
  },
  "language_info": {
   "codemirror_mode": {
    "name": "ipython",
    "version": 3
   },
   "file_extension": ".py",
   "mimetype": "text/x-python",
   "name": "python",
   "nbconvert_exporter": "python",
   "pygments_lexer": "ipython3",
   "version": "3.10.12"
  },
  "toc": {
   "base_numbering": 1,
   "nav_menu": {},
   "number_sections": true,
   "sideBar": true,
   "skip_h1_title": false,
   "title_cell": "Table of Contents",
   "title_sidebar": "Contents",
   "toc_cell": false,
   "toc_position": {
    "height": "calc(100% - 180px)",
    "left": "10px",
    "top": "150px",
    "width": "354px"
   },
   "toc_section_display": true,
   "toc_window_display": true
  },
  "varInspector": {
   "cols": {
    "lenName": 16,
    "lenType": 16,
    "lenVar": 40
   },
   "kernels_config": {
    "python": {
     "delete_cmd_postfix": "",
     "delete_cmd_prefix": "del ",
     "library": "var_list.py",
     "varRefreshCmd": "print(var_dic_list())"
    },
    "r": {
     "delete_cmd_postfix": ") ",
     "delete_cmd_prefix": "rm(",
     "library": "var_list.r",
     "varRefreshCmd": "cat(var_dic_list()) "
    }
   },
   "types_to_exclude": [
    "module",
    "function",
    "builtin_function_or_method",
    "instance",
    "_Feature"
   ],
   "window_display": false
  }
 },
 "nbformat": 4,
 "nbformat_minor": 0
}
