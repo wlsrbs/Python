{
 "cells": [
  {
   "cell_type": "markdown",
   "metadata": {},
   "source": [
    "## 영수증을 분석하자!\n",
    "\n",
    "https://pypi.org/project/easyocr/"
   ]
  },
  {
   "cell_type": "code",
   "execution_count": 1,
   "metadata": {},
   "outputs": [
    {
     "name": "stdout",
     "output_type": "stream",
     "text": [
      "Defaulting to user installation because normal site-packages is not writeable\n",
      "Collecting easyocr\n",
      "  Downloading easyocr-1.7.2-py3-none-any.whl (2.9 MB)\n",
      "\u001b[2K     \u001b[90m━━━━━━━━━━━━━━━━━━━━━━━━━━━━━━━━━━━━━━━━\u001b[0m \u001b[32m2.9/2.9 MB\u001b[0m \u001b[31m4.9 MB/s\u001b[0m eta \u001b[36m0:00:00\u001b[0m00:01\u001b[0m00:01\u001b[0m\n",
      "\u001b[?25hRequirement already satisfied: Pillow in /home/ubuntu/.local/lib/python3.10/site-packages (from easyocr) (11.0.0)\n",
      "Collecting scikit-image\n",
      "  Downloading scikit_image-0.25.0-cp310-cp310-manylinux_2_17_x86_64.manylinux2014_x86_64.whl (14.8 MB)\n",
      "\u001b[2K     \u001b[90m━━━━━━━━━━━━━━━━━━━━━━━━━━━━━━━━━━━━━━━━\u001b[0m \u001b[32m14.8/14.8 MB\u001b[0m \u001b[31m6.4 MB/s\u001b[0m eta \u001b[36m0:00:00\u001b[0m00:01\u001b[0m00:01\u001b[0m\n",
      "\u001b[?25hCollecting python-bidi\n",
      "  Downloading python_bidi-0.6.3-cp310-cp310-manylinux_2_17_x86_64.manylinux2014_x86_64.whl (286 kB)\n",
      "\u001b[2K     \u001b[90m━━━━━━━━━━━━━━━━━━━━━━━━━━━━━━━━━━━━━━━\u001b[0m \u001b[32m286.8/286.8 KB\u001b[0m \u001b[31m5.7 MB/s\u001b[0m eta \u001b[36m0:00:00\u001b[0ma \u001b[36m0:00:01\u001b[0m\n",
      "\u001b[?25hRequirement already satisfied: PyYAML in /usr/lib/python3/dist-packages (from easyocr) (5.4.1)\n",
      "Collecting Shapely\n",
      "  Downloading shapely-2.0.6-cp310-cp310-manylinux_2_17_x86_64.manylinux2014_x86_64.whl (2.5 MB)\n",
      "\u001b[2K     \u001b[90m━━━━━━━━━━━━━━━━━━━━━━━━━━━━━━━━━━━━━━━━\u001b[0m \u001b[32m2.5/2.5 MB\u001b[0m \u001b[31m6.2 MB/s\u001b[0m eta \u001b[36m0:00:00\u001b[0ma \u001b[36m0:00:01\u001b[0m\n",
      "\u001b[?25hCollecting torchvision>=0.5\n",
      "  Downloading torchvision-0.20.1-cp310-cp310-manylinux1_x86_64.whl (7.2 MB)\n",
      "\u001b[2K     \u001b[90m━━━━━━━━━━━━━━━━━━━━━━━━━━━━━━━━━━━━━━━━\u001b[0m \u001b[32m7.2/7.2 MB\u001b[0m \u001b[31m5.4 MB/s\u001b[0m eta \u001b[36m0:00:00\u001b[0m00:01\u001b[0m00:01\u001b[0m\n",
      "\u001b[?25hCollecting opencv-python-headless\n",
      "  Downloading opencv_python_headless-4.10.0.84-cp37-abi3-manylinux_2_17_x86_64.manylinux2014_x86_64.whl (49.9 MB)\n",
      "\u001b[2K     \u001b[90m━━━━━━━━━━━━━━━━━━━━━━━━━━━━━━━━━━━━━━━━\u001b[0m \u001b[32m49.9/49.9 MB\u001b[0m \u001b[31m6.0 MB/s\u001b[0m eta \u001b[36m0:00:00\u001b[0m00:01\u001b[0m00:01\u001b[0m\n",
      "\u001b[?25hCollecting pyclipper\n",
      "  Downloading pyclipper-1.3.0.post6-cp310-cp310-manylinux_2_12_x86_64.manylinux2010_x86_64.whl (912 kB)\n",
      "\u001b[2K     \u001b[90m━━━━━━━━━━━━━━━━━━━━━━━━━━━━━━━━━━━━━━━\u001b[0m \u001b[32m912.2/912.2 KB\u001b[0m \u001b[31m6.9 MB/s\u001b[0m eta \u001b[36m0:00:00\u001b[0m00:01\u001b[0m00:01\u001b[0m\n",
      "\u001b[?25hCollecting numpy\n",
      "  Downloading numpy-2.2.1-cp310-cp310-manylinux_2_17_x86_64.manylinux2014_x86_64.whl (16.4 MB)\n",
      "\u001b[2K     \u001b[90m━━━━━━━━━━━━━━━━━━━━━━━━━━━━━━━━━━━━━━━━\u001b[0m \u001b[32m16.4/16.4 MB\u001b[0m \u001b[31m4.7 MB/s\u001b[0m eta \u001b[36m0:00:00\u001b[0m00:01\u001b[0m00:01\u001b[0m\n",
      "\u001b[?25hCollecting torch\n",
      "  Downloading torch-2.5.1-cp310-cp310-manylinux1_x86_64.whl (906.4 MB)\n",
      "\u001b[2K     \u001b[90m━━━━━━━━━━━━━━━━━━━━━━━━━━━━━━━━━━━━━━━\u001b[0m \u001b[32m906.4/906.4 MB\u001b[0m \u001b[31m3.2 MB/s\u001b[0m eta \u001b[36m0:00:00\u001b[0m00:01\u001b[0m00:04\u001b[0m\n",
      "\u001b[?25hCollecting scipy\n",
      "  Downloading scipy-1.14.1-cp310-cp310-manylinux_2_17_x86_64.manylinux2014_x86_64.whl (41.2 MB)\n",
      "\u001b[2K     \u001b[90m━━━━━━━━━━━━━━━━━━━━━━━━━━━━━━━━━━━━━━━━\u001b[0m \u001b[32m41.2/41.2 MB\u001b[0m \u001b[31m5.9 MB/s\u001b[0m eta \u001b[36m0:00:00\u001b[0m00:01\u001b[0m00:01\u001b[0m\n",
      "\u001b[?25hCollecting ninja\n",
      "  Downloading ninja-1.11.1.3-py3-none-manylinux_2_12_x86_64.manylinux2010_x86_64.whl (422 kB)\n",
      "\u001b[2K     \u001b[90m━━━━━━━━━━━━━━━━━━━━━━━━━━━━━━━━━━━━━━━\u001b[0m \u001b[32m422.9/422.9 KB\u001b[0m \u001b[31m6.6 MB/s\u001b[0m eta \u001b[36m0:00:00\u001b[0m00:01\u001b[0m00:01\u001b[0m\n",
      "\u001b[?25hCollecting nvidia-cufft-cu12==11.2.1.3\n",
      "  Downloading nvidia_cufft_cu12-11.2.1.3-py3-none-manylinux2014_x86_64.whl (211.5 MB)\n",
      "\u001b[2K     \u001b[90m━━━━━━━━━━━━━━━━━━━━━━━━━━━━━━━━━━━━━━━\u001b[0m \u001b[32m211.5/211.5 MB\u001b[0m \u001b[31m4.7 MB/s\u001b[0m eta \u001b[36m0:00:00\u001b[0m00:01\u001b[0m00:01\u001b[0m\n",
      "\u001b[?25hCollecting sympy==1.13.1\n",
      "  Downloading sympy-1.13.1-py3-none-any.whl (6.2 MB)\n",
      "\u001b[2K     \u001b[90m━━━━━━━━━━━━━━━━━━━━━━━━━━━━━━━━━━━━━━━━\u001b[0m \u001b[32m6.2/6.2 MB\u001b[0m \u001b[31m8.1 MB/s\u001b[0m eta \u001b[36m0:00:00\u001b[0m00:01\u001b[0m00:01\u001b[0m\n",
      "\u001b[?25hCollecting nvidia-cudnn-cu12==9.1.0.70\n",
      "  Downloading nvidia_cudnn_cu12-9.1.0.70-py3-none-manylinux2014_x86_64.whl (664.8 MB)\n",
      "\u001b[2K     \u001b[90m━━━━━━━━━━━━━━━━━━━━━━━━━━━━━━━━━━━━━━━\u001b[0m \u001b[32m664.8/664.8 MB\u001b[0m \u001b[31m3.4 MB/s\u001b[0m eta \u001b[36m0:00:00\u001b[0m00:01\u001b[0m00:04\u001b[0m\n",
      "\u001b[?25hCollecting nvidia-cublas-cu12==12.4.5.8\n",
      "  Downloading nvidia_cublas_cu12-12.4.5.8-py3-none-manylinux2014_x86_64.whl (363.4 MB)\n",
      "\u001b[2K     \u001b[90m━━━━━━━━━━━━━━━━━━━━━━━━━━━━━━━━━━━━━━━\u001b[0m \u001b[32m363.4/363.4 MB\u001b[0m \u001b[31m4.7 MB/s\u001b[0m eta \u001b[36m0:00:00\u001b[0m00:01\u001b[0m00:02\u001b[0m\n",
      "\u001b[?25hCollecting nvidia-cusparse-cu12==12.3.1.170\n",
      "  Downloading nvidia_cusparse_cu12-12.3.1.170-py3-none-manylinux2014_x86_64.whl (207.5 MB)\n",
      "\u001b[2K     \u001b[90m━━━━━━━━━━━━━━━━━━━━━━━━━━━━━━━━━━━━━━━\u001b[0m \u001b[32m207.5/207.5 MB\u001b[0m \u001b[31m6.5 MB/s\u001b[0m eta \u001b[36m0:00:00\u001b[0m00:01\u001b[0m00:01\u001b[0m\n",
      "\u001b[?25hCollecting nvidia-nvjitlink-cu12==12.4.127\n",
      "  Downloading nvidia_nvjitlink_cu12-12.4.127-py3-none-manylinux2014_x86_64.whl (21.1 MB)\n",
      "\u001b[2K     \u001b[90m━━━━━━━━━━━━━━━━━━━━━━━━━━━━━━━━━━━━━━━━\u001b[0m \u001b[32m21.1/21.1 MB\u001b[0m \u001b[31m7.1 MB/s\u001b[0m eta \u001b[36m0:00:00\u001b[0m00:01\u001b[0m00:01\u001b[0m\n",
      "\u001b[?25hRequirement already satisfied: jinja2 in /usr/lib/python3/dist-packages (from torch->easyocr) (3.0.3)\n",
      "Collecting networkx\n",
      "  Downloading networkx-3.4.2-py3-none-any.whl (1.7 MB)\n",
      "\u001b[2K     \u001b[90m━━━━━━━━━━━━━━━━━━━━━━━━━━━━━━━━━━━━━━━━\u001b[0m \u001b[32m1.7/1.7 MB\u001b[0m \u001b[31m6.5 MB/s\u001b[0m eta \u001b[36m0:00:00\u001b[0ma \u001b[36m0:00:01\u001b[0mm\n",
      "\u001b[?25hCollecting nvidia-cuda-cupti-cu12==12.4.127\n",
      "  Downloading nvidia_cuda_cupti_cu12-12.4.127-py3-none-manylinux2014_x86_64.whl (13.8 MB)\n",
      "\u001b[2K     \u001b[90m━━━━━━━━━━━━━━━━━━━━━━━━━━━━━━━━━━━━━━━━\u001b[0m \u001b[32m13.8/13.8 MB\u001b[0m \u001b[31m5.5 MB/s\u001b[0m eta \u001b[36m0:00:00\u001b[0m00:01\u001b[0m00:01\u001b[0m\n",
      "\u001b[?25hCollecting nvidia-cuda-nvrtc-cu12==12.4.127\n",
      "  Downloading nvidia_cuda_nvrtc_cu12-12.4.127-py3-none-manylinux2014_x86_64.whl (24.6 MB)\n",
      "\u001b[2K     \u001b[90m━━━━━━━━━━━━━━━━━━━━━━━━━━━━━━━━━━━━━━━━\u001b[0m \u001b[32m24.6/24.6 MB\u001b[0m \u001b[31m6.8 MB/s\u001b[0m eta \u001b[36m0:00:00\u001b[0m00:01\u001b[0m00:01\u001b[0m\n",
      "\u001b[?25hCollecting nvidia-cuda-runtime-cu12==12.4.127\n",
      "  Downloading nvidia_cuda_runtime_cu12-12.4.127-py3-none-manylinux2014_x86_64.whl (883 kB)\n",
      "\u001b[2K     \u001b[90m━━━━━━━━━━━━━━━━━━━━━━━━━━━━━━━━━━━━━━━\u001b[0m \u001b[32m883.7/883.7 KB\u001b[0m \u001b[31m7.1 MB/s\u001b[0m eta \u001b[36m0:00:00\u001b[0ma \u001b[36m0:00:01\u001b[0m\n",
      "\u001b[?25hCollecting fsspec\n",
      "  Downloading fsspec-2024.12.0-py3-none-any.whl (183 kB)\n",
      "\u001b[2K     \u001b[90m━━━━━━━━━━━━━━━━━━━━━━━━━━━━━━━━━━━━━━━\u001b[0m \u001b[32m183.9/183.9 KB\u001b[0m \u001b[31m6.9 MB/s\u001b[0m eta \u001b[36m0:00:00\u001b[0m\n",
      "\u001b[?25hCollecting triton==3.1.0\n",
      "  Downloading triton-3.1.0-cp310-cp310-manylinux_2_17_x86_64.manylinux2014_x86_64.whl (209.5 MB)\n",
      "\u001b[2K     \u001b[90m━━━━━━━━━━━━━━━━━━━━━━━━━━━━━━━━━━━━━━━\u001b[0m \u001b[32m209.5/209.5 MB\u001b[0m \u001b[31m4.9 MB/s\u001b[0m eta \u001b[36m0:00:00\u001b[0m00:01\u001b[0m00:01\u001b[0m\n",
      "\u001b[?25hCollecting nvidia-nvtx-cu12==12.4.127\n",
      "  Downloading nvidia_nvtx_cu12-12.4.127-py3-none-manylinux2014_x86_64.whl (99 kB)\n",
      "\u001b[2K     \u001b[90m━━━━━━━━━━━━━━━━━━━━━━━━━━━━━━━━━━━━━━━━\u001b[0m \u001b[32m99.1/99.1 KB\u001b[0m \u001b[31m7.7 MB/s\u001b[0m eta \u001b[36m0:00:00\u001b[0m\n",
      "\u001b[?25hCollecting nvidia-nccl-cu12==2.21.5\n",
      "  Downloading nvidia_nccl_cu12-2.21.5-py3-none-manylinux2014_x86_64.whl (188.7 MB)\n",
      "\u001b[2K     \u001b[90m━━━━━━━━━━━━━━━━━━━━━━━━━━━━━━━━━━━━━━━\u001b[0m \u001b[32m188.7/188.7 MB\u001b[0m \u001b[31m5.3 MB/s\u001b[0m eta \u001b[36m0:00:00\u001b[0m00:01\u001b[0m00:01\u001b[0m\n",
      "\u001b[?25hCollecting nvidia-curand-cu12==10.3.5.147\n",
      "  Downloading nvidia_curand_cu12-10.3.5.147-py3-none-manylinux2014_x86_64.whl (56.3 MB)\n",
      "\u001b[2K     \u001b[90m━━━━━━━━━━━━━━━━━━━━━━━━━━━━━━━━━━━━━━━━\u001b[0m \u001b[32m56.3/56.3 MB\u001b[0m \u001b[31m6.3 MB/s\u001b[0m eta \u001b[36m0:00:00\u001b[0m00:01\u001b[0m00:01\u001b[0m\n",
      "\u001b[?25hCollecting filelock\n",
      "  Downloading filelock-3.16.1-py3-none-any.whl (16 kB)\n",
      "Requirement already satisfied: typing-extensions>=4.8.0 in /usr/local/lib/python3.10/dist-packages (from torch->easyocr) (4.12.2)\n",
      "Collecting nvidia-cusolver-cu12==11.6.1.9\n",
      "  Downloading nvidia_cusolver_cu12-11.6.1.9-py3-none-manylinux2014_x86_64.whl (127.9 MB)\n",
      "\u001b[2K     \u001b[90m━━━━━━━━━━━━━━━━━━━━━━━━━━━━━━━━━━━━━━━\u001b[0m \u001b[32m127.9/127.9 MB\u001b[0m \u001b[31m4.6 MB/s\u001b[0m eta \u001b[36m0:00:00\u001b[0m00:01\u001b[0m00:01\u001b[0m\n",
      "\u001b[?25hCollecting mpmath<1.4,>=1.1.0\n",
      "  Downloading mpmath-1.3.0-py3-none-any.whl (536 kB)\n",
      "\u001b[2K     \u001b[90m━━━━━━━━━━━━━━━━━━━━━━━━━━━━━━━━━━━━━━━\u001b[0m \u001b[32m536.2/536.2 KB\u001b[0m \u001b[31m5.7 MB/s\u001b[0m eta \u001b[36m0:00:00\u001b[0ma \u001b[36m0:00:01\u001b[0m\n",
      "\u001b[?25hRequirement already satisfied: packaging>=21 in /usr/local/lib/python3.10/dist-packages (from scikit-image->easyocr) (24.2)\n",
      "Collecting imageio!=2.35.0,>=2.33\n",
      "  Downloading imageio-2.36.1-py3-none-any.whl (315 kB)\n",
      "\u001b[2K     \u001b[90m━━━━━━━━━━━━━━━━━━━━━━━━━━━━━━━━━━━━━━━\u001b[0m \u001b[32m315.4/315.4 KB\u001b[0m \u001b[31m6.7 MB/s\u001b[0m eta \u001b[36m0:00:00\u001b[0m00:01\u001b[0m\n",
      "\u001b[?25hCollecting lazy-loader>=0.4\n",
      "  Downloading lazy_loader-0.4-py3-none-any.whl (12 kB)\n",
      "Collecting tifffile>=2022.8.12\n",
      "  Downloading tifffile-2024.12.12-py3-none-any.whl (227 kB)\n",
      "\u001b[2K     \u001b[90m━━━━━━━━━━━━━━━━━━━━━━━━━━━━━━━━━━━━━━━\u001b[0m \u001b[32m227.5/227.5 KB\u001b[0m \u001b[31m5.0 MB/s\u001b[0m eta \u001b[36m0:00:00\u001b[0m00:01\u001b[0m\n",
      "\u001b[?25hInstalling collected packages: python-bidi, pyclipper, mpmath, sympy, nvidia-nvtx-cu12, nvidia-nvjitlink-cu12, nvidia-nccl-cu12, nvidia-curand-cu12, nvidia-cufft-cu12, nvidia-cuda-runtime-cu12, nvidia-cuda-nvrtc-cu12, nvidia-cuda-cupti-cu12, nvidia-cublas-cu12, numpy, ninja, networkx, lazy-loader, fsspec, filelock, triton, tifffile, Shapely, scipy, opencv-python-headless, nvidia-cusparse-cu12, nvidia-cudnn-cu12, imageio, scikit-image, nvidia-cusolver-cu12, torch, torchvision, easyocr\n",
      "Successfully installed Shapely-2.0.6 easyocr-1.7.2 filelock-3.16.1 fsspec-2024.12.0 imageio-2.36.1 lazy-loader-0.4 mpmath-1.3.0 networkx-3.4.2 ninja-1.11.1.3 numpy-2.2.1 nvidia-cublas-cu12-12.4.5.8 nvidia-cuda-cupti-cu12-12.4.127 nvidia-cuda-nvrtc-cu12-12.4.127 nvidia-cuda-runtime-cu12-12.4.127 nvidia-cudnn-cu12-9.1.0.70 nvidia-cufft-cu12-11.2.1.3 nvidia-curand-cu12-10.3.5.147 nvidia-cusolver-cu12-11.6.1.9 nvidia-cusparse-cu12-12.3.1.170 nvidia-nccl-cu12-2.21.5 nvidia-nvjitlink-cu12-12.4.127 nvidia-nvtx-cu12-12.4.127 opencv-python-headless-4.10.0.84 pyclipper-1.3.0.post6 python-bidi-0.6.3 scikit-image-0.25.0 scipy-1.14.1 sympy-1.13.1 tifffile-2024.12.12 torch-2.5.1 torchvision-0.20.1 triton-3.1.0\n",
      "Note: you may need to restart the kernel to use updated packages.\n"
     ]
    }
   ],
   "source": [
    "# vscode의 경우 % 매직커맨드 사용\n",
    "%pip install easyocr"
   ]
  },
  {
   "cell_type": "code",
   "execution_count": 2,
   "metadata": {},
   "outputs": [
    {
     "name": "stderr",
     "output_type": "stream",
     "text": [
      "Downloading detection model, please wait. This may take several minutes depending upon your network connection.\n"
     ]
    },
    {
     "name": "stdout",
     "output_type": "stream",
     "text": [
      "Progress: |██████████████████████████████████████████████████| 100.0% Complete"
     ]
    },
    {
     "name": "stderr",
     "output_type": "stream",
     "text": [
      "Downloading recognition model, please wait. This may take several minutes depending upon your network connection.\n"
     ]
    },
    {
     "name": "stdout",
     "output_type": "stream",
     "text": [
      "Progress: |██████████████████████████████████████████████████| 100.1% Complete"
     ]
    }
   ],
   "source": [
    "import easyocr\n",
    "reader = easyocr.Reader(['en', 'ko']) # this needs to run only to load the model into memory\n",
    "result = reader.readtext('receipt2.jpg')"
   ]
  },
  {
   "cell_type": "code",
   "execution_count": 3,
   "metadata": {},
   "outputs": [
    {
     "data": {
      "text/plain": [
       "[([[np.int32(120), np.int32(168)],\n",
       "   [np.int32(510), np.int32(168)],\n",
       "   [np.int32(510), np.int32(200)],\n",
       "   [np.int32(120), np.int32(200)]],\n",
       "  '[신용카드 (승인) 전표]',\n",
       "  np.float64(0.7105016398437359)),\n",
       " ([[np.int32(266), np.int32(196)],\n",
       "   [np.int32(358), np.int32(196)],\n",
       "   [np.int32(358), np.int32(222)],\n",
       "   [np.int32(266), np.int32(222)]],\n",
       "  '고 객 용',\n",
       "  np.float64(0.39301983568208315)),\n",
       " ([[np.int32(94), np.int32(220)],\n",
       "   [np.int32(122), np.int32(220)],\n",
       "   [np.int32(122), np.int32(248)],\n",
       "   [np.int32(94), np.int32(248)]],\n",
       "  '상',\n",
       "  np.float64(0.999946833363552)),\n",
       " ([[np.int32(132), np.int32(218)],\n",
       "   [np.int32(276), np.int32(218)],\n",
       "   [np.int32(276), np.int32(250)],\n",
       "   [np.int32(132), np.int32(250)]],\n",
       "  '호: 왕순대식당',\n",
       "  np.float64(0.9948479277638412)),\n",
       " ([[np.int32(94), np.int32(244)],\n",
       "   [np.int32(334), np.int32(244)],\n",
       "   [np.int32(334), np.int32(270)],\n",
       "   [np.int32(94), np.int32(270)]],\n",
       "  '사업자번오: 1UI-11-50148',\n",
       "  np.float64(0.7227300278072326)),\n",
       " ([[np.int32(346), np.int32(244)],\n",
       "   [np.int32(496), np.int32(244)],\n",
       "   [np.int32(496), np.int32(272)],\n",
       "   [np.int32(346), np.int32(272)]],\n",
       "  '대표지 : 신영녀',\n",
       "  np.float64(0.3177608222445224)),\n",
       " ([[np.int32(94), np.int32(268)],\n",
       "   [np.int32(120), np.int32(268)],\n",
       "   [np.int32(120), np.int32(318)],\n",
       "   [np.int32(94), np.int32(318)]],\n",
       "  '준',\n",
       "  np.float64(0.17295949159290647)),\n",
       " ([[np.int32(132), np.int32(268)],\n",
       "   [np.int32(392), np.int32(268)],\n",
       "   [np.int32(392), np.int32(298)],\n",
       "   [np.int32(132), np.int32(298)]],\n",
       "  '소: 서울 종로구 수표로2길',\n",
       "  np.float64(0.8223064278562476)),\n",
       " ([[np.int32(130), np.int32(294)],\n",
       "   [np.int32(166), np.int32(294)],\n",
       "   [np.int32(166), np.int32(318)],\n",
       "   [np.int32(130), np.int32(318)]],\n",
       "  '화:',\n",
       "  np.float64(0.7362518865858616)),\n",
       " ([[np.int32(178), np.int32(294)],\n",
       "   [np.int32(304), np.int32(294)],\n",
       "   [np.int32(304), np.int32(318)],\n",
       "   [np.int32(178), np.int32(318)]],\n",
       "  '02-2266-2379',\n",
       "  np.float64(0.8697013882638855)),\n",
       " ([[np.int32(92), np.int32(340)],\n",
       "   [np.int32(514), np.int32(340)],\n",
       "   [np.int32(514), np.int32(372)],\n",
       "   [np.int32(92), np.int32(372)]],\n",
       "  '2017년12월03일 13:01 ND:0048 01-초기사용자',\n",
       "  np.float64(0.5970580336039789)),\n",
       " ([[np.int32(90), np.int32(388)],\n",
       "   [np.int32(172), np.int32(388)],\n",
       "   [np.int32(172), np.int32(414)],\n",
       "   [np.int32(90), np.int32(414)]],\n",
       "  '카 드명',\n",
       "  np.float64(0.7684950232505798)),\n",
       " ([[np.int32(206), np.int32(390)],\n",
       "   [np.int32(338), np.int32(390)],\n",
       "   [np.int32(338), np.int32(416)],\n",
       "   [np.int32(206), np.int32(416)]],\n",
       "  '하나   (구외완)',\n",
       "  np.float64(0.5422370580218345)),\n",
       " ([[np.int32(86), np.int32(410)],\n",
       "   [np.int32(170), np.int32(410)],\n",
       "   [np.int32(170), np.int32(436)],\n",
       "   [np.int32(86), np.int32(436)]],\n",
       "  '카드번호',\n",
       "  np.float64(0.9933008551597595)),\n",
       " ([[np.int32(204), np.int32(412)],\n",
       "   [np.int32(310), np.int32(412)],\n",
       "   [np.int32(310), np.int32(438)],\n",
       "   [np.int32(204), np.int32(438)]],\n",
       "  '524335****',\n",
       "  np.float64(0.9970332283279708)),\n",
       " ([[np.int32(327), np.int32(421)],\n",
       "   [np.int32(371), np.int32(421)],\n",
       "   [np.int32(371), np.int32(433)],\n",
       "   [np.int32(327), np.int32(433)]],\n",
       "  '#**Y',\n",
       "  np.float64(0.1566178798675537)),\n",
       " ([[np.int32(81), np.int32(431)],\n",
       "   [np.int32(320), np.int32(431)],\n",
       "   [np.int32(320), np.int32(462)],\n",
       "   [np.int32(81), np.int32(462)]],\n",
       "  '가행점번호: 00964419733',\n",
       "  np.float64(0.4200469662880934)),\n",
       " ([[np.int32(74), np.int32(454)],\n",
       "   [np.int32(168), np.int32(454)],\n",
       "   [np.int32(168), np.int32(510)],\n",
       "   [np.int32(74), np.int32(510)]],\n",
       "  '승금',\n",
       "  np.float64(0.533556692008699)),\n",
       " ([[np.int32(196), np.int32(460)],\n",
       "   [np.int32(296), np.int32(460)],\n",
       "   [np.int32(296), np.int32(508)],\n",
       "   [np.int32(196), np.int32(508)]],\n",
       "  'ZAO 원',\n",
       "  np.float64(0.2638824930837519)),\n",
       " ([[np.int32(76), np.int32(500)],\n",
       "   [np.int32(164), np.int32(500)],\n",
       "   [np.int32(164), np.int32(532)],\n",
       "   [np.int32(76), np.int32(532)]],\n",
       "  '공급가액',\n",
       "  np.float64(0.8469358127040929)),\n",
       " ([[np.int32(196), np.int32(504)],\n",
       "   [np.int32(370), np.int32(504)],\n",
       "   [np.int32(370), np.int32(534)],\n",
       "   [np.int32(196), np.int32(534)]],\n",
       "  '21,816 원 부가세',\n",
       "  np.float64(0.9203264052056088)),\n",
       " ([[np.int32(404), np.int32(508)],\n",
       "   [np.int32(496), np.int32(508)],\n",
       "   [np.int32(496), np.int32(536)],\n",
       "   [np.int32(404), np.int32(536)]],\n",
       "  '2,184 원',\n",
       "  np.float64(0.5779234134705795)),\n",
       " ([[np.int32(74), np.int32(528)],\n",
       "   [np.int32(158), np.int32(528)],\n",
       "   [np.int32(158), np.int32(558)],\n",
       "   [np.int32(74), np.int32(558)]],\n",
       "  '할부개월',\n",
       "  np.float64(0.4926529824733734)),\n",
       " ([[np.int32(195), np.int32(527)],\n",
       "   [np.int32(359), np.int32(527)],\n",
       "   [np.int32(359), np.int32(563)],\n",
       "   [np.int32(195), np.int32(563)]],\n",
       "  '일시불 매입사명',\n",
       "  np.float64(0.9431422957457511)),\n",
       " ([[np.int32(392), np.int32(530)],\n",
       "   [np.int32(487), np.int32(530)],\n",
       "   [np.int32(487), np.int32(566)],\n",
       "   [np.int32(392), np.int32(566)]],\n",
       "  '하나외환',\n",
       "  np.float64(0.8876380324363708)),\n",
       " ([[np.int32(70), np.int32(549)],\n",
       "   [np.int32(159), np.int32(549)],\n",
       "   [np.int32(159), np.int32(586)],\n",
       "   [np.int32(70), np.int32(586)]],\n",
       "  '승인번호',\n",
       "  np.float64(0.9994441270828247)),\n",
       " ([[np.int32(192), np.int32(556)],\n",
       "   [np.int32(286), np.int32(556)],\n",
       "   [np.int32(286), np.int32(586)],\n",
       "   [np.int32(192), np.int32(586)]],\n",
       "  '05457012',\n",
       "  np.float64(0.863167387186352)),\n",
       " ([[np.int32(70), np.int32(578)],\n",
       "   [np.int32(158), np.int32(578)],\n",
       "   [np.int32(158), np.int32(610)],\n",
       "   [np.int32(70), np.int32(610)]],\n",
       "  '승인일시',\n",
       "  np.float64(0.9957109093666077)),\n",
       " ([[np.int32(190), np.int32(580)],\n",
       "   [np.int32(411), np.int32(580)],\n",
       "   [np.int32(411), np.int32(617)],\n",
       "   [np.int32(190), np.int32(617)]],\n",
       "  '2017년[2월03일 13:0I',\n",
       "  np.float64(0.3699809462229854)),\n",
       " ([[np.int32(68), np.int32(632)],\n",
       "   [np.int32(92), np.int32(632)],\n",
       "   [np.int32(92), np.int32(658)],\n",
       "   [np.int32(68), np.int32(658)]],\n",
       "  '알',\n",
       "  np.float64(0.9813150282045626)),\n",
       " ([[np.int32(128), np.int32(634)],\n",
       "   [np.int32(154), np.int32(634)],\n",
       "   [np.int32(154), np.int32(660)],\n",
       "   [np.int32(128), np.int32(660)]],\n",
       "  '팀',\n",
       "  np.float64(0.4188586984800056)),\n",
       " ([[np.int32(191), np.int32(634)],\n",
       "   [np.int32(403), np.int32(634)],\n",
       "   [np.int32(403), np.int32(673)],\n",
       "   [np.int32(191), np.int32(673)]],\n",
       "  '전자전표 가맣점보관',\n",
       "  np.float64(0.6180761088588207))]"
      ]
     },
     "execution_count": 3,
     "metadata": {},
     "output_type": "execute_result"
    }
   ],
   "source": [
    "result"
   ]
  },
  {
   "cell_type": "code",
   "execution_count": 4,
   "metadata": {},
   "outputs": [
    {
     "data": {
      "text/plain": [
       "32"
      ]
     },
     "execution_count": 4,
     "metadata": {},
     "output_type": "execute_result"
    }
   ],
   "source": [
    "len(result)"
   ]
  },
  {
   "cell_type": "code",
   "execution_count": 5,
   "metadata": {},
   "outputs": [
    {
     "data": {
      "text/plain": [
       "list"
      ]
     },
     "execution_count": 5,
     "metadata": {},
     "output_type": "execute_result"
    }
   ],
   "source": [
    "type(result)"
   ]
  },
  {
   "cell_type": "code",
   "execution_count": 12,
   "metadata": {},
   "outputs": [
    {
     "data": {
      "text/plain": [
       "([[np.int32(120), np.int32(168)],\n",
       "  [np.int32(510), np.int32(168)],\n",
       "  [np.int32(510), np.int32(200)],\n",
       "  [np.int32(120), np.int32(200)]],\n",
       " '[신용카드 (승인) 전표]',\n",
       " np.float64(0.7105016398437359))"
      ]
     },
     "execution_count": 12,
     "metadata": {},
     "output_type": "execute_result"
    }
   ],
   "source": [
    "result[0]"
   ]
  },
  {
   "cell_type": "code",
   "execution_count": 7,
   "metadata": {},
   "outputs": [
    {
     "name": "stdout",
     "output_type": "stream",
     "text": [
      "[신용카드 (승인) 전표]\n",
      "고 객 용\n",
      "상\n",
      "호: 왕순대식당\n",
      "사업자번오: 1UI-11-50148\n",
      "대표지 : 신영녀\n",
      "준\n",
      "소: 서울 종로구 수표로2길\n",
      "화:\n",
      "02-2266-2379\n",
      "2017년12월03일 13:01 ND:0048 01-초기사용자\n",
      "카 드명\n",
      "하나   (구외완)\n",
      "카드번호\n",
      "524335****\n",
      "#**Y\n",
      "가행점번호: 00964419733\n",
      "승금\n",
      "ZAO 원\n",
      "공급가액\n",
      "21,816 원 부가세\n",
      "2,184 원\n",
      "할부개월\n",
      "일시불 매입사명\n",
      "하나외환\n",
      "승인번호\n",
      "05457012\n",
      "승인일시\n",
      "2017년[2월03일 13:0I\n",
      "알\n",
      "팀\n",
      "전자전표 가맣점보관\n"
     ]
    }
   ],
   "source": [
    "for item in result:\n",
    "    print(item[1])"
   ]
  },
  {
   "cell_type": "code",
   "execution_count": 13,
   "metadata": {},
   "outputs": [
    {
     "name": "stdout",
     "output_type": "stream",
     "text": [
      "0 [신용카드 (승인) 전표]\n",
      "1 고 객 용\n",
      "2 상\n",
      "3 호: 왕순대식당\n",
      "4 사업자번오: 1UI-11-50148\n",
      "5 대표지 : 신영녀\n",
      "6 준\n",
      "7 소: 서울 종로구 수표로2길\n",
      "8 화:\n",
      "9 02-2266-2379\n",
      "10 2017년12월03일 13:01 ND:0048 01-초기사용자\n",
      "11 카 드명\n",
      "12 하나   (구외완)\n",
      "13 카드번호\n",
      "14 524335****\n",
      "15 #**Y\n",
      "16 가행점번호: 00964419733\n",
      "17 승금\n",
      "18 ZAO 원\n",
      "19 공급가액\n",
      "20 21,816 원 부가세\n",
      "21 2,184 원\n",
      "22 할부개월\n",
      "23 일시불 매입사명\n",
      "24 하나외환\n",
      "25 승인번호\n",
      "26 05457012\n",
      "27 승인일시\n",
      "28 2017년[2월03일 13:0I\n",
      "29 알\n",
      "30 팀\n",
      "31 전자전표 가맣점보관\n"
     ]
    }
   ],
   "source": [
    "for i, item in enumerate(result):\n",
    "    print(i, item[1])"
   ]
  },
  {
   "cell_type": "code",
   "execution_count": 18,
   "metadata": {},
   "outputs": [],
   "source": [
    "when = result[10][1]\n",
    "where = result[3][1]\n",
    "money = result[20][1]"
   ]
  },
  {
   "cell_type": "code",
   "execution_count": 19,
   "metadata": {},
   "outputs": [
    {
     "name": "stdout",
     "output_type": "stream",
     "text": [
      "날짜: 2017년12월03일 13:01 ND:0048 01-초기사용자\n",
      "장소: 호: 왕순대식당\n",
      "금액: 21,816 원 부가세\n"
     ]
    }
   ],
   "source": [
    "# 언제, 어디서, 얼마를 사용했는지 출력\n",
    "\n",
    "print(\"날짜:\", when)\n",
    "print(\"장소:\", where)\n",
    "print(\"금액:\", money)"
   ]
  },
  {
   "cell_type": "code",
   "execution_count": 23,
   "metadata": {},
   "outputs": [
    {
     "data": {
      "text/plain": [
       "'2017년12월03일 13:01'"
      ]
     },
     "execution_count": 23,
     "metadata": {},
     "output_type": "execute_result"
    }
   ],
   "source": [
    "when[0:17]"
   ]
  },
  {
   "cell_type": "code",
   "execution_count": 24,
   "metadata": {},
   "outputs": [],
   "source": [
    "# 참고 링크\n",
    "#https://strftime.org/\n",
    "#https://docs.python.org/ko/3/library/datetime.html#strftime-and-strptime-behavior\n",
    "\n",
    "import datetime\n",
    "\n",
    "# datetime.datetime.strptime('2017년12월03일 13:01','%Y년%m월%d일 %H:%M')\n",
    "dt = datetime.datetime.strptime(when[0:17], '%Y년%m월%d일 %H:%M')\n",
    "day = dt.strftime('%y-%m-%d')\n",
    "tm = dt.strftime('%H:%M')"
   ]
  },
  {
   "cell_type": "code",
   "execution_count": 31,
   "metadata": {},
   "outputs": [
    {
     "name": "stdout",
     "output_type": "stream",
     "text": [
      "날짜: 17-12-03\n",
      "시간: 13:01\n",
      "장소: 왕순대식당\n",
      "금액: 21816\n"
     ]
    }
   ],
   "source": [
    "print(\"날짜:\", day)\n",
    "print(\"시간:\", tm)\n",
    "print(\"장소:\", where[3:])\n",
    "print(\"금액:\", money[:6].replace(',', ''))"
   ]
  }
 ],
 "metadata": {
  "kernelspec": {
   "display_name": "Python 3",
   "language": "python",
   "name": "python3"
  },
  "language_info": {
   "codemirror_mode": {
    "name": "ipython",
    "version": 3
   },
   "file_extension": ".py",
   "mimetype": "text/x-python",
   "name": "python",
   "nbconvert_exporter": "python",
   "pygments_lexer": "ipython3",
   "version": "3.10.12"
  },
  "orig_nbformat": 4
 },
 "nbformat": 4,
 "nbformat_minor": 2
}
