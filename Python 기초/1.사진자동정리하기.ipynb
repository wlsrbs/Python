{
 "cells": [
  {
   "attachments": {},
   "cell_type": "markdown",
   "metadata": {},
   "source": [
    "# 사진 자동 정리하기\n",
    "\n",
    "사진 정보를 이용하여 위치, 날짜등의 이름으로 사진의 이름을 변경하여 정리합니다. \n",
    "\n",
    "[정리 전]\n",
    "\n",
    "KakaoTalk_2022-05-06 14-58-50.jpg\n",
    "\n",
    "\n",
    "[정리 후]\n",
    "\n",
    "시흥시_은행동_2022-06-04 14-06-00.jpg\n",
    "\n",
    "\n",
    "---"
   ]
  },
  {
   "attachments": {},
   "cell_type": "markdown",
   "metadata": {},
   "source": [
    "개발 프로세스\n",
    "\n",
    "1. 사진파일에서 위도, 경도(GPS 정보 추출) 추출\n",
    "2. 위도, 경도 -> 주소로 변환\n",
    "3. 파일이름 변경"
   ]
  },
  {
   "attachments": {},
   "cell_type": "markdown",
   "metadata": {},
   "source": [
    "----"
   ]
  },
  {
   "attachments": {},
   "cell_type": "markdown",
   "metadata": {},
   "source": [
    "## 사진 정보 추출하기"
   ]
  },
  {
   "cell_type": "code",
   "execution_count": 6,
   "metadata": {},
   "outputs": [
    {
     "data": {
      "text/plain": [
       "{34853: {0: b'\\x02\\x02\\x00\\x00',\n",
       "  2: (37.0, 26.0, 41.294399),\n",
       "  4: (126.0, 47.0, 53.931119),\n",
       "  6: 52.0},\n",
       " 296: 2,\n",
       " 34665: 262,\n",
       " 271: 'samsung',\n",
       " 272: 'SM-S908N',\n",
       " 305: 'S908NKSU1AVE4',\n",
       " 306: '2022:06:04 14:06:00',\n",
       " 531: 2,\n",
       " 532: (0.0, 255.0, 128.0, 255.0, 128.0, 255.0),\n",
       " 282: 150.0,\n",
       " 283: 150.0,\n",
       " 36864: b'0221',\n",
       " 37121: b'\\x01\\x02\\x03\\x00',\n",
       " 37377: 7.55,\n",
       " 36867: '2022:06:04 14:06:00',\n",
       " 36868: '2022:06:04 14:06:00',\n",
       " 37378: 2.27,\n",
       " 37379: 5.96,\n",
       " 37380: 0.0,\n",
       " 37381: 2.27,\n",
       " 37383: 2,\n",
       " 37385: 0,\n",
       " 37386: 3.8,\n",
       " 40961: 1,\n",
       " 40962: 841,\n",
       " 41989: 25,\n",
       " 41990: 0,\n",
       " 40963: 1121,\n",
       " 33434: 0.005319148936170213,\n",
       " 33437: 2.2,\n",
       " 34850: 2,\n",
       " 34855: 50,\n",
       " 41986: 0,\n",
       " 40960: b'0100',\n",
       " 41987: 0,\n",
       " 41988: 1.23}"
      ]
     },
     "execution_count": 6,
     "metadata": {},
     "output_type": "execute_result"
    }
   ],
   "source": [
    "from PIL import Image\n",
    "\n",
    "image = Image.open(r'사진/시흥시_은행동_2022-06-04 14-06-00.jpg')\n",
    "info = image._getexif();\n",
    "info"
   ]
  },
  {
   "cell_type": "code",
   "execution_count": 9,
   "metadata": {},
   "outputs": [
    {
     "name": "stdout",
     "output_type": "stream",
     "text": [
      "GPSInfo\n",
      "ResolutionUnit\n",
      "ExifOffset\n",
      "Make\n",
      "Model\n",
      "Software\n",
      "DateTime\n",
      "YCbCrPositioning\n",
      "ReferenceBlackWhite\n",
      "XResolution\n",
      "YResolution\n",
      "ExifVersion\n",
      "ComponentsConfiguration\n",
      "ShutterSpeedValue\n",
      "DateTimeOriginal\n",
      "DateTimeDigitized\n",
      "ApertureValue\n",
      "BrightnessValue\n",
      "ExposureBiasValue\n",
      "MaxApertureValue\n",
      "MeteringMode\n",
      "Flash\n",
      "FocalLength\n",
      "ColorSpace\n",
      "ExifImageWidth\n",
      "FocalLengthIn35mmFilm\n",
      "SceneCaptureType\n",
      "ExifImageHeight\n",
      "ExposureTime\n",
      "FNumber\n",
      "ExposureProgram\n",
      "ISOSpeedRatings\n",
      "ExposureMode\n",
      "FlashPixVersion\n",
      "WhiteBalance\n",
      "DigitalZoomRatio\n"
     ]
    }
   ],
   "source": [
    "# 파일 속성정보 출력\n",
    "from PIL.ExifTags import TAGS\n",
    "for tag,value in info.items():\n",
    "    decoded = TAGS.get(tag, tag)\n",
    "    print(TAGS.get(tag, tag))"
   ]
  },
  {
   "cell_type": "code",
   "execution_count": 15,
   "metadata": {},
   "outputs": [
    {
     "name": "stdout",
     "output_type": "stream",
     "text": [
      "GPSInfo : {0: b'\\x02\\x02\\x00\\x00', 2: (37.0, 26.0, 41.294399), 4: (126.0, 47.0, 53.931119), 6: 52.0}\n"
     ]
    }
   ],
   "source": [
    "from PIL import Image\n",
    "from PIL.ExifTags import TAGS\n",
    "\n",
    "image = Image.open(r'사진/시흥시_은행동_2022-06-04 14-06-00.jpg')\n",
    "info = image._getexif();\n",
    "\n",
    "# 속성정보\n",
    "gps_lat = None\n",
    "gps_lon = None\n",
    "for tag, value in info.items():\n",
    "    decoded = TAGS.get(tag, tag)\n",
    "    # print(f'{decoded} : {value}')\n",
    "    if decoded == 'GPSInfo':\n",
    "        print(f'{decoded} : {value}')"
   ]
  },
  {
   "cell_type": "code",
   "execution_count": 24,
   "metadata": {},
   "outputs": [
    {
     "name": "stdout",
     "output_type": "stream",
     "text": [
      "(37.0, 26.0, 41.294399) (126.0, 47.0, 53.931119)\n"
     ]
    }
   ],
   "source": [
    "from PIL import Image\n",
    "from PIL.ExifTags import TAGS\n",
    "\n",
    "image = Image.open(r'사진/시흥시_은행동_2022-06-04 14-06-00.jpg')\n",
    "info = image._getexif();\n",
    "\n",
    "# 속성정보\n",
    "gps_lat = None\n",
    "gps_lon = None\n",
    "for tag,value in info.items():\n",
    "    decoded = TAGS.get(tag,tag)\n",
    "    # print(f'{decoded} : {value}')\n",
    "    if decoded == 'GPSInfo':\n",
    "        gps_lat = value.get(2)\n",
    "        gps_lon = value.get(4)\n",
    "\n",
    "print(gps_lat, gps_lon)"
   ]
  },
  {
   "cell_type": "code",
   "execution_count": 28,
   "metadata": {},
   "outputs": [],
   "source": [
    "# 위도 경도 값 보정\n",
    "\n",
    "lat = (((gps_lat[2] / 60.0) + gps_lat[1]) / 60.0) + gps_lat[0]\n",
    "lon = (((gps_lon[2] / 60.0 ) +  gps_lon[1]) / 60.0) + gps_lon[0]"
   ]
  },
  {
   "cell_type": "code",
   "execution_count": 30,
   "metadata": {},
   "outputs": [
    {
     "data": {
      "text/plain": [
       "(37.444803999722225, 126.79831419972223)"
      ]
     },
     "execution_count": 30,
     "metadata": {},
     "output_type": "execute_result"
    }
   ],
   "source": [
    "lat, lon"
   ]
  },
  {
   "attachments": {},
   "cell_type": "markdown",
   "metadata": {},
   "source": [
    "## 위도,경도에서 주소로 변환\n",
    "\n",
    "https://pypi.org/project/geopy/"
   ]
  },
  {
   "cell_type": "code",
   "execution_count": 31,
   "metadata": {},
   "outputs": [
    {
     "name": "stdout",
     "output_type": "stream",
     "text": [
      "Defaulting to user installation because normal site-packages is not writeable\n",
      "Collecting geopy\n",
      "  Downloading geopy-2.4.1-py3-none-any.whl (125 kB)\n",
      "\u001b[2K     \u001b[90m━━━━━━━━━━━━━━━━━━━━━━━━━━━━━━━━━━━━━━━\u001b[0m \u001b[32m125.4/125.4 KB\u001b[0m \u001b[31m4.5 MB/s\u001b[0m eta \u001b[36m0:00:00\u001b[0m\n",
      "\u001b[?25hCollecting geographiclib<3,>=1.52\n",
      "  Downloading geographiclib-2.0-py3-none-any.whl (40 kB)\n",
      "\u001b[2K     \u001b[90m━━━━━━━━━━━━━━━━━━━━━━━━━━━━━━━━━━━━━━━━\u001b[0m \u001b[32m40.3/40.3 KB\u001b[0m \u001b[31m5.3 MB/s\u001b[0m eta \u001b[36m0:00:00\u001b[0m\n",
      "\u001b[?25hInstalling collected packages: geographiclib, geopy\n",
      "Successfully installed geographiclib-2.0 geopy-2.4.1\n",
      "Note: you may need to restart the kernel to use updated packages.\n"
     ]
    }
   ],
   "source": [
    "%pip install geopy"
   ]
  },
  {
   "cell_type": "code",
   "execution_count": 41,
   "metadata": {},
   "outputs": [
    {
     "name": "stdout",
     "output_type": "stream",
     "text": [
      "37.6070327 127.0383656\n"
     ]
    }
   ],
   "source": [
    "# 지오코드 사용법 살펴보기\n",
    "# 주소를 위도 경도로 변환\n",
    "\n",
    "from geopy.geocoders import Nominatim\n",
    "\n",
    "test = '성북구 오패산로 46'\n",
    "geolocator = Nominatim(user_agent='South Korea') # user_agent는 식별가능 문자열(아무 문자열)\n",
    "location = geolocator.geocode(test)\n",
    "\n",
    "latitude = location.latitude #위도\n",
    "longitude = location.longitude #경도\n",
    "\n",
    "print(latitude, longitude)"
   ]
  },
  {
   "cell_type": "code",
   "execution_count": 42,
   "metadata": {},
   "outputs": [
    {
     "data": {
      "text/plain": [
       "'꼬꼬스토리, 46, 주상가동 136호 (하월곡동), 오패산로, 월곡1동, 성북구, 서울특별시, 02741, 대한민국'"
      ]
     },
     "execution_count": 42,
     "metadata": {},
     "output_type": "execute_result"
    }
   ],
   "source": [
    "# 위도 경도를 주소로 변환\n",
    "lat_lng_str = f'{latitude},{longitude}' # 위도 경도 문자열\n",
    "loc = geolocator.reverse(lat_lng_str)\n",
    "loc.address"
   ]
  },
  {
   "attachments": {},
   "cell_type": "markdown",
   "metadata": {},
   "source": [
    "---"
   ]
  },
  {
   "attachments": {},
   "cell_type": "markdown",
   "metadata": {},
   "source": [
    "## 함수 생성"
   ]
  },
  {
   "cell_type": "code",
   "execution_count": 47,
   "metadata": {},
   "outputs": [
    {
     "data": {
      "text/plain": [
       "(37.444803999722225, 126.79831419972223, '2022-06-04 14-06-00')"
      ]
     },
     "execution_count": 47,
     "metadata": {},
     "output_type": "execute_result"
    }
   ],
   "source": [
    "from PIL import Image\n",
    "from PIL.ExifTags import TAGS\n",
    "# 사진 정보 가져오기\n",
    "def getPicInfo(fname):\n",
    "    image = Image.open(fname)\n",
    "    info = image._getexif();\n",
    "    image.close() # close()를 해줄 것. 파일이름 변경시 에러발생 가능성 있음\n",
    "\n",
    "    # 속성정보\n",
    "    lat = None\n",
    "    lone = None\n",
    "    pictime = None\n",
    "\n",
    "    for tag,value in info.items():\n",
    "        decoded = TAGS.get(tag, tag)\n",
    "        # print(f'{decoded} : {value}')\n",
    "        if decoded == \"GPSInfo\":\n",
    "            gps_lat = value.get(2)\n",
    "            gps_lon = value.get(4)\n",
    "\n",
    "            # 보정\n",
    "            lat = (((gps_lat[2] / 60.0 ) +  gps_lat[1]) / 60.0) + gps_lat[0]\n",
    "            lon = (((gps_lon[2] / 60.0 ) +  gps_lon[1]) / 60.0) + gps_lon[0]\n",
    "        \n",
    "        if decoded == \"DateTime\":\n",
    "            pictime = value.replace(\":\",\"-\")\n",
    "\n",
    "    return lat,lon,pictime\n",
    "\n",
    "getPicInfo(r'사진/시흥시_은행동_2022-06-04 14-06-00.jpg')"
   ]
  },
  {
   "cell_type": "code",
   "execution_count": 49,
   "metadata": {},
   "outputs": [
    {
     "data": {
      "text/plain": [
       "('은행동', '은행로')"
      ]
     },
     "execution_count": 49,
     "metadata": {},
     "output_type": "execute_result"
    }
   ],
   "source": [
    "from geopy.geocoders import Nominatim\n",
    "\n",
    "# 주소 가져오기\n",
    "def getAddress(latitude, longitude):\n",
    "\n",
    "    lat_lng_str = f'{latitude},{longitude}' # 위도 경도 문자열\n",
    "\n",
    "    geolocator = Nominatim(user_agent='South Korea')\n",
    "\n",
    "    loc = geolocator.reverse(lat_lng_str)\n",
    "    addlist = loc.address.split(\",\")\n",
    "    si = addlist[3].strip()\n",
    "    do = addlist[2].strip()\n",
    "    return si, do\n",
    "\n",
    "getAddress(37.444803999722225,126.79831419972223)"
   ]
  },
  {
   "cell_type": "markdown",
   "metadata": {},
   "source": [
    "## 종합코드"
   ]
  },
  {
   "cell_type": "code",
   "execution_count": 51,
   "metadata": {},
   "outputs": [],
   "source": [
    "from glob import glob\n",
    "import os\n",
    "\n",
    "flist = glob(r'사진\\*.jpg')\n",
    "\n",
    "for fname in flist:\n",
    "\n",
    "    lat, lon, pictime = getPicInfo(fname)\n",
    "    si,do = getAddress(lat,lon)\n",
    "    # print(lat, lon, pictime)\n",
    "    # print(si,do)\n",
    "    newfname = f'사진\\\\{si}_{do}_{pictime}.jpg'\n",
    "    # print(newfname)\n",
    "\n",
    "    os.rename(fname,newfname)"
   ]
  },
  {
   "cell_type": "markdown",
   "metadata": {},
   "source": [
    "## 에러발생하는 경우 시뮬레이션"
   ]
  },
  {
   "cell_type": "code",
   "execution_count": 54,
   "metadata": {},
   "outputs": [],
   "source": [
    "from PIL import Image\n",
    "from PIL.ExifTags import TAGS\n",
    "pic_time = f'./사진/KakaoTalk_20250109_001405527_01.jpg'\n",
    "image = Image.open(pic_time) # 파일 열기\n",
    "info = image._getexif()"
   ]
  },
  {
   "cell_type": "code",
   "execution_count": 55,
   "metadata": {},
   "outputs": [],
   "source": [
    "os.rename(pic_time,'./사진/aaa.jpg') #이름 변경 가능"
   ]
  },
  {
   "cell_type": "code",
   "execution_count": null,
   "metadata": {},
   "outputs": [
    {
     "name": "stdout",
     "output_type": "stream",
     "text": [
      "내가발생시킨 에러\n"
     ]
    }
   ],
   "source": [
    "# 최종\n",
    "from PIL import Image\n",
    "from PIL.ExifTags import TAGS\n",
    "\n",
    "pic_time = f'./사진/KakaoTalk_20250109_001405527_01.jpg'\n",
    "\n",
    "try:\n",
    "    image = Image.open(pic_time) #파일을 오픈하고 비정상적으로 종료시 파일스트림이 유지됨\n",
    "    info = image._getexif() \n",
    "\n",
    "    raise Exception(\"내가발생시킨 에러\")\n",
    "\n",
    "\n",
    "except Exception as e: \n",
    "    print(e)\n",
    "    # image.close()\n",
    "    import os\n",
    "    os.rename(pic_time,'./사진/aaa.jpg')"
   ]
  }
 ],
 "metadata": {
  "kernelspec": {
   "display_name": "Python 3",
   "language": "python",
   "name": "python3"
  },
  "language_info": {
   "codemirror_mode": {
    "name": "ipython",
    "version": 3
   },
   "file_extension": ".py",
   "mimetype": "text/x-python",
   "name": "python",
   "nbconvert_exporter": "python",
   "pygments_lexer": "ipython3",
   "version": "3.10.12"
  },
  "orig_nbformat": 4
 },
 "nbformat": 4,
 "nbformat_minor": 2
}
