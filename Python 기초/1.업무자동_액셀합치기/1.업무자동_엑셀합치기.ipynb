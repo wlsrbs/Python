{
 "cells": [
  {
   "attachments": {},
   "cell_type": "markdown",
   "metadata": {},
   "source": [
    "# 여러 개의 판매보고서 합치기\n",
    "\n",
    "- 여러 개의 대리점을 관리하고 있습니다. \n",
    "- 저녁 8시가 되면 각 대리점에서 오늘의 판매금액을 엑셀 파일로 보고합니다. \n",
    "- 판매금액이 적힌 여러 개의 엑셀 파일을 하나로 합쳐 오늘의 판매금액을 한눈에 확인합니다. "
   ]
  },
  {
   "attachments": {},
   "cell_type": "markdown",
   "metadata": {},
   "source": [
    "![](data:image/png;base64,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)"
   ]
  },
  {
   "attachments": {},
   "cell_type": "markdown",
   "metadata": {},
   "source": [
    "> - [Tip]\n",
    "> - vscode의 Extension의 'Excel Viewer' 설치하면 편리\n",
    "> "
   ]
  },
  {
   "cell_type": "code",
   "execution_count": 1,
   "metadata": {},
   "outputs": [
    {
     "name": "stdout",
     "output_type": "stream",
     "text": [
      "Defaulting to user installation because normal site-packages is not writeable\n",
      "Collecting openpyxl\n",
      "  Downloading openpyxl-3.1.5-py2.py3-none-any.whl (250 kB)\n",
      "\u001b[2K     \u001b[90m━━━━━━━━━━━━━━━━━━━━━━━━━━━━━━━━━━━━━━━\u001b[0m \u001b[32m250.9/250.9 KB\u001b[0m \u001b[31m3.1 MB/s\u001b[0m eta \u001b[36m0:00:00\u001b[0m00:01\u001b[0m00:01\u001b[0m\n",
      "\u001b[?25hCollecting et-xmlfile\n",
      "  Downloading et_xmlfile-2.0.0-py3-none-any.whl (18 kB)\n",
      "Installing collected packages: et-xmlfile, openpyxl\n",
      "Successfully installed et-xmlfile-2.0.0 openpyxl-3.1.5\n",
      "Note: you may need to restart the kernel to use updated packages.\n"
     ]
    }
   ],
   "source": [
    "# 라이브러리 설치\n",
    "\n",
    "%pip install openpyxl"
   ]
  },
  {
   "cell_type": "code",
   "execution_count": 2,
   "metadata": {},
   "outputs": [
    {
     "data": {
      "text/plain": [
       "['./판매보고/판매보고_부산점.xlsx', './판매보고/판매보고_시흥점.xlsx', './판매보고/판매보고_청주점.xlsx']"
      ]
     },
     "execution_count": 2,
     "metadata": {},
     "output_type": "execute_result"
    }
   ],
   "source": [
    "# 경로 읽기\n",
    "import glob\n",
    "sale_reports = glob.glob(r'./판매보고/판매보고_*.xlsx')\n",
    "sale_reports"
   ]
  },
  {
   "attachments": {},
   "cell_type": "markdown",
   "metadata": {},
   "source": [
    "> * 파일 1개(만매보고_대전점.xlsx)가 리스트업 되지 않는다."
   ]
  },
  {
   "cell_type": "code",
   "execution_count": 3,
   "metadata": {},
   "outputs": [
    {
     "data": {
      "text/plain": [
       "['만매보고_대전점.xlsx', '판매보고_부산점.xlsx', '판매보고_시흥점.xlsx', '판매보고_청주점.xlsx']"
      ]
     },
     "execution_count": 3,
     "metadata": {},
     "output_type": "execute_result"
    }
   ],
   "source": [
    "# 경로 읽기\n",
    "import os\n",
    "sale_reports = os.listdir(r'./판매보고')\n",
    "sale_reports"
   ]
  },
  {
   "cell_type": "code",
   "execution_count": 5,
   "metadata": {},
   "outputs": [
    {
     "name": "stdout",
     "output_type": "stream",
     "text": [
      "부산점 2022-08-09 00:00:00 1500000\n"
     ]
    }
   ],
   "source": [
    "#엑셀 파일 읽기\n",
    "from openpyxl import load_workbook\n",
    "from openpyxl import Workbook\n",
    "\n",
    "exelfile = './판매보고/판매보고_부산점.xlsx'\n",
    "wb = load_workbook(exelfile, data_only=True)\n",
    "ws = wb.active\n",
    "print(ws['B1'].value,str(ws['B2'].value),ws['B3'].value)\n",
    "wb.close()\n"
   ]
  },
  {
   "cell_type": "code",
   "execution_count": 6,
   "metadata": {},
   "outputs": [],
   "source": [
    "# 엑셀파일 쓰기\n",
    "\n",
    "wb = Workbook()\n",
    "ws  = wb.active\n",
    "# openpyxl에서 행과 열은 인덱스가 1부터 시작\n",
    "# 값 쓰기\n",
    "ws.cell(row=1,column=1).value = \"1-1\"\n",
    "ws.cell(row=1,column=2).value = \"1-1\"\n",
    "ws.cell(row=1,column=3).value = \"1-2\"\n",
    "\n",
    "wb.save(r\"결과.xlsx\")\n",
    "wb.close()"
   ]
  },
  {
   "attachments": {},
   "cell_type": "markdown",
   "metadata": {},
   "source": [
    "## 함수만들기"
   ]
  },
  {
   "cell_type": "code",
   "execution_count": 8,
   "metadata": {},
   "outputs": [],
   "source": [
    "# 리포트 리스트 가져오기\n",
    "def getReports(dir):\n",
    "    import os\n",
    "    return os.listdir(dir)"
   ]
  },
  {
   "cell_type": "code",
   "execution_count": 16,
   "metadata": {},
   "outputs": [],
   "source": [
    "#개별 지점 리포트 내용 가져오기\n",
    "def getValue(report):\n",
    "    wb = load_workbook(report, data_only=True)\n",
    "    ws = wb.active\n",
    "\n",
    "    shop = ws['B1'].value\n",
    "    sale_date = str(ws['B2'].value)\n",
    "    sale_total = ws['B3'].value\n",
    "\n",
    "    wb.close()\n",
    "\n",
    "    return shop,sale_date,sale_total"
   ]
  },
  {
   "cell_type": "code",
   "execution_count": 19,
   "metadata": {},
   "outputs": [],
   "source": [
    "#결과 리포트에 지점 데이터 추가하기\n",
    "def addReport(ws,rowIdx,*args):\n",
    "    for idx, arg in enumerate(args):\n",
    "        # print(rowIdx,idx)\n",
    "        ws.cell(row=rowIdx+1,column=idx+1).value = arg"
   ]
  },
  {
   "cell_type": "code",
   "execution_count": 20,
   "metadata": {},
   "outputs": [],
   "source": [
    "# 오늘 날짜 가져오기\n",
    "def getToday():\n",
    "    from datetime import datetime\n",
    "    return datetime.now().strftime(\"%y_%m_%d\")"
   ]
  },
  {
   "attachments": {},
   "cell_type": "markdown",
   "metadata": {},
   "source": [
    "## 종합 코드"
   ]
  },
  {
   "cell_type": "code",
   "execution_count": 23,
   "metadata": {},
   "outputs": [],
   "source": [
    "import glob\n",
    "from openpyxl import load_workbook\n",
    "from openpyxl import Workbook\n",
    "\n",
    "# 리포트 리스트 가져오기\n",
    "DIR = './판매보고'\n",
    "sale_reports = getReports(DIR)\n",
    "\n",
    "\n",
    "wb = Workbook()\n",
    "ws = wb.active\n",
    "\n",
    "for i, report in enumerate(sale_reports):\n",
    "    # print(f'{DIR}/{report}')\n",
    "    shop,sale_date,sale_total = getValue(f'{DIR}/{report}') #개별 지점 리포트 내용 가져오기\n",
    "    # print(shop,sale_date,sale_total)\n",
    "    addReport(ws,i,shop,sale_date,sale_total)               #결과 리포트에 지점 데이터 추가하기\n",
    "\n",
    "wb.save(f\"결과_{getToday()}.xlsx\")       # 오늘 날짜 가져오기, 결과_2023_04_08.xlsx 형식으로 저장\n",
    "wb.close()    "
   ]
  }
 ],
 "metadata": {
  "kernelspec": {
   "display_name": "Python 3",
   "language": "python",
   "name": "python3"
  },
  "language_info": {
   "codemirror_mode": {
    "name": "ipython",
    "version": 3
   },
   "file_extension": ".py",
   "mimetype": "text/x-python",
   "name": "python",
   "nbconvert_exporter": "python",
   "pygments_lexer": "ipython3",
   "version": "3.10.12"
  },
  "orig_nbformat": 4
 },
 "nbformat": 4,
 "nbformat_minor": 2
}
