{
 "cells": [
  {
   "cell_type": "markdown",
   "metadata": {
    "id": "vE7_kMpNWfuy"
   },
   "source": [
    "# BeautifulSoup 사용방법"
   ]
  },
  {
   "cell_type": "code",
   "execution_count": 1,
   "metadata": {
    "id": "pxQ0Ocn8Wfuz",
    "outputId": "2155fb8d-9a81-46f6-f3e5-fc612fffbb74"
   },
   "outputs": [
    {
     "name": "stdout",
     "output_type": "stream",
     "text": [
      "Defaulting to user installation because normal site-packages is not writeable\n",
      "Requirement already satisfied: beautifulSoup4 in /home/ubuntu/.local/lib/python3.10/site-packages (4.12.3)\n",
      "Requirement already satisfied: soupsieve>1.2 in /home/ubuntu/.local/lib/python3.10/site-packages (from beautifulSoup4) (2.6)\n"
     ]
    }
   ],
   "source": [
    "!pip install beautifulSoup4"
   ]
  },
  {
   "cell_type": "code",
   "execution_count": 2,
   "metadata": {
    "executionInfo": {
     "elapsed": 2,
     "status": "ok",
     "timestamp": 1663114562749,
     "user": {
      "displayName": "miran son",
      "userId": "15448081131789513607"
     },
     "user_tz": -540
    },
    "id": "gSS6UYEWWfu0"
   },
   "outputs": [],
   "source": [
    "# bs4라는 패키지로부터 BeautifulSoup라는 모듈을 임포트\n",
    "from bs4 import BeautifulSoup"
   ]
  },
  {
   "cell_type": "code",
   "execution_count": 3,
   "metadata": {
    "executionInfo": {
     "elapsed": 289,
     "status": "ok",
     "timestamp": 1663115079572,
     "user": {
      "displayName": "miran son",
      "userId": "15448081131789513607"
     },
     "user_tz": -540
    },
    "id": "c7uzthbcYDf0"
   },
   "outputs": [],
   "source": [
    "html = \"\"\"\n",
    "<html>\n",
    "    <body>\n",
    "        <h1 id='title'>[1]크롤링이란?</h1>\n",
    "        <p class='cssstyle'>웹페이지에서 필요한 데이터를 추출하는 것</p>\n",
    "        <p id='body' align='center'>파이썬을 중심으로 다양한 웹크롤링 기술 발달</p>\n",
    "        <a href = 'http://www.facebook.com'> 바로가기 </a>\n",
    "        <ul id=\"aladin_list\">\n",
    "            <li class=\"cssstyle\" id='start'>[국내도서]신나는 파이썬</li>\n",
    "            <li class=\"course\" id='start'>[국내도서] 혼자 공부하는 파이썬</li>\n",
    "            <li class=\"course\" id='end'><a href=\"https://www.aladin.co.kr\">[국내도서] Effective Python 2nd 이펙티브 파이썬 : 파이썬 코딩의 기술 </a></li>\n",
    "        </ul>\n",
    "    </body>\n",
    "</html>\n",
    "\"\"\""
   ]
  },
  {
   "cell_type": "code",
   "execution_count": 4,
   "metadata": {
    "executionInfo": {
     "elapsed": 2,
     "status": "ok",
     "timestamp": 1663115080683,
     "user": {
      "displayName": "miran son",
      "userId": "15448081131789513607"
     },
     "user_tz": -540
    },
    "id": "YvjyBUYUWfu1"
   },
   "outputs": [],
   "source": [
    "# BeautifulSoup 인스턴스 생성. 두번째 매개변수는 분석할 분석기(parser)의 종류.\n",
    "soup = BeautifulSoup(html, 'html.parser')"
   ]
  },
  {
   "cell_type": "code",
   "execution_count": 5,
   "metadata": {},
   "outputs": [
    {
     "data": {
      "text/plain": [
       "\n",
       "<html>\n",
       "<body>\n",
       "<h1 id=\"title\">[1]크롤링이란?</h1>\n",
       "<p class=\"cssstyle\">웹페이지에서 필요한 데이터를 추출하는 것</p>\n",
       "<p align=\"center\" id=\"body\">파이썬을 중심으로 다양한 웹크롤링 기술 발달</p>\n",
       "<a href=\"http://www.facebook.com\"> 바로가기 </a>\n",
       "<ul id=\"aladin_list\">\n",
       "<li class=\"cssstyle\" id=\"start\">[국내도서]신나는 파이썬</li>\n",
       "<li class=\"course\" id=\"start\">[국내도서] 혼자 공부하는 파이썬</li>\n",
       "<li class=\"course\" id=\"end\"><a href=\"https://www.aladin.co.kr\">[국내도서] Effective Python 2nd 이펙티브 파이썬 : 파이썬 코딩의 기술 </a></li>\n",
       "</ul>\n",
       "</body>\n",
       "</html>"
      ]
     },
     "execution_count": 5,
     "metadata": {},
     "output_type": "execute_result"
    }
   ],
   "source": [
    "soup"
   ]
  },
  {
   "attachments": {},
   "cell_type": "markdown",
   "metadata": {
    "id": "hm1oNWWaWfu1"
   },
   "source": [
    "## 태그 선택\n",
    "\n",
    "*  태그 이름이 tag1인 html요소를 리스트 형태로 모두 반환한다. \n",
    "```python\n",
    "    soup.select('tag1')\n",
    "```\n",
    "* 태그 이름이 tag1인html요소중 첫번째 요소만 반환한다.\n",
    "```python\n",
    "   soup.select_one('tag1')\n",
    "```"
   ]
  },
  {
   "cell_type": "code",
   "execution_count": 6,
   "metadata": {
    "colab": {
     "base_uri": "https://localhost:8080/"
    },
    "executionInfo": {
     "elapsed": 282,
     "status": "ok",
     "timestamp": 1663115031921,
     "user": {
      "displayName": "miran son",
      "userId": "15448081131789513607"
     },
     "user_tz": -540
    },
    "id": "9Xll3ko5Wfu1",
    "outputId": "b7192de8-35ca-4beb-d753-a3f1a21cd0c9"
   },
   "outputs": [
    {
     "data": {
      "text/plain": [
       "[<body>\n",
       " <h1 id=\"title\">[1]크롤링이란?</h1>\n",
       " <p class=\"cssstyle\">웹페이지에서 필요한 데이터를 추출하는 것</p>\n",
       " <p align=\"center\" id=\"body\">파이썬을 중심으로 다양한 웹크롤링 기술 발달</p>\n",
       " <a href=\"http://www.facebook.com\"> 바로가기 </a>\n",
       " <ul id=\"aladin_list\">\n",
       " <li class=\"cssstyle\" id=\"start\">[국내도서]신나는 파이썬</li>\n",
       " <li class=\"course\" id=\"start\">[국내도서] 혼자 공부하는 파이썬</li>\n",
       " <li class=\"course\" id=\"end\"><a href=\"https://www.aladin.co.kr\">[국내도서] Effective Python 2nd 이펙티브 파이썬 : 파이썬 코딩의 기술 </a></li>\n",
       " </ul>\n",
       " </body>]"
      ]
     },
     "execution_count": 6,
     "metadata": {},
     "output_type": "execute_result"
    }
   ],
   "source": [
    "# <body> 태그를 입력\n",
    "soup.select('body')"
   ]
  },
  {
   "cell_type": "code",
   "execution_count": 8,
   "metadata": {},
   "outputs": [
    {
     "data": {
      "text/plain": [
       "[<p class=\"cssstyle\">웹페이지에서 필요한 데이터를 추출하는 것</p>,\n",
       " <p align=\"center\" id=\"body\">파이썬을 중심으로 다양한 웹크롤링 기술 발달</p>]"
      ]
     },
     "execution_count": 8,
     "metadata": {},
     "output_type": "execute_result"
    }
   ],
   "source": [
    "# p 태그 요소 모두 반환\n",
    "soup.select('p')"
   ]
  },
  {
   "cell_type": "code",
   "execution_count": 9,
   "metadata": {},
   "outputs": [
    {
     "data": {
      "text/plain": [
       "<p class=\"cssstyle\">웹페이지에서 필요한 데이터를 추출하는 것</p>"
      ]
     },
     "execution_count": 9,
     "metadata": {},
     "output_type": "execute_result"
    }
   ],
   "source": [
    "# 첫 번째 p 태그 요소 반환\n",
    "soup.select_one('p')"
   ]
  },
  {
   "attachments": {},
   "cell_type": "markdown",
   "metadata": {},
   "source": [
    "## 하위 태그 선택\n",
    "\n",
    "* 바로 아래 자식요소만 선택합니다. \n",
    "* '>' 를 사용합니다. \n",
    "```python\n",
    "    soup.select('tag1 > tag2')\n",
    "```\n",
    "\n",
    "* 길이가 너무 긴 경우 중간 생략하고 하위 요소를 선택합니다. \n",
    "* ' ' 공백을 사용합니다. \n",
    "```python\n",
    "    soup.select('tag1 tag2')\n",
    "```"
   ]
  },
  {
   "cell_type": "code",
   "execution_count": 10,
   "metadata": {},
   "outputs": [
    {
     "data": {
      "text/plain": [
       "[<p class=\"cssstyle\">웹페이지에서 필요한 데이터를 추출하는 것</p>,\n",
       " <p align=\"center\" id=\"body\">파이썬을 중심으로 다양한 웹크롤링 기술 발달</p>]"
      ]
     },
     "execution_count": 10,
     "metadata": {},
     "output_type": "execute_result"
    }
   ],
   "source": [
    "soup.select('body > p')"
   ]
  },
  {
   "cell_type": "code",
   "execution_count": 11,
   "metadata": {},
   "outputs": [
    {
     "data": {
      "text/plain": [
       "[<li class=\"cssstyle\" id=\"start\">[국내도서]신나는 파이썬</li>,\n",
       " <li class=\"course\" id=\"start\">[국내도서] 혼자 공부하는 파이썬</li>,\n",
       " <li class=\"course\" id=\"end\"><a href=\"https://www.aladin.co.kr\">[국내도서] Effective Python 2nd 이펙티브 파이썬 : 파이썬 코딩의 기술 </a></li>]"
      ]
     },
     "execution_count": 11,
     "metadata": {},
     "output_type": "execute_result"
    }
   ],
   "source": [
    "soup.select('body > ul > li')"
   ]
  },
  {
   "cell_type": "code",
   "execution_count": 14,
   "metadata": {},
   "outputs": [
    {
     "data": {
      "text/plain": [
       "[<li class=\"cssstyle\" id=\"start\">[국내도서]신나는 파이썬</li>,\n",
       " <li class=\"course\" id=\"start\">[국내도서] 혼자 공부하는 파이썬</li>,\n",
       " <li class=\"course\" id=\"end\"><a href=\"https://www.aladin.co.kr\">[국내도서] Effective Python 2nd 이펙티브 파이썬 : 파이썬 코딩의 기술 </a></li>]"
      ]
     },
     "execution_count": 14,
     "metadata": {},
     "output_type": "execute_result"
    }
   ],
   "source": [
    "soup.select('body li')"
   ]
  },
  {
   "attachments": {},
   "cell_type": "markdown",
   "metadata": {},
   "source": [
    "## css class이름으로 검색\n",
    "* **'.클래스이름'** 으로 검색한다. \n",
    "* class이름 앞에 점(.)을 사용해야 한다.\n",
    "```python\n",
    "    soup.select('.class1')\n",
    "    soup.select_one('.class1')\n",
    "```"
   ]
  },
  {
   "cell_type": "code",
   "execution_count": 15,
   "metadata": {
    "colab": {
     "base_uri": "https://localhost:8080/"
    },
    "executionInfo": {
     "elapsed": 288,
     "status": "ok",
     "timestamp": 1663115033683,
     "user": {
      "displayName": "miran son",
      "userId": "15448081131789513607"
     },
     "user_tz": -540
    },
    "id": "Y8axtEKNWfu1",
    "outputId": "a096ba07-cbab-4dc0-9fa1-32c2518ada21"
   },
   "outputs": [
    {
     "data": {
      "text/plain": [
       "[<p class=\"cssstyle\">웹페이지에서 필요한 데이터를 추출하는 것</p>,\n",
       " <li class=\"cssstyle\" id=\"start\">[국내도서]신나는 파이썬</li>]"
      ]
     },
     "execution_count": 15,
     "metadata": {},
     "output_type": "execute_result"
    }
   ],
   "source": [
    "soup.select('.cssstyle')"
   ]
  },
  {
   "cell_type": "code",
   "execution_count": 17,
   "metadata": {},
   "outputs": [
    {
     "data": {
      "text/plain": [
       "[<p class=\"cssstyle\">웹페이지에서 필요한 데이터를 추출하는 것</p>]"
      ]
     },
     "execution_count": 17,
     "metadata": {},
     "output_type": "execute_result"
    }
   ],
   "source": [
    "soup.select('p.cssstyle')"
   ]
  },
  {
   "cell_type": "code",
   "execution_count": 18,
   "metadata": {},
   "outputs": [
    {
     "data": {
      "text/plain": [
       "[<li class=\"course\" id=\"start\">[국내도서] 혼자 공부하는 파이썬</li>,\n",
       " <li class=\"course\" id=\"end\"><a href=\"https://www.aladin.co.kr\">[국내도서] Effective Python 2nd 이펙티브 파이썬 : 파이썬 코딩의 기술 </a></li>]"
      ]
     },
     "execution_count": 18,
     "metadata": {},
     "output_type": "execute_result"
    }
   ],
   "source": [
    "soup.select('.course')"
   ]
  },
  {
   "cell_type": "code",
   "execution_count": 19,
   "metadata": {},
   "outputs": [
    {
     "data": {
      "text/plain": [
       "[<li class=\"course\" id=\"start\">[국내도서] 혼자 공부하는 파이썬</li>,\n",
       " <li class=\"course\" id=\"end\"><a href=\"https://www.aladin.co.kr\">[국내도서] Effective Python 2nd 이펙티브 파이썬 : 파이썬 코딩의 기술 </a></li>]"
      ]
     },
     "execution_count": 19,
     "metadata": {},
     "output_type": "execute_result"
    }
   ],
   "source": [
    "soup.select('li.course')"
   ]
  },
  {
   "attachments": {},
   "cell_type": "markdown",
   "metadata": {},
   "source": [
    "> * 크롤링에서 CSS를 활용하는 이유\n",
    "> * 추출 대상 문자열들은 같은 성격을 지닐 확률이 높고,이들은 웹페이지상에서 비슷한 공간에서 비슷한 속성으로 웹디자인이 되어있다. 이런 디자인 패턴을 활용해서 css  는 유니크한 식별자 역할을 하게 된다. "
   ]
  },
  {
   "attachments": {},
   "cell_type": "markdown",
   "metadata": {},
   "source": [
    "## id 이름으로 검색\n",
    "* **#id이름** 으로 검색\n",
    "* id 값은 중복되지 않은 유일한 값이다.\n",
    "* 찾고자 하는 태그에 id값이 있다면 더 쉽게 검색 가능하다.\n",
    "```python\n",
    "    soup.select('#id1')\n",
    "    soup.selec_one('#id1')\n",
    "```"
   ]
  },
  {
   "cell_type": "code",
   "execution_count": 20,
   "metadata": {},
   "outputs": [
    {
     "data": {
      "text/plain": [
       "[<li class=\"course\" id=\"end\"><a href=\"https://www.aladin.co.kr\">[국내도서] Effective Python 2nd 이펙티브 파이썬 : 파이썬 코딩의 기술 </a></li>]"
      ]
     },
     "execution_count": 20,
     "metadata": {},
     "output_type": "execute_result"
    }
   ],
   "source": [
    "soup.select('#end')"
   ]
  },
  {
   "cell_type": "code",
   "execution_count": 21,
   "metadata": {},
   "outputs": [
    {
     "data": {
      "text/plain": [
       "[<li class=\"course\" id=\"end\"><a href=\"https://www.aladin.co.kr\">[국내도서] Effective Python 2nd 이펙티브 파이썬 : 파이썬 코딩의 기술 </a></li>]"
      ]
     },
     "execution_count": 21,
     "metadata": {},
     "output_type": "execute_result"
    }
   ],
   "source": [
    "soup.select('li#end')"
   ]
  },
  {
   "attachments": {},
   "cell_type": "markdown",
   "metadata": {},
   "source": [
    "## 태그의 속성값 가져오기\n",
    "```html\n",
    "<a href=\"https://www.aladin.co.kr\">[국내도서] 혼자 공부하는 파이썬</a>\n",
    "<img src=\"/assets/img/octopus.jpg\" width=\"200px\">\n",
    "```\n",
    "\n",
    "* 이미지나 하이퍼링크에 대한 정보는 태그의 속성에 들어있다. \n",
    "* 태그의 속성값 추출해야한다. \n",
    "* item['속성이름']\n",
    "* item.get('속성이름')"
   ]
  },
  {
   "cell_type": "code",
   "execution_count": 30,
   "metadata": {
    "colab": {
     "base_uri": "https://localhost:8080/"
    },
    "executionInfo": {
     "elapsed": 325,
     "status": "ok",
     "timestamp": 1663115119173,
     "user": {
      "displayName": "miran son",
      "userId": "15448081131789513607"
     },
     "user_tz": -540
    },
    "id": "xWXXriS3Wfu2",
    "outputId": "51fc8633-e21c-4872-c1ba-18dfbf00d4b8"
   },
   "outputs": [
    {
     "data": {
      "text/plain": [
       "<a href=\"http://www.facebook.com\"> 바로가기 </a>"
      ]
     },
     "execution_count": 30,
     "metadata": {},
     "output_type": "execute_result"
    }
   ],
   "source": [
    "atag = soup.select_one('a')\n",
    "atag"
   ]
  },
  {
   "cell_type": "code",
   "execution_count": 31,
   "metadata": {
    "colab": {
     "base_uri": "https://localhost:8080/",
     "height": 35
    },
    "executionInfo": {
     "elapsed": 313,
     "status": "ok",
     "timestamp": 1663115129763,
     "user": {
      "displayName": "miran son",
      "userId": "15448081131789513607"
     },
     "user_tz": -540
    },
    "id": "ilKsm_3hYtPj",
    "outputId": "336a4015-46c8-4754-a6b2-e95d022a13c4"
   },
   "outputs": [
    {
     "data": {
      "text/plain": [
       "'http://www.facebook.com'"
      ]
     },
     "execution_count": 31,
     "metadata": {},
     "output_type": "execute_result"
    }
   ],
   "source": [
    "#attribute 값 가져오기\n",
    "atag['href']"
   ]
  },
  {
   "cell_type": "code",
   "execution_count": 39,
   "metadata": {},
   "outputs": [
    {
     "data": {
      "text/plain": [
       "'http://www.facebook.com'"
      ]
     },
     "execution_count": 39,
     "metadata": {},
     "output_type": "execute_result"
    }
   ],
   "source": [
    "atag.get('href')"
   ]
  },
  {
   "attachments": {},
   "cell_type": "markdown",
   "metadata": {},
   "source": [
    "## 태그사이의 문자 추출\n",
    "```html\n",
    "<h1 id='title'>[1]크롤링이란?</h1>\n",
    "```\n",
    "* 태그사이의 문자열 추출\n",
    "* .get_text() 또는 .text 를 사용"
   ]
  },
  {
   "cell_type": "code",
   "execution_count": 40,
   "metadata": {
    "colab": {
     "base_uri": "https://localhost:8080/",
     "height": 35
    },
    "executionInfo": {
     "elapsed": 288,
     "status": "ok",
     "timestamp": 1663115052731,
     "user": {
      "displayName": "miran son",
      "userId": "15448081131789513607"
     },
     "user_tz": -540
    },
    "id": "MqNtduMTYZuE",
    "outputId": "2aeb696b-9cf9-4b91-c7d9-eea0e38fccb1"
   },
   "outputs": [
    {
     "data": {
      "text/plain": [
       "<p class=\"cssstyle\">웹페이지에서 필요한 데이터를 추출하는 것</p>"
      ]
     },
     "execution_count": 40,
     "metadata": {},
     "output_type": "execute_result"
    }
   ],
   "source": [
    "#태그 객체 하나 추출\n",
    "soup.select_one('.cssstyle')"
   ]
  },
  {
   "cell_type": "code",
   "execution_count": 41,
   "metadata": {},
   "outputs": [
    {
     "data": {
      "text/plain": [
       "'웹페이지에서 필요한 데이터를 추출하는 것'"
      ]
     },
     "execution_count": 41,
     "metadata": {},
     "output_type": "execute_result"
    }
   ],
   "source": [
    "#태그 객체 하나 추출하고 객체 안의 함수 호출\n",
    "soup.select_one('.cssstyle').get_text()"
   ]
  },
  {
   "cell_type": "code",
   "execution_count": 42,
   "metadata": {},
   "outputs": [
    {
     "data": {
      "text/plain": [
       "'웹페이지에서 필요한 데이터를 추출하는 것'"
      ]
     },
     "execution_count": 42,
     "metadata": {},
     "output_type": "execute_result"
    }
   ],
   "source": [
    "#태그 객체 하나 추출하고 객체 안의 변수 호출\n",
    "soup.select_one('.cssstyle').text"
   ]
  },
  {
   "cell_type": "code",
   "execution_count": 43,
   "metadata": {
    "id": "h8TpniPvWfu2"
   },
   "outputs": [
    {
     "data": {
      "text/plain": [
       "[<p class=\"cssstyle\">웹페이지에서 필요한 데이터를 추출하는 것</p>]"
      ]
     },
     "execution_count": 43,
     "metadata": {},
     "output_type": "execute_result"
    }
   ],
   "source": [
    "#css select path를 사용해서\n",
    "soup.select('p.cssstyle')"
   ]
  },
  {
   "cell_type": "code",
   "execution_count": 44,
   "metadata": {},
   "outputs": [
    {
     "ename": "AttributeError",
     "evalue": "ResultSet object has no attribute 'get_text'. You're probably treating a list of elements like a single element. Did you call find_all() when you meant to call find()?",
     "output_type": "error",
     "traceback": [
      "\u001b[0;31m---------------------------------------------------------------------------\u001b[0m",
      "\u001b[0;31mAttributeError\u001b[0m                            Traceback (most recent call last)",
      "Cell \u001b[0;32mIn[44], line 2\u001b[0m\n\u001b[1;32m      1\u001b[0m \u001b[38;5;66;03m# 왜 에러가 날까?\u001b[39;00m\n\u001b[0;32m----> 2\u001b[0m \u001b[43msoup\u001b[49m\u001b[38;5;241;43m.\u001b[39;49m\u001b[43mselect\u001b[49m\u001b[43m(\u001b[49m\u001b[38;5;124;43m'\u001b[39;49m\u001b[38;5;124;43mp.cssstyle\u001b[39;49m\u001b[38;5;124;43m'\u001b[39;49m\u001b[43m)\u001b[49m\u001b[38;5;241;43m.\u001b[39;49m\u001b[43mget_text\u001b[49m()\n",
      "File \u001b[0;32m~/.local/lib/python3.10/site-packages/bs4/element.py:2433\u001b[0m, in \u001b[0;36mResultSet.__getattr__\u001b[0;34m(self, key)\u001b[0m\n\u001b[1;32m   2431\u001b[0m \u001b[38;5;28;01mdef\u001b[39;00m \u001b[38;5;21m__getattr__\u001b[39m(\u001b[38;5;28mself\u001b[39m, key):\n\u001b[1;32m   2432\u001b[0m \u001b[38;5;250m    \u001b[39m\u001b[38;5;124;03m\"\"\"Raise a helpful exception to explain a common code fix.\"\"\"\u001b[39;00m\n\u001b[0;32m-> 2433\u001b[0m     \u001b[38;5;28;01mraise\u001b[39;00m \u001b[38;5;167;01mAttributeError\u001b[39;00m(\n\u001b[1;32m   2434\u001b[0m         \u001b[38;5;124m\"\u001b[39m\u001b[38;5;124mResultSet object has no attribute \u001b[39m\u001b[38;5;124m'\u001b[39m\u001b[38;5;132;01m%s\u001b[39;00m\u001b[38;5;124m'\u001b[39m\u001b[38;5;124m. You\u001b[39m\u001b[38;5;124m'\u001b[39m\u001b[38;5;124mre probably treating a list of elements like a single element. Did you call find_all() when you meant to call find()?\u001b[39m\u001b[38;5;124m\"\u001b[39m \u001b[38;5;241m%\u001b[39m key\n\u001b[1;32m   2435\u001b[0m     )\n",
      "\u001b[0;31mAttributeError\u001b[0m: ResultSet object has no attribute 'get_text'. You're probably treating a list of elements like a single element. Did you call find_all() when you meant to call find()?"
     ]
    }
   ],
   "source": [
    "# 왜 에러가 날까?\n",
    "soup.select('p.cssstyle').get_text()"
   ]
  },
  {
   "cell_type": "code",
   "execution_count": 46,
   "metadata": {},
   "outputs": [
    {
     "data": {
      "text/plain": [
       "<p class=\"cssstyle\">웹페이지에서 필요한 데이터를 추출하는 것</p>"
      ]
     },
     "execution_count": 46,
     "metadata": {},
     "output_type": "execute_result"
    }
   ],
   "source": [
    "#리스트로 반환되니 인덱스로 접근\n",
    "soup.select('p.cssstyle')[0]"
   ]
  },
  {
   "cell_type": "code",
   "execution_count": 47,
   "metadata": {},
   "outputs": [
    {
     "data": {
      "text/plain": [
       "'웹페이지에서 필요한 데이터를 추출하는 것'"
      ]
     },
     "execution_count": 47,
     "metadata": {},
     "output_type": "execute_result"
    }
   ],
   "source": [
    "#리스트로 반환되니 인덱스로 접근하고\n",
    "#그러면 태그 객체를 얻을 수 있으니 태그 객체안의 함수 호출 \n",
    "soup.select('p.cssstyle')[0].get_text()"
   ]
  },
  {
   "cell_type": "code",
   "execution_count": 48,
   "metadata": {},
   "outputs": [
    {
     "data": {
      "text/plain": [
       "[<p class=\"cssstyle\">웹페이지에서 필요한 데이터를 추출하는 것</p>]"
      ]
     },
     "execution_count": 48,
     "metadata": {},
     "output_type": "execute_result"
    }
   ],
   "source": [
    "ptags = soup.select('p.cssstyle')\n",
    "ptags"
   ]
  },
  {
   "cell_type": "code",
   "execution_count": 49,
   "metadata": {},
   "outputs": [
    {
     "data": {
      "text/plain": [
       "<p class=\"cssstyle\">웹페이지에서 필요한 데이터를 추출하는 것</p>"
      ]
     },
     "execution_count": 49,
     "metadata": {},
     "output_type": "execute_result"
    }
   ],
   "source": [
    "ptag = ptags[0]\n",
    "ptag"
   ]
  },
  {
   "cell_type": "code",
   "execution_count": 50,
   "metadata": {},
   "outputs": [
    {
     "data": {
      "text/plain": [
       "'웹페이지에서 필요한 데이터를 추출하는 것'"
      ]
     },
     "execution_count": 50,
     "metadata": {},
     "output_type": "execute_result"
    }
   ],
   "source": [
    "result = ptag.get_text()\n",
    "result"
   ]
  },
  {
   "cell_type": "code",
   "execution_count": 51,
   "metadata": {},
   "outputs": [
    {
     "data": {
      "text/plain": [
       "<ul id=\"aladin_list\">\n",
       "<li class=\"cssstyle\" id=\"start\">[국내도서]신나는 파이썬</li>\n",
       "<li class=\"course\" id=\"start\">[국내도서] 혼자 공부하는 파이썬</li>\n",
       "<li class=\"course\" id=\"end\"><a href=\"https://www.aladin.co.kr\">[국내도서] Effective Python 2nd 이펙티브 파이썬 : 파이썬 코딩의 기술 </a></li>\n",
       "</ul>"
      ]
     },
     "execution_count": 51,
     "metadata": {},
     "output_type": "execute_result"
    }
   ],
   "source": [
    "soup.select_one('ul')"
   ]
  },
  {
   "cell_type": "code",
   "execution_count": 52,
   "metadata": {},
   "outputs": [
    {
     "data": {
      "text/plain": [
       "'\\n[국내도서]신나는 파이썬\\n[국내도서] 혼자 공부하는 파이썬\\n[국내도서] Effective Python 2nd 이펙티브 파이썬 : 파이썬 코딩의 기술 \\n'"
      ]
     },
     "execution_count": 52,
     "metadata": {},
     "output_type": "execute_result"
    }
   ],
   "source": [
    "txt = soup.select_one('ul').get_text()\n",
    "txt"
   ]
  },
  {
   "cell_type": "code",
   "execution_count": 53,
   "metadata": {},
   "outputs": [
    {
     "name": "stdout",
     "output_type": "stream",
     "text": [
      "\n",
      "[국내도서]신나는 파이썬\n",
      "[국내도서] 혼자 공부하는 파이썬\n",
      "[국내도서] Effective Python 2nd 이펙티브 파이썬 : 파이썬 코딩의 기술 \n",
      "\n"
     ]
    }
   ],
   "source": [
    "print(txt)"
   ]
  },
  {
   "cell_type": "code",
   "execution_count": 54,
   "metadata": {},
   "outputs": [
    {
     "name": "stdout",
     "output_type": "stream",
     "text": [
      "\n",
      "[국내도서]신나는파이썬\n",
      "[국내도서]혼자공부하는파이썬\n",
      "[국내도서]EffectivePython2nd이펙티브파이썬:파이썬코딩의기술\n",
      "\n"
     ]
    }
   ],
   "source": [
    "print(txt.replace(\" \",\"\"))"
   ]
  },
  {
   "attachments": {},
   "cell_type": "markdown",
   "metadata": {},
   "source": [
    "### 내맘대로 추출"
   ]
  },
  {
   "cell_type": "code",
   "execution_count": 76,
   "metadata": {},
   "outputs": [
    {
     "name": "stdout",
     "output_type": "stream",
     "text": [
      "웹페이지에서 필요한 데이터를 추출하는 것\n",
      "http://www.facebook.com\n"
     ]
    }
   ],
   "source": [
    "# 라이브러리 임포트\n",
    "from bs4 import BeautifulSoup\n",
    "# BeautifulSoup 객체(html -> 파싱해서 객체)\n",
    "soup = BeautifulSoup(html, 'html.parser')\n",
    "# 내가원하는 텍스트 추출\n",
    "print(soup.select_one('p').get_text())\n",
    "# 내가 원하는 속성 추출\n",
    "atag = soup.select_one('a')\n",
    "print(atag['href'])"
   ]
  }
 ],
 "metadata": {
  "colab": {
   "collapsed_sections": [],
   "provenance": []
  },
  "kernelspec": {
   "display_name": "Python 3",
   "language": "python",
   "name": "python3"
  },
  "language_info": {
   "codemirror_mode": {
    "name": "ipython",
    "version": 3
   },
   "file_extension": ".py",
   "mimetype": "text/x-python",
   "name": "python",
   "nbconvert_exporter": "python",
   "pygments_lexer": "ipython3",
   "version": "3.10.12"
  },
  "orig_nbformat": 4
 },
 "nbformat": 4,
 "nbformat_minor": 0
}
