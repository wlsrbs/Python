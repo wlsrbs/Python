{
 "cells": [
  {
   "attachments": {},
   "cell_type": "markdown",
   "metadata": {},
   "source": [
    "# 크롤링 실전"
   ]
  },
  {
   "attachments": {},
   "cell_type": "markdown",
   "metadata": {},
   "source": [
    "## 1. 네이버 증권:인기 검색 종목\n",
    "\n",
    "https://finance.naver.com/"
   ]
  },
  {
   "cell_type": "code",
   "execution_count": 98,
   "metadata": {},
   "outputs": [
    {
     "name": "stdout",
     "output_type": "stream",
     "text": [
      "삼성전자\n",
      "제주반도체\n",
      "고영\n",
      "HD현대일렉..\n",
      "두산에너빌리..\n"
     ]
    }
   ],
   "source": [
    "# 패턴 1. 라이브러리 로드\n",
    "import requests\n",
    "from bs4 import BeautifulSoup\n",
    "\n",
    "# 패턴 2. 크롤링하고 싶은 페이지 URL넣음\n",
    "res = requests.get('https://finance.naver.com/')\n",
    "\n",
    "# 패턴 3. 데이터 구조화\n",
    "soup = BeautifulSoup(res.content, 'html.parser')\n",
    "\n",
    "# 패턴 4. 크롤링 하고 싶은 내용 HTML 태그 지정\n",
    "css_selector = \"div.aside_area.aside_popular > table > tbody > tr > th > a\"\n",
    "mydata = soup.select(css_selector)\n",
    "for tag in mydata:\n",
    "    print(tag.get_text())"
   ]
  },
  {
   "attachments": {},
   "cell_type": "markdown",
   "metadata": {},
   "source": [
    "## 2. 네이버 증권:인기 검색 종목 2"
   ]
  },
  {
   "cell_type": "code",
   "execution_count": 166,
   "metadata": {
    "scrolled": true
   },
   "outputs": [
    {
     "name": "stdout",
     "output_type": "stream",
     "text": [
      "삼성전자 53,500 200\n",
      "제주반도체 12,700 2,930\n",
      "두산에너빌리.. 21,900 150\n",
      "LG에너지솔.. 371,500 21,000\n",
      "HD현대일렉.. 385,000 33,000\n"
     ]
    }
   ],
   "source": [
    "# 패턴 1. 라이브러리 로드\n",
    "import requests\n",
    "from bs4 import BeautifulSoup\n",
    "\n",
    "# 패턴 2. 크롤링하고 싶은 페이지 URL넣음\n",
    "res = requests.get('https://finance.naver.com/')\n",
    "\n",
    "# 패턴 3. 데이터 구조화\n",
    "soup = BeautifulSoup(res.content, 'html.parser')\n",
    "\n",
    "# 패턴 4. 크롤링 하고 싶은 내용 HTML 태그 지정\n",
    "css_selector = \"div.aside_area.aside_popular > table > tbody > tr\"\n",
    "mydata = soup.select(css_selector)\n",
    "\n",
    "for tag in mydata:\n",
    "    name = tag.select_one('a').get_text()\n",
    "    price = tag.select_one('td').get_text()\n",
    "    rise_price = tag.select_one('td > span').get_text().strip()\n",
    "    print(name, price, rise_price)"
   ]
  },
  {
   "attachments": {},
   "cell_type": "markdown",
   "metadata": {},
   "source": [
    "## 3. 네이버 증권: 해외 증시 "
   ]
  },
  {
   "cell_type": "code",
   "execution_count": 182,
   "metadata": {
    "scrolled": true
   },
   "outputs": [
    {
     "name": "stdout",
     "output_type": "stream",
     "text": [
      "다우산업 43,487.83 상승\n",
      " 나스닥 19,630.20 상승\n",
      " 홍콩H 7,250.83 상승\n",
      " 상해종합 3,247.84 상승\n",
      " 니케이225 38,905.86 상승\n"
     ]
    }
   ],
   "source": [
    "import requests\n",
    "from bs4 import BeautifulSoup\n",
    "res = requests.get('https://finance.naver.com/sise/')\n",
    "soup = BeautifulSoup(res.content,'html.parser')\n",
    "\n",
    "items = soup.select(' div.rgt > ul.lst_major > li')\n",
    "\n",
    "for item in items:\n",
    "    print(item.select_one('a').get_text(), item.select_one('span').get_text(), item.select_one('em > span').get_text())"
   ]
  },
  {
   "cell_type": "markdown",
   "metadata": {},
   "source": [
    "## 관심있는 종목에 대한 정보 크롤링"
   ]
  },
  {
   "cell_type": "code",
   "execution_count": 189,
   "metadata": {},
   "outputs": [
    {
     "name": "stdout",
     "output_type": "stream",
     "text": [
      "120,700\n"
     ]
    }
   ],
   "source": [
    "import requests\n",
    "from bs4 import BeautifulSoup\n",
    "res = requests.get('https://finance.naver.com/item/main.nhn?code=028260')\n",
    "soup = BeautifulSoup(res.content,'html.parser')\n",
    "\n",
    "css_selector = '#chart_area > div.rate_info > div > p.no_today > em > span'\n",
    "\n",
    "today = soup.select_one(css_selector)\n",
    "print(today.get_text())"
   ]
  },
  {
   "cell_type": "markdown",
   "metadata": {},
   "source": [
    "# 검색어를 이용한 크롤링"
   ]
  },
  {
   "cell_type": "code",
   "execution_count": 191,
   "metadata": {},
   "outputs": [
    {
     "name": "stdout",
     "output_type": "stream",
     "text": [
      "403\n",
      "<html>\n",
      "<head>\n",
      "<meta charset=\"utf-8\">\n",
      "<title>G마켓 - 쇼핑을 바꾸는 쇼핑</title>\n",
      "<meta http-equiv=\"X-UA-Compatible\" content=\"IE=edge\">\n",
      "<meta name=\"viewport\" content=\"initial-scale=1.0, maximum-scale=1.0, minimum-scale=1.0, user-scalable=yes, width=device-width, height=device-height\">\n",
      "<style>\n",
      "  body, html {\n",
      "    height: 100%; /* 전체 높이를 100%로 설정 */\n",
      "    margin: 0; /* 기본 마진 제거 */\n",
      "    padding: 0; /* 기본 패딩 제거 */\n",
      "  }\n",
      "  #wrap {\n",
      "    display: flex;\n",
      "    justify-content: center;\n",
      "    align-items: center;\n",
      "    height: 100%; /* 높이를 100%로 설정하여 수직 중앙 정렬 */\n",
      "    text-align: center; /* 텍스트 중앙 정렬 */\n",
      "  }\n",
      "  .wrap {\n",
      "    display: flex;\n",
      "    justify-content: center;\n",
      "    align-items: center;\n",
      "    width: 100%; /* 전체 너비를 100%로 설정 */\n",
      "  }\n",
      "  img {\n",
      "    max-width: 100%; /* 이미지 최대 너비 제한 */\n",
      "    height: auto; /* 이미지 높이 자동 조절 */\n",
      "  }\n",
      "</style>\n",
      "<meta http-equiv=\"refresh\" content=\"390\">\n",
      "</head>\n",
      "<body>\n",
      "<div id=\"wrap\">\n",
      "  <div id=\"container\">\n",
      "    <div class=\"content\">\n",
      "      <section>\n",
      "        <div class=\"msg_error error404\">\n",
      "          <div class=\"img_error\">\n",
      "            <br></br>\n",
      "            <br></br>\n",
      "            <span class=\"bg_warning_red\" title=\"에러이미지\"></span>\n",
      "            <img class=\"m_hide\" src=\"data:image/png;base64,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\" alt=\"\" style=\"display: block; margin-left: auto; margin-right: auto;\">\n",
      "          </div>\n",
      "          <H2><p class=\"p_txt1\">사용자 활동 검토 요청 및 안내</p></H2>\n",
      "          <p class=\"p_txt1\">고객님의 사이트 내 활동이 봇의 동작과 유사해 보입니다.</p>\n",
      "          <p class=\"p_txt2\">봇이 아님을 아래 확인해 주시고 도움이 필요하면 고객센터로 연락 부탁드립니다.</p>\n",
      "          <p class=\"p_txt2\">언제나 편안한 서비스 이용을 위해 최선을 다하겠습니다.</p>\n",
      "          <div class=\"wrap\">\n",
      "            <div class=\"main-wrapper\" role=\"main\"><div class=\"main-content\"><noscript><div class=\"h2\"><span id=\"challenge-error-text\">Enable JavaScript and cookies to continue</span></div></noscript></div></div><script>(function(){window._cf_chl_opt={cvId: '3',cZone: \"www.gmarket.co.kr\",cType: 'managed',cRay: '904d160c2f59ea2f',cH: '4n2xPhs1HPxUefHUnPLcv7igzQYHKbCsbHU4xSg.du4-1737355363-1.2.1.1-qkDdQKyPKZqcNPzJBKjj9IVe6sTQsjlNA7tMQkSMnL6ghw05oUlapV_2Q6yIMk_b',cUPMDTk: \"\\/n\\/search?keyword=%EA%B3%B5%EC%9C%A0%EA%B8%B0&__cf_chl_tk=_4eCInEwRVrcuGh_sWqmwhe.q_IWDm_sGSJChqR5css-1737355363-1.0.1.1-4LyY5LpT0Ic8EOR8ZgCzVLeSMGMGc7YrFi6hFpk56d8\",cFPWv: 'g',cITimeS: '1737355363',cTTimeMs: '1000',cMTimeMs: '390000',cTplC: 1,cTplV: 5,cTplB: 'cf',cK: \"\",fa: \"\\/n\\/search?keyword=%EA%B3%B5%EC%9C%A0%EA%B8%B0&__cf_chl_f_tk=_4eCInEwRVrcuGh_sWqmwhe.q_IWDm_sGSJChqR5css-1737355363-1.0.1.1-4LyY5LpT0Ic8EOR8ZgCzVLeSMGMGc7YrFi6hFpk56d8\",md: \"MjE.N73IOFQXCv1urLY4K1VaZZP.AbmMSy4QWmh2AP8-1737355363-1.2.1.1-B6keXPYsOJa5UPzl4o42tVSimM9PH8wUoTzRbH1LSMDXqZQX6i1SLMjmt4Tj4__KSkvOfcy0Utplxpw5gNa70wWqkTxnzqojxC8FzUGlDlh_v5XclxoUyVCN.ehFkTIET32OZa2no84MFrXpvOfedSCqFVePDRLEkUdW8fa9QdgtLZA8wahmSYhK1Ac0Li.crj.SPSiZpvx410jZuyxY9uIXR4HpZvD1tJyzvIP0iZYhg0GCKDzhDl1Gx2PVqD1LqsuxAgumyLaUhMOSkEJvg5F3te5LVMVkEAWVt69xs5YMjdrPKDAnhLGWxl3w573QoulvyODeoWONGD.6b291LDnzrsJ5nZgsoeveYu2eSlwDuvCMCun1tprfF5J5q7tKUNeYH3s.n0Q3cKqKACQzLnMC1I1bNuLL4_7FQ41AkqM.s4mP3xc_1pR_2ZKjpJ1nfWuX3ZhG17_S_b0ZGFF3ELJ0LW4GVdaf_LLQ7AApbBnXLMDweyffOm6wUvO3eKe7_r5yoI.VwWqMthQM17FJia2zBCoXOUIHKJDCHTjGYtMrKuYOePd1vBNo362YsswD4VwzH_I1fJEhijEhRJvoNPv_j6HAj1k6r2j8sqd0iE2fi6p9wC5s.RbKOJhN6w4kTBveDBXiENkwFGXWGGPvQfUbUsqavM7_W9gjFBwy80V8_CAzDAh4Jf7kIp.fOpo6p0mKJsKn1oWIkxPDHq9oHwxVQ9Bx2L2wPKtbfDrEC7gAafnCSHkvXXYeJOgWJBVha3YOtuJTv6FCnMq2BK.JDiOqTlga1OJr5HVRV5kvnQPmTiKeirQm4L3d98D2NU1JVlB26yrp8plBINt4.r4_8KH.lAskJTDQ_z4zZ1pdoFmq4CtRG6Eb7_eZnNTnU5QUvVIBc46xg_GAoX2RKgryWz3aqJsBpZaVDZ_uxjkx_C3nHpP5Tw5HeDgnuU482HxKTOplbzSw1j4PpkVWXC5Pl_IMgaTQaDFzW.ntAsVBmyJRlE761OPs3VcbwWyHJP7AD0TznmMIya44GGhlDV5T8z7KF792i4kzW6T4dKcLrurXEkz4CdX_YObVOpy2aFZV5T5FkIYT0Mu8vpg0q5Adj_5Zp8.gKnVrTzDOVsgXDf6TVVFr4EzUYmcilEBmSqK8nhnU6JnR4gNzSBlzTbtTwmQTh8MVq7LX5uQEGAL3sh.hOQQiYPocRU34jjqCpcGlSO6KMnyQRezlxQBJKKjXCjDGWp0MkKO4YqZIvVByAkaarJtEVZKhuQt9BdAvLBYj.0TAArNtWH6sDDRcsfkevBSRC9Oi9rP54OZDgLYBo_VjpXqiMP8yDUATmBzbGyAORA.VoyKPzO.Te9brMwq2sx4HgxRmECDIPmu9PUUFva4P4s2ckMwWxu.FCy51dLfa9UiwgwB3ETdGxBY8db3DW4yX8TNRP3s6DmLpzPkDBxBVckX.1NRv2UcVxtBcmjkw_czUtlfizhhPh3RHOYw5LAj9laTkxGXiUGfHHmskgWpOiBbrMK4clDZf.vL8._Pni0i6omwus11794O8HkajNSbX76f6b6mnk.1KV2C02VZKDbktidlIqd3hiqt5omaOMo80AQfXmNnervvRpxvmAV8aMcqJk_r4LNStAjctWcsPS_7im5sLN0ylUhQJge2sqA0Xp1KXPp.GRlvMRY04b.mZq6ugYrjIRFSRIXqW5XqP8xyMwAYHtAaocfinKTnD6eKINH3ChbwH4ZSCj8VAkio_YywWbleKjrUugRNvHoCN6mJeR8aL1Po7pxRgNt1gyCSb9IU4tm8HIkm7mkswu1aJIRWV8R_vTzQkXx9.yRW7ogNpk7jhAnI24YESUYh1sSKdJX9379veqgSpKEPdqN0qMOyX24crQFQV1RaUrnsFVanjUnj03ydmu2WHmrJ1Hg5BE.jrMWOEeMPMI5VB9gPfQxWnATUPVNsitCPnP60S1HCsP9Ne_ctME2B8OohmnDsvzF64V5qRV7k.zEOZoe0lOssNXSlTtn0Lltl2Z07p43Mycu1kPqpN9iNZiScjJh2yRL6ZnvBx3VYc.Y3pFSEnCzHOOQOudS2_FOqTo53AM6rc3Ni0ZyV8IPbp8aOtSQf3X0tRV318qkPrvghhyxhy4w9hCQqbZuNH1Pl3PlbXiKx2Iwz0ihCClf8ZC2eeMiKpxGAj3XGKU9UTVGAp5kirKUf2Mwb79c5TdToXInN1aTItP4x_4DGZSBVRT6J4oWB7Jsf1P8w1syXzAYL15f5gl3B6bLcEItp7CrUgkGR7cgC3rnHCK8PpZ6pi0usWlWdy08dJVjRkEEGCxOYyJ8DrGqAHvVeidgKi30H5n9d5PFSq44dFdVuQUxnSP9G8oTU8e4U3rzn3RUfp.ANtkJ4AUMOGZ_yyQ7attR1qOXb9N0zAzMjown1BvgrTP3BSp4VKOuKuJF0FWL2XnyaNeg4JBYfdMS08DdvWmdPDNGAtrkoUlePIyN28vDJn_L1l\",mdrd: \"UdWTyFQ5fNpD8RzGyXScEzCd0pxVbp4Krq.dkzPVeRg-1737355363-1.2.1.1-E_L0n5EJssPQX.i6iwlINr8D4epevYSZTClMpsh.N8.hAQHsSy6mj_pXBftWf9sHLJieb8K4Mu8uA5xYx4e7l7JkfMEHhOnCaESADFIGqABzo9UZGAO6PCxfcaFR0pNaFrYZAZlr5MbPcCyiWkBuPfqDNvHu2V4rticYZlCjP9uxFQknHS4VtWOfCZSuACsXX.n9SJnNiIDbtzBb0r69lt7tr.JKxAmv840Jk3QijoA_IujrLDD1G6Gzq_m4fbzKV0U8o_GkRK2HjixfOiOeeLeldiNSnVjbpBfhQQ7fGYcfatKFA88ccz3YqSmBHqFjIFPUuzJNxc6rukavxPDuBu6ID5dRXwWgwYpslDPknU_D8Y6nACanqQZke6UePbJkenW5ROrLHIY8Ny6m5XRElQhW1sN6V2qOZXkb1MTMG3sP5QcM1YJxlLmtjnyfapjSAENPwqDMpPzKfBrvcmmYc5gsvYXMdXAg1w3NBBgf17DRZBHrXq.czny1y.sHblQvCgZNmfNDLidvH5XW989q2ttkPt4LrdCVVxSwCvFg1m8l1boF11h.6ig9_ceErbE4Ik56.dXYW4QD00CnvAhOBsv9GQ8o2RzesOA44R1lUcs2jELVg8sDj_a73EwWOrNxx7_8jX52oLqYm.x8J6iuOHzApbpue47wda9RNtob2R0iNTD3sNdkyeYpLVS27axhY4NlEVpomCt3.aB6.So9RkWALCST91AO2fw47VqkCiUdjN1nWbl5uHwzMs_kRHJEg0DNtZbGsUkFr4k9DdOYAmDJaMmRG3ZT0V.Tt2mKuQmyXHWARnlh8sSNt4LcfuCdc_cvLn1qdc4IjKjqea9ZG9kkEAikXzpuom0itXMd.7ceUZKVGFCRomIspSsmdv2S8bHNGE.KnPhQ1VeWvcDS3eYNkO9MnwaHDPw_JsX0zU7ktCvBvvr13olwxRnmlsOsFQc2zNxhKJUj8qLdBt0cghjrN1b5Etq996qUlpKJAUEjXMHTb1gt7h_xJ6qiFlDwCGqE4dqgB7NI5gkV8uawXFD0SP354HJUwfz877H6KWSuUv8DqMCWLPJV9z9AauJ9fZBxp5hmWh.94ch0MfnzG.S9fGztLREU4yG01p3ZrBtf_owx7N9IR9AyjN8Z89laN2iwAfjVBSMn3XUYOIqzuUmoXTlZ7wiedQPD5VjndgjGN5AcrjycRBQ1MkHtBPn0XGZtfO4y9QxBqv3ENoujniwBlcVPdLyGyJJ6Vf2AOr11frzamDFYM02W9_5mi0f.86z2EHYchijLF2I9e_nxX81r3J7eXwslfMzNlFciwV52ofJSOL08.RNPKHK8iQpRIvITzMTqJn_d6ugkV1BYXWRZBk4VjwPOjNSJNjz8PVjtcc4Lp5sRKzAvD6C1llly2bCgcqZf57bNzAXG5nVs_i84UPjEL3jLgdWvCLjKbDJaFJgpFeFPdNqm4bX_fil0DFc8MhDgJGTsbvaf9Y.9.YQdj.c_d6aJDpmTUXhd4JKHbJxWdzgvNCW37kN0grWXY86qbtcyVeCCEoDg1uMaWvxXTu0lOngDpHMzXHF2LmR_qo.WTMREJF03MmUFhM0l7E1cQ9tVmy7a3avn8nbNij5Im8koy.a37UUZUPfc_Y0tt_JVVLggoWcKEGlLSTD_vbKi2e7i9xVCEiF_3C2V07zlUgCsiWHerv3tP1rs0qDQsNIyE1KQ4XJ6cH1OcLStPW4hHsTiZVb0UjvsUgSsniPTZ8ABAu6z2YAJ1uIlETKlLyMFPM_wWQ9fQxXixpstb2BBRq4slcDwDC_hvELz5Z0o2teCFQnxe8TLRNqYWY7oyoisopVsPROYp_QDpxSpFoZOLJ2mR8STf31LWGVINnFt_gB0EobfVi_wquM66x9r3aPCXUomRujpy0ud.Qn3hBgua8_DibmNsb7S9jlt0SutNrcluoyo6THzi5xlAJ.2z9vH7arv2b3ubjHhZa8WHlJdJi3Qsh9ewO15dEXzxz8Q1aoNPTBF9Z9ewSwX4RbnjpTlPLEBsrMMqwTYJ4SnhNi9_3DEkCPATDxSBRCsFgfN0yR_ewdwOJ2g.UuznA1aDIeiD98KhoRinD4WcCzRLmmSrnddBh3FHmDENmuSuXQ8lW8ZwewTaa64AhQ0HavtoavfLRjwjGM6UqHy2NW9812u0T.FmUTdR3GbXBznbFscXfhUP8QmKGPpvbB1u2Krv5.2xTGaN3mzMn017COMpOsJMH8pdqX.XFomOYowJlwKGAAoygXul5uYb0oGSVU\"};var cpo = document.createElement('script');cpo.src = '/cdn-cgi/challenge-platform/h/g/orchestrate/chl_page/v1?ray=904d160c2f59ea2f';window._cf_chl_opt.cOgUHash = location.hash === '' && location.href.indexOf('#') !== -1 ? '#' : location.hash;window._cf_chl_opt.cOgUQuery = location.search === '' && location.href.slice(0, location.href.length - window._cf_chl_opt.cOgUHash.length).indexOf('?') !== -1 ? '?' : location.search;if (window.history && window.history.replaceState) {var ogU = location.pathname + window._cf_chl_opt.cOgUQuery + window._cf_chl_opt.cOgUHash;history.replaceState(null, null, \"\\/n\\/search?keyword=%EA%B3%B5%EC%9C%A0%EA%B8%B0&__cf_chl_rt_tk=_4eCInEwRVrcuGh_sWqmwhe.q_IWDm_sGSJChqR5css-1737355363-1.0.1.1-4LyY5LpT0Ic8EOR8ZgCzVLeSMGMGc7YrFi6hFpk56d8\" + window._cf_chl_opt.cOgUHash);cpo.onload = function() {history.replaceState(null, null, ogU);}}document.getElementsByTagName('head')[0].appendChild(cpo);}());</script>\n",
      "          </div>\n",
      "<div lass=\"container\">검토번호: 904d160c2f59ea2f </div>\n",
      "          </div>\n",
      "      </section>\n",
      "    </div>\n",
      "  </div>\n",
      "</div>\n",
      "</body>\n",
      "</html>       \n",
      "\n"
     ]
    }
   ],
   "source": [
    "import requests\n",
    "url = \"https://browse.gmarket.co.kr/search\"\n",
    "payload = {'keyword': '공유기'}\n",
    "r = requests.get(url, params=payload)\n",
    "print(r.status_code)\n",
    "print(r.text)"
   ]
  },
  {
   "cell_type": "code",
   "execution_count": 196,
   "metadata": {},
   "outputs": [
    {
     "name": "stdout",
     "output_type": "stream",
     "text": [
      "200\n",
      "<!DOCTYPE HTML>\n",
      "<html lang=\"ko\">\n",
      "<head>\n",
      "    <meta http-equiv=\"Content-Type\" content=\"text/html; charset=utf-8\"/>\n",
      "    <meta name=\"viewport\" content=\"width=device-width,initial-scale=1.0,maximum-scale=1.0,minimum-scale=1.0,user-scalable=no\">\n",
      "    <meta name=\"description\" lang=\"ko\" content=\"ì ì í ë¤ì íì¸í´ì£¼ì¸ì! : ë¤ì´ë² ì¼í\">\n",
      "    <title>ìë¬ íì´ì§ : ë¤ì´ë² ì¼í</title>\n",
      "    <link rel=\"stylesheet\" type=\"text/css\" href=\"https://shopv.pstatic.net/web/maintenance/limit/naver_error.css\">\n",
      "    <script src=\"https://shopv.pstatic.net/web/maintenance/limit/grafolio.js\"></script>\n",
      "</head>\n",
      "<body>\n",
      "<div id=\"u_skip\" class=\"u_skip\">\n",
      "    <a href=\"#content\">ë³¸ë¬¸ ë°ë¡ê°ê¸°</a>\n",
      "</div>\n",
      "<div class=\"wrap\">\n",
      "    <div class=\"header\" role=\"banner\">\n",
      "        <h1 class=\"logo\">\n",
      "            <a href=\"https://naver.com\" class=\"logo_link\">\n",
      "                <img src=\"https://shopv.pstatic.net/web/maintenance/limit/naver_logo.png\" width=\"90\" height=\"16\" alt=\"ë¤ì´ë²\">\n",
      "            </a>\n",
      "        </h1>\n",
      "        <div class=\"nav\" role=\"navigation\">\n",
      "            <a href=\"https://naver.com\" class=\"nav_link\">ë¤ì´ë²í</a>\n",
      "            <a href=\"https://help.pay.naver.com\" class=\"nav_link\">ì¼í&íì´ ê³ ê°ì¼í°</a>\n",
      "        </div>\n",
      "    </div>\n",
      "    <hr>\n",
      "    <div class=\"container\" role=\"main\">\n",
      "        <div class=\"content\" id=\"content\">\n",
      "            <div class=\"image_area _errorImage\"></div>\n",
      "\n",
      "            <div class=\"info_area\">\n",
      "                <div class=\"info_txt\">\n",
      "                    <strong class=\"tit\">ì ì í ë¤ì íì¸í´ì£¼ì¸ì!</strong>\n",
      "                    <p class=\"txt\">\n",
      "                        ì§ê¸ ì´ ìë¹ì¤ì ì°ê²°í  ì ììµëë¤.<br>\n",
      "                        ë¬¸ì ë¥¼ í´ê²°íê¸° ìí´ ì´ì¬í ë¸ë ¥íê³  ììµëë¤.<br>\n",
      "                        ì ì í ë¤ì íì¸í´ì£¼ì¸ì.\n",
      "                    </p>\n",
      "                </div>\n",
      "                <div class=\"info_link\">\n",
      "                    <a href=\"javascript:history.go(-1)\" class=\"link_prev\">ì´ì  íì´ì§</a><a href=\"https://shopping.naver.com\" class=\"link_home\">ë¤ì´ë² ì¼í í</a>\n",
      "                </div>\n",
      "            </div>\n",
      "        </div>\n",
      "    </div>\n",
      "    <hr>\n",
      "    <div class=\"footer\" role=\"contentinfo\">\n",
      "        <address>\n",
      "            <span>Copyright</span> Â©<a href=\"http://www.navercorp.com\" class=\"link_naver\" target=\"_blank\">NAVER Corp.</a> <span>All Rights Reserved.</span>\n",
      "        </address>\n",
      "    </div>\n",
      "</div>\n",
      "</body>\n",
      "</html>\n"
     ]
    }
   ],
   "source": [
    "import requests\n",
    "url = \"https://shopping.naver.com/ns/home\"\n",
    "payload = {'keyword': '공유기'}\n",
    "r = requests.get(url, params=payload)\n",
    "print(r.status_code)\n",
    "print(r.text)"
   ]
  }
 ],
 "metadata": {
  "kernelspec": {
   "display_name": "Python 3",
   "language": "python",
   "name": "python3"
  },
  "language_info": {
   "codemirror_mode": {
    "name": "ipython",
    "version": 3
   },
   "file_extension": ".py",
   "mimetype": "text/x-python",
   "name": "python",
   "nbconvert_exporter": "python",
   "pygments_lexer": "ipython3",
   "version": "3.10.12"
  },
  "toc": {
   "base_numbering": 1,
   "nav_menu": {},
   "number_sections": true,
   "sideBar": true,
   "skip_h1_title": false,
   "title_cell": "Table of Contents",
   "title_sidebar": "Contents",
   "toc_cell": false,
   "toc_position": {
    "height": "calc(100% - 180px)",
    "left": "10px",
    "top": "150px",
    "width": "273px"
   },
   "toc_section_display": true,
   "toc_window_display": true
  },
  "varInspector": {
   "cols": {
    "lenName": 16,
    "lenType": 16,
    "lenVar": 40
   },
   "kernels_config": {
    "python": {
     "delete_cmd_postfix": "",
     "delete_cmd_prefix": "del ",
     "library": "var_list.py",
     "varRefreshCmd": "print(var_dic_list())"
    },
    "r": {
     "delete_cmd_postfix": ") ",
     "delete_cmd_prefix": "rm(",
     "library": "var_list.r",
     "varRefreshCmd": "cat(var_dic_list()) "
    }
   },
   "position": {
    "height": "450.4px",
    "left": "918px",
    "right": "20px",
    "top": "108px",
    "width": "586px"
   },
   "types_to_exclude": [
    "module",
    "function",
    "builtin_function_or_method",
    "instance",
    "_Feature"
   ],
   "window_display": false
  }
 },
 "nbformat": 4,
 "nbformat_minor": 4
}
